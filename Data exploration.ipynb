{
 "cells": [
  {
   "cell_type": "code",
   "execution_count": 1,
   "metadata": {},
   "outputs": [
    {
     "name": "stdout",
     "output_type": "stream",
     "text": [
      "dict_keys(['pixels', 'overfeat', 'labels', 'names', 'allow_pickle'])\n"
     ]
    }
   ],
   "source": [
    "import numpy as np\n",
    "import os\n",
    "\n",
    "# Load data\n",
    "with np.load('cifar4-train.npz', allow_pickle=False) as npz_file:\n",
    "    # Load items into a dictionary\n",
    "    cifar = dict(npz_file.items())\n",
    "\n",
    "\n",
    "print(cifar.keys()) # why is there an 'allow_pickle' key ?"
   ]
  },
  {
   "cell_type": "code",
   "execution_count": 2,
   "metadata": {},
   "outputs": [
    {
     "data": {
      "text/plain": [
       "3    0.25\n",
       "2    0.25\n",
       "1    0.25\n",
       "0    0.25\n",
       "dtype: float64"
      ]
     },
     "execution_count": 2,
     "metadata": {},
     "output_type": "execute_result"
    }
   ],
   "source": [
    "# 1 - Print the class distribution, i.e., the proportion of images in each category.\n",
    "labels = cifar['labels']\n",
    "import pandas as pd\n",
    "pd.value_counts(labels, normalize=True)"
   ]
  },
  {
   "cell_type": "code",
   "execution_count": 3,
   "metadata": {},
   "outputs": [],
   "source": [
    "# 2 - What is the accuracy of the \"most-frequent\" baseline?\n",
    "# the accuracy of the most-frequent baseline is 1/4, as the distribution is uniform between the 4 labels."
   ]
  },
  {
   "cell_type": "code",
   "execution_count": 4,
   "metadata": {},
   "outputs": [
    {
     "name": "stdout",
     "output_type": "stream",
     "text": [
      "flat array shape (5000, 3072)\n",
      "re-shaped array (32, 32, 3)\n"
     ]
    },
    {
     "data": {
      "image/png": "[encoded data removed]",
      "text/plain": [
       "<matplotlib.figure.Figure at 0x11aef0c88>"
      ]
     },
     "metadata": {},
     "output_type": "display_data"
    },
    {
     "name": "stdout",
     "output_type": "stream",
     "text": [
      "truck\n"
     ]
    }
   ],
   "source": [
    "# 3 - Plot a few images from the data set, e.g., ten images from each category.\n",
    "\n",
    "# load data from the input matrix with the flat vectors of pixels\n",
    "flat_img = cifar['pixels']\n",
    "print('flat array shape',flat_img.shape)\n",
    "\n",
    "# Reshape the \"flat vector\" of the first array into a 32x32x3 array \n",
    "img = flat_img[0].reshape(32, 32, 3)\n",
    "print('re-shaped array',img.shape)\n",
    "\n",
    "#plot image\n",
    "%matplotlib inline\n",
    "import matplotlib.pyplot as plt\n",
    "plt.figure(figsize=(2,2)) # 2 by 2 figure (in inches)\n",
    "plt.imshow(img)\n",
    "plt.axis('off') # Hide the x- and y-axis\n",
    "plt.show()\n",
    "print(cifar['names'][labels[0]])"
   ]
  },
  {
   "cell_type": "code",
   "execution_count": 5,
   "metadata": {},
   "outputs": [],
   "source": [
    "# Function to plot the i-th image from some X/y arrays\n",
    "def show_image(idx, X, y):\n",
    "    # Print its label\n",
    "    label = y[idx]\n",
    "    print('Label: {} ({})'.format(\n",
    "        label,\n",
    "        cifar['names'][label] # Class name\n",
    "    ))\n",
    "    \n",
    "    # Get image pixels\n",
    "    flat_img = X[idx] # has shape (3072,)\n",
    "    \n",
    "    # Reshape the \"flat vector\" into a 32x32x3 array \n",
    "    img = flat_img.reshape(32, 32, 3)\n",
    "    \n",
    "    # Plot the image\n",
    "    plt.figure(figsize=(2,2)) # 2 by 2 figure (in inches)\n",
    "    plt.imshow(img)\n",
    "    plt.axis('off') # Hide the x- and y-axis\n",
    "    plt.show()"
   ]
  },
  {
   "cell_type": "code",
   "execution_count": 6,
   "metadata": {},
   "outputs": [
    {
     "name": "stdout",
     "output_type": "stream",
     "text": [
      "Label: 0 (truck)\n"
     ]
    },
    {
     "data": {
      "image/png": "[encoded data removed]",
      "text/plain": [
       "<matplotlib.figure.Figure at 0x11db53978>"
      ]
     },
     "metadata": {},
     "output_type": "display_data"
    },
    {
     "name": "stdout",
     "output_type": "stream",
     "text": [
      "Label: 0 (truck)\n"
     ]
    },
    {
     "data": {
      "image/png": "[encoded data removed]",
      "text/plain": [
       "<matplotlib.figure.Figure at 0x11db92550>"
      ]
     },
     "metadata": {},
     "output_type": "display_data"
    },
    {
     "name": "stdout",
     "output_type": "stream",
     "text": [
      "Label: 1 (car)\n"
     ]
    },
    {
     "data": {
      "image/png": "[encoded data removed]",
      "text/plain": [
       "<matplotlib.figure.Figure at 0x11dcac4a8>"
      ]
     },
     "metadata": {},
     "output_type": "display_data"
    },
    {
     "name": "stdout",
     "output_type": "stream",
     "text": [
      "Label: 2 (airplane)\n"
     ]
    },
    {
     "data": {
      "image/png": "[encoded data removed]",
      "text/plain": [
       "<matplotlib.figure.Figure at 0x11dc168d0>"
      ]
     },
     "metadata": {},
     "output_type": "display_data"
    },
    {
     "name": "stdout",
     "output_type": "stream",
     "text": [
      "Label: 1 (car)\n"
     ]
    },
    {
     "data": {
      "image/png": "[encoded data removed]",
      "text/plain": [
       "<matplotlib.figure.Figure at 0x11dd8b0f0>"
      ]
     },
     "metadata": {},
     "output_type": "display_data"
    },
    {
     "name": "stdout",
     "output_type": "stream",
     "text": [
      "Label: 2 (airplane)\n"
     ]
    },
    {
     "data": {
      "image/png": "[encoded data removed]",
      "text/plain": [
       "<matplotlib.figure.Figure at 0x11dd9f9b0>"
      ]
     },
     "metadata": {},
     "output_type": "display_data"
    },
    {
     "name": "stdout",
     "output_type": "stream",
     "text": [
      "Label: 1 (car)\n"
     ]
    },
    {
     "data": {
      "image/png": "[encoded data removed]",
      "text/plain": [
       "<matplotlib.figure.Figure at 0x11dcbb9e8>"
      ]
     },
     "metadata": {},
     "output_type": "display_data"
    },
    {
     "name": "stdout",
     "output_type": "stream",
     "text": [
      "Label: 3 (ship)\n"
     ]
    },
    {
     "data": {
      "image/png": "[encoded data removed]",
      "text/plain": [
       "<matplotlib.figure.Figure at 0x10c920470>"
      ]
     },
     "metadata": {},
     "output_type": "display_data"
    },
    {
     "name": "stdout",
     "output_type": "stream",
     "text": [
      "Label: 0 (truck)\n"
     ]
    },
    {
     "data": {
      "image/png": "[encoded data removed]",
      "text/plain": [
       "<matplotlib.figure.Figure at 0x11dbb4e10>"
      ]
     },
     "metadata": {},
     "output_type": "display_data"
    },
    {
     "name": "stdout",
     "output_type": "stream",
     "text": [
      "Label: 3 (ship)\n"
     ]
    },
    {
     "data": {
      "image/png": "[encoded data removed]",
      "text/plain": [
       "<matplotlib.figure.Figure at 0x11dc22630>"
      ]
     },
     "metadata": {},
     "output_type": "display_data"
    }
   ],
   "source": [
    "import random\n",
    "for x in range(10):\n",
    "  show_image(random.randint(1,5000),cifar['pixels'], cifar['labels']) "
   ]
  },
  {
   "cell_type": "code",
   "execution_count": 7,
   "metadata": {},
   "outputs": [
    {
     "name": "stdout",
     "output_type": "stream",
     "text": [
      "X: (5000, 4096)\n",
      "y: (5000,)\n"
     ]
    }
   ],
   "source": [
    "# 4 - Create a scree plot of the OverFeat features.\n",
    "# Create X/y arrays\n",
    "X = cifar['overfeat'].astype(np.float32)\n",
    "y = cifar['labels'].astype(np.float32)\n",
    "\n",
    "print('X:', X.shape)\n",
    "print('y:', y.shape)"
   ]
  },
  {
   "cell_type": "code",
   "execution_count": 8,
   "metadata": {},
   "outputs": [],
   "source": [
    "# Rescale the data\n",
    "from sklearn.preprocessing import StandardScaler\n",
    "\n",
    "# Create Standard scaler\n",
    "scaler = StandardScaler()\n",
    "\n",
    "# Rescale data\n",
    "X_rescaled = scaler.fit_transform(X)"
   ]
  },
  {
   "cell_type": "code",
   "execution_count": 9,
   "metadata": {},
   "outputs": [
    {
     "data": {
      "text/plain": [
       "(4096,)"
      ]
     },
     "execution_count": 9,
     "metadata": {},
     "output_type": "execute_result"
    }
   ],
   "source": [
    "# Create PCA transformer\n",
    "from sklearn.decomposition import PCA\n",
    "pca = PCA(n_components=None)\n",
    "\n",
    "# Apply PCA to rescaled data\n",
    "pca.fit(X_rescaled)\n",
    "\n",
    "# Proportion of variance explained\n",
    "pve = pca.explained_variance_ratio_\n",
    "pve.shape"
   ]
  },
  {
   "cell_type": "code",
   "execution_count": 10,
   "metadata": {},
   "outputs": [
    {
     "data": {
      "image/png": "[encoded data removed]",
      "text/plain": [
       "<matplotlib.figure.Figure at 0x11dc16438>"
      ]
     },
     "metadata": {},
     "output_type": "display_data"
    }
   ],
   "source": [
    "# Cumulative sum\n",
    "pve_cumsum = np.cumsum(pve)\n",
    "plt.step(\n",
    "    np.arange(1, len(pve) + 1),\n",
    "    pve_cumsum, # Cumulative sum\n",
    "    label='cumulative'\n",
    ")\n",
    "\n",
    "# Add labels\n",
    "plt.xlabel('principal component')\n",
    "plt.ylabel('variance explained')\n",
    "plt.legend()\n",
    "plt.show()"
   ]
  },
  {
   "cell_type": "code",
   "execution_count": 11,
   "metadata": {
    "scrolled": true
   },
   "outputs": [
    {
     "data": {
      "image/png": "[encoded data removed]",
      "text/plain": [
       "<matplotlib.figure.Figure at 0x11ae7ae10>"
      ]
     },
     "metadata": {},
     "output_type": "display_data"
    }
   ],
   "source": [
    "# Cumulative sum, limit to first 500 components\n",
    "pve_cumsum = np.cumsum(pve)\n",
    "plt.step(\n",
    "    np.arange(1, 500),\n",
    "    pve_cumsum[:499], # Cumulative sum\n",
    "    label='cumulative'\n",
    ")\n",
    "\n",
    "# Add labels\n",
    "plt.xlabel('principal component')\n",
    "plt.ylabel('variance explained')\n",
    "plt.legend()\n",
    "plt.show()"
   ]
  },
  {
   "cell_type": "code",
   "execution_count": 16,
   "metadata": {},
   "outputs": [
    {
     "data": {
      "text/plain": [
       "0.23541819"
      ]
     },
     "execution_count": 16,
     "metadata": {},
     "output_type": "execute_result"
    }
   ],
   "source": [
    "# What is the cumulated proportion of variance explained (PVE) in the first two components?\n",
    "np.cumsum(pve)[1]"
   ]
  },
  {
   "cell_type": "code",
   "execution_count": 15,
   "metadata": {},
   "outputs": [
    {
     "name": "stdout",
     "output_type": "stream",
     "text": [
      "61  components needed to retain  0.8  of the variance explained\n",
      "172  components needed to retain  0.9  of the variance explained\n",
      "400  components needed to retain  0.95  of the variance explained\n",
      "1031  components needed to retain  0.99  of the variance explained\n"
     ]
    }
   ],
   "source": [
    "# How many components should we keep to retain 80%, 90%, 95% and 99% of the variance explained?\n",
    "\n",
    "def cumul(a):\n",
    "    b = np.flatnonzero(np.isclose(np.cumsum(pve), a, atol=0.001))[0]\n",
    "    return print(b, ' components needed to retain ', a,' of the variance explained')\n",
    "\n",
    "cumul(0.8)\n",
    "cumul(0.9)\n",
    "cumul(0.95)\n",
    "cumul(0.99)"
   ]
  }
 ],
 "metadata": {
  "kernelspec": {
   "display_name": "Python 3",
   "language": "python",
   "name": "python3"
  },
  "language_info": {
   "codemirror_mode": {
    "name": "ipython",
    "version": 3
   },
   "file_extension": ".py",
   "mimetype": "text/x-python",
   "name": "python",
   "nbconvert_exporter": "python",
   "pygments_lexer": "ipython3",
   "version": "3.6.4"
  }
 },
 "nbformat": 4,
 "nbformat_minor": 2
}
