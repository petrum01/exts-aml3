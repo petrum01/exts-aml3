{
  "nbformat": 4,
  "nbformat_minor": 0,
  "metadata": {
    "colab": {
      "name": "Convolutional neural network.ipynb",
      "version": "0.3.2",
      "provenance": [],
      "include_colab_link": true
    },
    "kernelspec": {
      "name": "python3",
      "display_name": "Python 3"
    },
    "accelerator": "GPU"
  },
  "cells": [
    {
      "cell_type": "markdown",
      "metadata": {
        "id": "view-in-github",
        "colab_type": "text"
      },
      "source": [
        "<a href=\"https://colab.research.google.com/github/petrum01/exts-aml3/blob/master/Convolutional_neural_network.ipynb\" target=\"_parent\"><img src=\"https://colab.research.google.com/assets/colab-badge.svg\" alt=\"Open In Colab\"/></a>"
      ]
    },
    {
      "metadata": {
        "id": "OteNXPea6o2N",
        "colab_type": "code",
        "outputId": "84eede78-49d9-4d63-ead3-b2ab8db8cc3c",
        "colab": {
          "base_uri": "https://localhost:8080/",
          "height": 191
        }
      },
      "cell_type": "code",
      "source": [
        "from google.colab import drive\n",
        "drive.mount('/content/gdrive')"
      ],
      "execution_count": 1,
      "outputs": [
        {
          "output_type": "stream",
          "text": [
            "Go to this URL in a browser: https://accounts.google.com/o/oauth2/auth?client_id=947318989803-6bn6qk8qdgf4n4g3pfee6491hc0brc4i.apps.googleusercontent.com&redirect_uri=urn%3Aietf%3Awg%3Aoauth%3A2.0%3Aoob&scope=email%20https%3A%2F%2Fwww.googleapis.com%2Fauth%2Fdocs.test%20https%3A%2F%2Fwww.googleapis.com%2Fauth%2Fdrive%20https%3A%2F%2Fwww.googleapis.com%2Fauth%2Fdrive.photos.readonly%20https%3A%2F%2Fwww.googleapis.com%2Fauth%2Fpeopleapi.readonly&response_type=code\n",
            "\n",
            "Enter your authorization code:\n",
            "··········\n",
            "Mounted at /content/gdrive\n"
          ],
          "name": "stdout"
        }
      ]
    },
    {
      "metadata": {
        "id": "DvWBeZYL9TTc",
        "colab_type": "code",
        "outputId": "45d3c3f8-deaa-4448-c013-b498beb813ac",
        "colab": {
          "base_uri": "https://localhost:8080/",
          "height": 51
        }
      },
      "cell_type": "code",
      "source": [
        "import numpy as np\n",
        "\n",
        "\n",
        "labels = np.load('/content/gdrive/My Drive/data/labels.npy')\n",
        "pixels = np.load('/content/gdrive/My Drive/data/pixels.npy')\n",
        "\n",
        "print('pixels', pixels.shape, type(pixels))\n",
        "print('labels', labels.shape, type(labels) )\n"
      ],
      "execution_count": 3,
      "outputs": [
        {
          "output_type": "stream",
          "text": [
            "pixels (5000, 3072) <class 'numpy.ndarray'>\n",
            "labels (5000,) <class 'numpy.ndarray'>\n"
          ],
          "name": "stdout"
        }
      ]
    },
    {
      "metadata": {
        "id": "B3wVEtp9YuWF",
        "colab_type": "code",
        "colab": {
          "base_uri": "https://localhost:8080/",
          "height": 238
        },
        "outputId": "1154235f-50a5-46c4-ab3a-9ca743ee5f9f"
      },
      "cell_type": "code",
      "source": [
        "# Rescale pixel values between -0.5 and 0.5\n",
        "# pixels = (pixels - 128) / 255\n",
        "# this npy file is already rescaled\n",
        "pixels"
      ],
      "execution_count": 4,
      "outputs": [
        {
          "output_type": "execute_result",
          "data": {
            "text/plain": [
              "array([[0.49803922, 0.49803922, 0.49803922, ..., 0.11764706, 0.06666667,\n",
              "        0.03137255],\n",
              "       [0.31372549, 0.34509804, 0.32156863, ..., 0.69411765, 0.7254902 ,\n",
              "        0.80784314],\n",
              "       [0.24705882, 0.27843137, 0.30980392, ..., 0.51372549, 0.88627451,\n",
              "        0.07843137],\n",
              "       ...,\n",
              "       [0.49411765, 0.49411765, 0.49411765, ..., 0.74117647, 0.72156863,\n",
              "        0.72941176],\n",
              "       [0.74117647, 0.74509804, 0.69411765, ..., 0.81176471, 0.83921569,\n",
              "        0.72156863],\n",
              "       [0.93333333, 0.9254902 , 0.98039216, ..., 0.09803922, 0.05490196,\n",
              "        0.07058824]])"
            ]
          },
          "metadata": {
            "tags": []
          },
          "execution_count": 4
        }
      ]
    },
    {
      "metadata": {
        "id": "C0AVCViCmML0",
        "colab_type": "code",
        "colab": {}
      },
      "cell_type": "code",
      "source": [
        "pixels = pixels.astype(np.float32)"
      ],
      "execution_count": 0,
      "outputs": []
    },
    {
      "metadata": {
        "id": "NTcNirJEYuWP",
        "colab_type": "code",
        "outputId": "5a92199a-bd29-4163-bd1c-58ca710bb817",
        "colab": {
          "base_uri": "https://localhost:8080/",
          "height": 85
        }
      },
      "cell_type": "code",
      "source": [
        "import pandas as pd\n",
        "from sklearn.model_selection import train_test_split\n",
        "\n",
        "# Split the matrix of pixels\n",
        "X_tr, X_te, y_tr, y_te = train_test_split(pixels.reshape(-1, 32, 32, 3), # de-flatten the matrix of pixels\n",
        "                                          labels, train_size=4000, test_size=1000, \n",
        "                                          stratify=labels, # same class distribution\n",
        "                                          random_state=0)\n",
        "\n",
        "print('Train:', X_tr.shape, y_tr.shape)\n",
        "print('Test:', X_te.shape, y_te.shape)\n",
        "\n",
        "X_tr2, X_val, y_tr2, y_val = train_test_split(X_tr, y_tr, train_size=3200, test_size=800, \n",
        "    stratify=y_tr , # same class distribution\n",
        "    random_state=0)\n",
        "\n",
        "print('Train2:', X_tr2.shape, y_tr2.shape)\n",
        "print('Val:', X_val.shape, y_val.shape)"
      ],
      "execution_count": 6,
      "outputs": [
        {
          "output_type": "stream",
          "text": [
            "Train: (4000, 32, 32, 3) (4000,)\n",
            "Test: (1000, 32, 32, 3) (1000,)\n",
            "Train2: (3200, 32, 32, 3) (3200,)\n",
            "Val: (800, 32, 32, 3) (800,)\n"
          ],
          "name": "stdout"
        }
      ]
    },
    {
      "metadata": {
        "id": "rG24EmjxYuWW",
        "colab_type": "code",
        "colab": {}
      },
      "cell_type": "code",
      "source": [
        "# Batch generator\n",
        "def get_batches(X, y, batch_size):\n",
        "    # Shuffle X,y\n",
        "    shuffled_idx = np.arange(len(y)) # 1,2,...,n\n",
        "    np.random.shuffle(shuffled_idx)\n",
        "    # Enumerate indexes by steps of batch_size\n",
        "    # i: 0, b, 2b, 3b, 4b, .. where b is the batch size\n",
        "    for i in range(0, len(y), batch_size):\n",
        "        # Batch indexes\n",
        "        batch_idx = shuffled_idx[i:i+batch_size]\n",
        "        yield X[batch_idx], y[batch_idx]"
      ],
      "execution_count": 0,
      "outputs": []
    },
    {
      "metadata": {
        "id": "oeB0JAMpTUjP",
        "colab_type": "code",
        "outputId": "bc18f914-175e-4f0b-bb26-e1ad21fbf5ed",
        "colab": {
          "base_uri": "https://localhost:8080/",
          "height": 34
        }
      },
      "cell_type": "code",
      "source": [
        "import tensorflow as tf\n",
        "device_name = tf.test.gpu_device_name()\n",
        "if device_name != '/device:GPU:0':\n",
        "  raise SystemError('GPU device not found')\n",
        "print('Found GPU at: {}'.format(device_name))"
      ],
      "execution_count": 8,
      "outputs": [
        {
          "output_type": "stream",
          "text": [
            "Found GPU at: /device:GPU:0\n"
          ],
          "name": "stdout"
        }
      ]
    },
    {
      "metadata": {
        "id": "kRE7qBVcYuWZ",
        "colab_type": "code",
        "outputId": "2fe1c820-f35c-4197-b347-9e358553c2bc",
        "colab": {
          "base_uri": "https://localhost:8080/",
          "height": 527
        }
      },
      "cell_type": "code",
      "source": [
        "# Create a CNN with the following architecture : \n",
        "\n",
        "# 1st Conv layer, 64 filters, 3x3 kernel size, stride 1x1, same pading, ReLu\n",
        "# Max pooling layer 2x2, stride 2x2\n",
        "# Dropout 0,25\n",
        "\n",
        "# 2nd Conv layer, 128 filters, 3x3 kernel size, stride 1x1, same pading, ReLu\n",
        "# Max pooling layer 2x2, stride 2x2\n",
        "# Dropout 0,25\n",
        "\n",
        "# 3rd Conv layer, 256 filters, 3x3 kernel size, stride 1x1, same pading, ReLu\n",
        "# Max pooling layer 2x2, stride 2x2\n",
        "# Dropout 0,5\n",
        "\n",
        "# 3 fully connected layers : 256, 512, 256 hidden units, ReLu, \n",
        "# Dropout 0,5 after each fcl\n",
        "# Output layer (4 units) with no activation function\n",
        "\n",
        "import tensorflow as tf\n",
        "\n",
        "# Create new graph\n",
        "graph = tf.Graph()\n",
        "\n",
        "with graph.as_default():\n",
        "    # Create placeholders\n",
        "    X = tf.placeholder(dtype=tf.float32, shape=[None, 32, 32, 3])\n",
        "    y = tf.placeholder(dtype=tf.int32, shape=[None])\n",
        "\n",
        "    # Convolutional layer\n",
        "    conv = tf.layers.conv2d(\n",
        "        X, # Input data\n",
        "        filters=64, # 64 filters\n",
        "        kernel_size=(3, 3), # Kernel size: 3x3\n",
        "        strides=(1, 1), # Stride: 1\n",
        "        padding='SAME', # \"same\" padding\n",
        "        activation=tf.nn.relu, # ReLU\n",
        "        kernel_initializer=tf.truncated_normal_initializer(\n",
        "            stddev=0.01, seed=0), # Small standard deviation\n",
        "        name='conv' \n",
        "    )\n",
        "    print('Convolutional layer 1',conv.shape)\n",
        "    \n",
        "     # Max pooling layer\n",
        "    pool = tf.layers.max_pooling2d(\n",
        "        conv, # Convolution output\n",
        "        pool_size=(2, 2), # Pool size: 2\n",
        "        strides=(2, 2), # Stride: 2\n",
        "        padding='SAME' # \"same\" padding\n",
        "    )\n",
        "    print('max pooling 1',pool.shape) \n",
        "    \n",
        "        # Dropout\n",
        "    training = tf.placeholder(dtype=tf.bool)\n",
        "    pool = tf.layers.dropout(pool, rate=0.25, seed=0, training=training)\n",
        "    print('max pooling 1 dropout',pool.shape)\n",
        "    \n",
        "     # Convolutional layer\n",
        "    conv2 = tf.layers.conv2d(\n",
        "        pool, 128, (3, 3), (1, 1), 'SAME',\n",
        "        activation=tf.nn.relu, # ReLU\n",
        "        kernel_initializer=tf.truncated_normal_initializer(\n",
        "            stddev=0.01, seed=0), # Small standard deviation\n",
        "        name='conv2' \n",
        "    )\n",
        "    print('Convolutional layer 2',conv2.shape)\n",
        "\n",
        "    # Max pooling layer (2x2, stride: 2)\n",
        "    pool2 = tf.layers.max_pooling2d(conv2, (2, 2), (2, 2), 'SAME')\n",
        "    print('max pooling 2',pool2.shape) \n",
        "\n",
        "        # Dropout\n",
        "    pool2 = tf.layers.dropout(pool2, rate=0.25, seed=0, training=training)\n",
        "    print('max pooling 2 dropout',pool2.shape)\n",
        "    \n",
        "    # Convolutional layer\n",
        "    conv3 = tf.layers.conv2d(\n",
        "        pool2, 256,(3, 3), (1, 1), 'SAME',\n",
        "        activation=tf.nn.relu, # ReLU\n",
        "        kernel_initializer=tf.truncated_normal_initializer(\n",
        "            stddev=0.01, seed=0), # Small standard deviation\n",
        "        name='conv3' \n",
        "    )\n",
        "    print('Convolutional layer 3',conv3.shape)\n",
        "\n",
        "    # Max pooling layer (2x2, stride: 2)\n",
        "    pool3 = tf.layers.max_pooling2d(conv3, (2, 2), (2, 2), 'SAME')\n",
        "    print('max pooling 3',pool3.shape) \n",
        "    \n",
        "    # Flatten output\n",
        "    flat_output = tf.contrib.layers.flatten(pool3)\n",
        "\n",
        "    # Dropout\n",
        "    flat_output = tf.layers.dropout(flat_output, rate=0.5, seed=0, training=training)\n",
        "    print('Dropout:', flat_output.shape)\n",
        "\n",
        "    # Fully connected layer\n",
        "    fc1 = tf.layers.dense(\n",
        "        flat_output, 256, # hidden units\n",
        "        activation=tf.nn.relu, # ReLU\n",
        "        kernel_initializer=tf.variance_scaling_initializer(scale=2, seed=0),\n",
        "        bias_initializer=tf.zeros_initializer()\n",
        "    )\n",
        "    print('Fully-connected layer1:', fc1.shape)\n",
        "    \n",
        "    # Dropout\n",
        "    fc1 = tf.layers.dropout(fc1, rate=0.5, seed=0, training=training)\n",
        "    print('Dropout:', fc1.shape)\n",
        "    \n",
        "    # Fully connected layer\n",
        "    fc2 = tf.layers.dense(\n",
        "        fc1, 512, # hidden units\n",
        "        activation=tf.nn.relu, # ReLU\n",
        "        kernel_initializer=tf.variance_scaling_initializer(scale=2, seed=0),\n",
        "        bias_initializer=tf.zeros_initializer()\n",
        "    )\n",
        "    print('Fully-connected layer2:', fc2.shape)\n",
        "    \n",
        "    # Dropout\n",
        "    fc2 = tf.layers.dropout(fc2, rate=0.5, seed=0, training=training)\n",
        "    print('Dropout:', fc2.shape)\n",
        "    \n",
        "    # Fully connected layer\n",
        "    fc3 = tf.layers.dense(\n",
        "        fc2, 256, # hidden units\n",
        "        activation=tf.nn.relu, # ReLU\n",
        "        kernel_initializer=tf.variance_scaling_initializer(scale=2, seed=0),\n",
        "        bias_initializer=tf.zeros_initializer()\n",
        "    )\n",
        "    print('Fully-connected layer3:', fc3.shape)\n",
        "    \n",
        "    # Dropout\n",
        "    fc3 = tf.layers.dropout(fc3, rate=0.5, seed=0, training=training)\n",
        "    print('Dropout:', fc3.shape)\n",
        "    \n",
        "    # Output layer\n",
        "    logits = tf.layers.dense(\n",
        "        fc3, 4, # 4 classes\n",
        "        activation=None, # No activation function\n",
        "        kernel_initializer=tf.variance_scaling_initializer(scale=1, seed=0),\n",
        "        bias_initializer=tf.zeros_initializer()\n",
        "    )\n",
        "    print('Output layer',logits.shape) \n",
        "\n",
        "    # Get variables in the graph\n",
        "    for v in tf.trainable_variables():\n",
        "        print(v)\n",
        "    \n",
        "    # Kernel weights of the 1st conv. layer\n",
        "    with tf.variable_scope('conv', reuse=True):\n",
        "        conv_kernels = tf.get_variable('kernel')\n",
        "\n",
        "        # Mean cross-entropy\n",
        "    mean_ce = tf.reduce_mean(tf.nn.sparse_softmax_cross_entropy_with_logits(\n",
        "            labels=y, logits=logits))\n",
        "\n",
        "    # Adam optimizer\n",
        "    lr = tf.placeholder(dtype=tf.float32)\n",
        "    gd = tf.train.AdamOptimizer(learning_rate=lr)\n",
        "\n",
        "    # Minimize cross-entropy\n",
        "    train_op = gd.minimize(mean_ce)\n",
        "\n",
        "    # Compute predictions and accuracy\n",
        "    predictions = tf.argmax(logits, axis=1, output_type=tf.int32)\n",
        "    is_correct = tf.equal(y, predictions)\n",
        "    accuracy = tf.reduce_mean(tf.cast(is_correct, dtype=tf.float32))"
      ],
      "execution_count": 9,
      "outputs": [
        {
          "output_type": "stream",
          "text": [
            "Convolutional layer 1 (?, 32, 32, 64)\n",
            "max pooling 1 (?, 16, 16, 64)\n",
            "max pooling 1 dropout (?, 16, 16, 64)\n",
            "Convolutional layer 2 (?, 16, 16, 128)\n",
            "max pooling 2 (?, 8, 8, 128)\n",
            "max pooling 2 dropout (?, 8, 8, 128)\n",
            "Convolutional layer 3 (?, 8, 8, 256)\n",
            "max pooling 3 (?, 4, 4, 256)\n",
            "Dropout: (?, 4096)\n",
            "Fully-connected layer1: (?, 256)\n",
            "Dropout: (?, 256)\n",
            "Fully-connected layer2: (?, 512)\n",
            "Dropout: (?, 512)\n",
            "Fully-connected layer3: (?, 256)\n",
            "Dropout: (?, 256)\n",
            "Output layer (?, 4)\n",
            "<tf.Variable 'conv/kernel:0' shape=(3, 3, 3, 64) dtype=float32_ref>\n",
            "<tf.Variable 'conv/bias:0' shape=(64,) dtype=float32_ref>\n",
            "<tf.Variable 'conv2/kernel:0' shape=(3, 3, 64, 128) dtype=float32_ref>\n",
            "<tf.Variable 'conv2/bias:0' shape=(128,) dtype=float32_ref>\n",
            "<tf.Variable 'conv3/kernel:0' shape=(3, 3, 128, 256) dtype=float32_ref>\n",
            "<tf.Variable 'conv3/bias:0' shape=(256,) dtype=float32_ref>\n",
            "<tf.Variable 'dense/kernel:0' shape=(4096, 256) dtype=float32_ref>\n",
            "<tf.Variable 'dense/bias:0' shape=(256,) dtype=float32_ref>\n",
            "<tf.Variable 'dense_1/kernel:0' shape=(256, 512) dtype=float32_ref>\n",
            "<tf.Variable 'dense_1/bias:0' shape=(512,) dtype=float32_ref>\n",
            "<tf.Variable 'dense_2/kernel:0' shape=(512, 256) dtype=float32_ref>\n",
            "<tf.Variable 'dense_2/bias:0' shape=(256,) dtype=float32_ref>\n",
            "<tf.Variable 'dense_3/kernel:0' shape=(256, 4) dtype=float32_ref>\n",
            "<tf.Variable 'dense_3/bias:0' shape=(4,) dtype=float32_ref>\n"
          ],
          "name": "stdout"
        }
      ]
    },
    {
      "metadata": {
        "id": "ADaRPqb8YuWh",
        "colab_type": "code",
        "outputId": "6d1a9a33-1252-4835-8e0d-0644bf835498",
        "colab": {
          "base_uri": "https://localhost:8080/",
          "height": 578
        }
      },
      "cell_type": "code",
      "source": [
        "%%time\n",
        "import numpy as np\n",
        "# Validation accuracy\n",
        "valid_acc_values = []\n",
        "\n",
        "with tf.Session(graph=graph) as sess:\n",
        "    # Initialize variables\n",
        "    sess.run(tf.global_variables_initializer())\n",
        "    \n",
        "    # Set seed\n",
        "    np.random.seed(0)\n",
        "    \n",
        "    # Train several epochs\n",
        "    for epoch in range(300):\n",
        "        # Accuracy values (train) after each batch\n",
        "        batch_acc = []\n",
        "        \n",
        "        for X_batch, y_batch in get_batches(X_tr2, y_tr2, 250):\n",
        "            # Run training and evaluate accuracy\n",
        "            _, acc_value = sess.run([train_op, accuracy], feed_dict={\n",
        "                X: X_batch,\n",
        "                y: y_batch,\n",
        "                lr: 0.0001, # Learning rate\n",
        "                training: True #dropout\n",
        "            })\n",
        "            \n",
        "            # Save accuracy (current batch)\n",
        "            batch_acc.append(acc_value)\n",
        "\n",
        "        # Evaluate validation accuracy\n",
        "        valid_acc = sess.run(accuracy, feed_dict={\n",
        "            X: X_val,\n",
        "            y: y_val,\n",
        "            training: False\n",
        "        })\n",
        "        valid_acc_values.append(valid_acc)\n",
        "        \n",
        "        # Print progress\n",
        "        if (epoch+1)%10==0 :\n",
        "          print('Epoch {} - valid: {:.3f} train: {:.3f} (mean)'.format(\n",
        "            epoch+1, valid_acc, np.mean(batch_acc)\n",
        "        ))\n",
        "       \n",
        "    # Get 1st conv. layer kernels\n",
        "    kernels = conv_kernels.eval()\n",
        "    \n",
        "    # Evaluate test accuracy\n",
        "    test_acc = sess.run(accuracy, feed_dict={\n",
        "        X: X_te,\n",
        "        y: y_te,\n",
        "            training: False\n",
        "    })\n",
        "    print('Test accuracy: {:.3f}'.format(test_acc))"
      ],
      "execution_count": 38,
      "outputs": [
        {
          "output_type": "stream",
          "text": [
            "Epoch 10 - valid: 0.377 train: 0.335 (mean)\n",
            "Epoch 20 - valid: 0.474 train: 0.427 (mean)\n",
            "Epoch 30 - valid: 0.501 train: 0.479 (mean)\n",
            "Epoch 40 - valid: 0.549 train: 0.538 (mean)\n",
            "Epoch 50 - valid: 0.590 train: 0.582 (mean)\n",
            "Epoch 60 - valid: 0.606 train: 0.614 (mean)\n",
            "Epoch 70 - valid: 0.624 train: 0.625 (mean)\n",
            "Epoch 80 - valid: 0.635 train: 0.668 (mean)\n",
            "Epoch 90 - valid: 0.656 train: 0.693 (mean)\n",
            "Epoch 100 - valid: 0.654 train: 0.710 (mean)\n",
            "Epoch 110 - valid: 0.702 train: 0.746 (mean)\n",
            "Epoch 120 - valid: 0.725 train: 0.764 (mean)\n",
            "Epoch 130 - valid: 0.731 train: 0.788 (mean)\n",
            "Epoch 140 - valid: 0.734 train: 0.816 (mean)\n",
            "Epoch 150 - valid: 0.734 train: 0.832 (mean)\n",
            "Epoch 160 - valid: 0.749 train: 0.841 (mean)\n",
            "Epoch 170 - valid: 0.746 train: 0.867 (mean)\n",
            "Epoch 180 - valid: 0.760 train: 0.893 (mean)\n",
            "Epoch 190 - valid: 0.724 train: 0.897 (mean)\n",
            "Epoch 200 - valid: 0.731 train: 0.909 (mean)\n",
            "Epoch 210 - valid: 0.751 train: 0.914 (mean)\n",
            "Epoch 220 - valid: 0.755 train: 0.935 (mean)\n",
            "Epoch 230 - valid: 0.751 train: 0.933 (mean)\n",
            "Epoch 240 - valid: 0.769 train: 0.942 (mean)\n",
            "Epoch 250 - valid: 0.760 train: 0.949 (mean)\n",
            "Epoch 260 - valid: 0.767 train: 0.950 (mean)\n",
            "Epoch 270 - valid: 0.766 train: 0.959 (mean)\n",
            "Epoch 280 - valid: 0.760 train: 0.969 (mean)\n",
            "Epoch 290 - valid: 0.764 train: 0.971 (mean)\n",
            "Epoch 300 - valid: 0.757 train: 0.976 (mean)\n",
            "Test accuracy: 0.758\n",
            "CPU times: user 1min 34s, sys: 38.8 s, total: 2min 13s\n",
            "Wall time: 2min 58s\n"
          ],
          "name": "stdout"
        }
      ]
    },
    {
      "metadata": {
        "scrolled": true,
        "id": "l_PfretIYuWl",
        "colab_type": "code",
        "outputId": "edadaa40-314a-4803-af9d-788baa8c4e34",
        "colab": {
          "base_uri": "https://localhost:8080/",
          "height": 294
        }
      },
      "cell_type": "code",
      "source": [
        "%matplotlib inline\n",
        "import matplotlib.pyplot as plt\n",
        "\n",
        "# Plot accuracy values\n",
        "plt.plot(valid_acc_values)\n",
        "plt.title('Validation accuracy: {:.3f} (mean last 20)'.format(\n",
        "    np.mean(valid_acc_values[-20:]) # last 20 values\n",
        "))\n",
        "plt.xlabel('epoch')\n",
        "plt.ylabel('accuracy')\n",
        "plt.show()"
      ],
      "execution_count": 39,
      "outputs": [
        {
          "output_type": "display_data",
          "data": {
            "image/png": "[encoded data removed]",
            "text/plain": [
              "<matplotlib.figure.Figure at 0x7f4efd7c5588>"
            ]
          },
          "metadata": {
            "tags": []
          }
        }
      ]
    },
    {
      "metadata": {
        "id": "SBR3Kvdzw5PP",
        "colab_type": "code",
        "colab": {}
      },
      "cell_type": "code",
      "source": [
        "# epochs.  batch.  lr.      acc. \n",
        "# 100.      64.    0.0001   0.751\n",
        "# 100.     128.    0.0001   0.726\n",
        "# 100.     200.    0.0001   0.694\n",
        "# 200.     200.    0.0001   0.747\n",
        "# 400.     200.    0.0001   0.765\n",
        "# 400.     250.    0.0001   0.773  ## Best result\n",
        "# 300.     250.    0.0001   0.758\n",
        "\n",
        "# 400.     300.    0.0001   0.763\n",
        "# 400.     128.    0.0001   0.761\n",
        "# 200.     128.    0.0001   0.751\n",
        "\n",
        "# 300.     200.    0.001    0.556\n",
        "# 600.     200.    0.001    0.607\n",
        "# 600.      64.    0.0001    0.683\n",
        "# 600.     200.    0.00001   0.612"
      ],
      "execution_count": 0,
      "outputs": []
    },
    {
      "metadata": {
        "id": "JOnOOQDKYuWp",
        "colab_type": "code",
        "outputId": "a6a61ffa-3050-4302-b138-056bbce61f4b",
        "colab": {
          "base_uri": "https://localhost:8080/",
          "height": 466
        }
      },
      "cell_type": "code",
      "source": [
        "# Plot the trained weights of the kernels from the first convolutional layer.\n",
        "\n",
        "# Create a grid of subplots\n",
        "fig, axes = plt.subplots(nrows=8, ncols=8, figsize=(8, 8))\n",
        "\n",
        "# Remove gaps between suplots\n",
        "plt.subplots_adjust(wspace=0, hspace=0)\n",
        "\n",
        "# Plot the 64 kernels from the first convolutional layer\n",
        "for i, axis in enumerate(axes.flatten()):\n",
        "    # Get i-th kernel (shape: 5x5x3)\n",
        "    kernel = kernels[:, :, :, i].copy()\n",
        "    \n",
        "    # Rescale values between 0 and 1\n",
        "    kernel -= kernel.min() # Rescale between 0 and max\n",
        "    kernel /= kernel.max() # Rescale between 0 and 1\n",
        "    \n",
        "    # Plot kernel with imshow()\n",
        "    axis.imshow(kernel)\n",
        "    axis.get_xaxis().set_visible(False) # disable x-axis\n",
        "    axis.get_yaxis().set_visible(False) # disable y-axis\n",
        "    \n",
        "plt.show()"
      ],
      "execution_count": 40,
      "outputs": [
        {
          "output_type": "display_data",
          "data": {
            "image/png": "[encoded data removed]",
            "text/plain": [
              "<matplotlib.figure.Figure at 0x7f4efd6c2ac8>"
            ]
          },
          "metadata": {
            "tags": []
          }
        }
      ]
    }
  ]
}