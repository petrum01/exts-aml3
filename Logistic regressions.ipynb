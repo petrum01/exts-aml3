{
 "cells": [
  {
   "cell_type": "code",
   "execution_count": 1,
   "metadata": {},
   "outputs": [
    {
     "name": "stdout",
     "output_type": "stream",
     "text": [
      "Train: (4000, 4096) (4000,)\n",
      "Test: (1000, 4096) (1000,)\n"
     ]
    }
   ],
   "source": [
    "import numpy as np\n",
    "import os\n",
    "\n",
    "# Load the data\n",
    "with np.load('cifar4-train.npz', allow_pickle=False) as npz_file:\n",
    "    # Load items into a dictionary\n",
    "    cifar = dict(npz_file.items())\n",
    "\n",
    "overfeat = cifar['overfeat']\n",
    "pixels = cifar['pixels']\n",
    "labels = cifar['labels']\n",
    "\n",
    "# split the Overfeat data into train/test sets w/ same proportion of classes in each subset\n",
    "\n",
    "import pandas as pd\n",
    "from sklearn.model_selection import train_test_split\n",
    "\n",
    "X_tr, X_te, y_tr, y_te, pixels_tr, pixels_te, labels_tr, labels_te = train_test_split(\n",
    "    overfeat, labels, pixels, labels, train_size=4000, test_size=1000, \n",
    "    stratify=labels , # same class distribution\n",
    "    random_state=0)\n",
    "\n",
    "print('Train:', X_tr.shape, y_tr.shape)\n",
    "print('Test:', X_te.shape, y_te.shape)"
   ]
  },
  {
   "cell_type": "markdown",
   "metadata": {},
   "source": [
    "### Create a logistic regression classifier and tune the regularization strength."
   ]
  },
  {
   "cell_type": "code",
   "execution_count": 2,
   "metadata": {
    "scrolled": true
   },
   "outputs": [
    {
     "name": "stdout",
     "output_type": "stream",
     "text": [
      "Fitting 5 folds for each of 20 candidates, totalling 100 fits\n",
      "[CV] log_reg__alpha=1e-05 ............................................\n",
      "[CV] log_reg__alpha=1e-05 ............................................\n",
      "[CV] log_reg__alpha=1e-05 ............................................\n",
      "[CV] log_reg__alpha=1e-05 ............................................\n",
      "[CV] ............................. log_reg__alpha=1e-05, total=   3.5s\n",
      "[CV] log_reg__alpha=1e-05 ............................................\n",
      "[CV] ............................. log_reg__alpha=1e-05, total=   3.7s\n",
      "[CV] log_reg__alpha=0.05264105263157895 ..............................\n",
      "[CV] ............................. log_reg__alpha=1e-05, total=   4.0s\n",
      "[CV] log_reg__alpha=0.05264105263157895 ..............................\n",
      "[CV] ............................. log_reg__alpha=1e-05, total=   4.0s\n",
      "[CV] log_reg__alpha=0.05264105263157895 ..............................\n",
      "[CV] ............................. log_reg__alpha=1e-05, total=   2.5s\n",
      "[CV] log_reg__alpha=0.05264105263157895 ..............................\n",
      "[CV] ............... log_reg__alpha=0.05264105263157895, total=   3.6s\n",
      "[CV] log_reg__alpha=0.05264105263157895 ..............................\n",
      "[CV] ............... log_reg__alpha=0.05264105263157895, total=   3.9s\n",
      "[CV] log_reg__alpha=0.10527210526315789 ..............................\n",
      "[CV] ............... log_reg__alpha=0.05264105263157895, total=   4.2s\n",
      "[CV] log_reg__alpha=0.10527210526315789 ..............................\n",
      "[CV] ............... log_reg__alpha=0.05264105263157895, total=   3.7s\n",
      "[CV] log_reg__alpha=0.10527210526315789 ..............................\n",
      "[CV] ............... log_reg__alpha=0.10527210526315789, total=   2.6s\n",
      "[CV] log_reg__alpha=0.10527210526315789 ..............................\n",
      "[CV] ............... log_reg__alpha=0.05264105263157895, total=   3.5s\n",
      "[CV] log_reg__alpha=0.10527210526315789 ..............................\n",
      "[CV] ............... log_reg__alpha=0.10527210526315789, total=   3.2s\n",
      "[CV] log_reg__alpha=0.15790315789473686 ..............................\n",
      "[CV] ............... log_reg__alpha=0.10527210526315789, total=   2.8s\n",
      "[CV] log_reg__alpha=0.15790315789473686 ..............................\n",
      "[CV] ............... log_reg__alpha=0.10527210526315789, total=   2.7s\n",
      "[CV] log_reg__alpha=0.15790315789473686 ..............................\n",
      "[CV] ............... log_reg__alpha=0.15790315789473686, total=   2.6s\n",
      "[CV] log_reg__alpha=0.15790315789473686 ..............................\n",
      "[CV] ............... log_reg__alpha=0.10527210526315789, total=   3.5s\n",
      "[CV] log_reg__alpha=0.15790315789473686 ..............................\n",
      "[CV] ............... log_reg__alpha=0.15790315789473686, total=   3.1s\n",
      "[CV] log_reg__alpha=0.2105342105263158 ...............................\n",
      "[CV] ............... log_reg__alpha=0.15790315789473686, total=   2.8s\n",
      "[CV] log_reg__alpha=0.2105342105263158 ...............................\n",
      "[CV] ............... log_reg__alpha=0.15790315789473686, total=   2.6s\n",
      "[CV] log_reg__alpha=0.2105342105263158 ...............................\n",
      "[CV] ............... log_reg__alpha=0.15790315789473686, total=   3.1s\n",
      "[CV] log_reg__alpha=0.2105342105263158 ...............................\n",
      "[CV] ................ log_reg__alpha=0.2105342105263158, total=   2.6s\n",
      "[CV] log_reg__alpha=0.2105342105263158 ...............................\n",
      "[CV] ................ log_reg__alpha=0.2105342105263158, total=   2.5s\n",
      "[CV] log_reg__alpha=0.26316526315789474 ..............................\n",
      "[CV] ................ log_reg__alpha=0.2105342105263158, total=   2.9s\n",
      "[CV] log_reg__alpha=0.26316526315789474 ..............................\n",
      "[CV] ................ log_reg__alpha=0.2105342105263158, total=   2.5s\n",
      "[CV] log_reg__alpha=0.26316526315789474 ..............................\n",
      "[CV] ............... log_reg__alpha=0.26316526315789474, total=   2.5s\n",
      "[CV] ................ log_reg__alpha=0.2105342105263158, total=   3.0s\n",
      "[CV] log_reg__alpha=0.26316526315789474 ..............................\n",
      "[CV] log_reg__alpha=0.26316526315789474 ..............................\n",
      "[CV] ............... log_reg__alpha=0.26316526315789474, total=   2.4s\n",
      "[CV] log_reg__alpha=0.3157963157894737 ...............................\n",
      "[CV] ............... log_reg__alpha=0.26316526315789474, total=   2.6s\n",
      "[CV] log_reg__alpha=0.3157963157894737 ...............................\n",
      "[CV] ............... log_reg__alpha=0.26316526315789474, total=   2.2s\n",
      "[CV] log_reg__alpha=0.3157963157894737 ...............................\n",
      "[CV] ............... log_reg__alpha=0.26316526315789474, total=   3.2s\n",
      "[CV] log_reg__alpha=0.3157963157894737 ...............................\n",
      "[CV] ................ log_reg__alpha=0.3157963157894737, total=   2.7s\n",
      "[CV] log_reg__alpha=0.3157963157894737 ...............................\n",
      "[CV] ................ log_reg__alpha=0.3157963157894737, total=   2.5s\n",
      "[CV] log_reg__alpha=0.3684273684210526 ...............................\n",
      "[CV] ................ log_reg__alpha=0.3157963157894737, total=   2.4s\n",
      "[CV] log_reg__alpha=0.3684273684210526 ...............................\n"
     ]
    },
    {
     "name": "stderr",
     "output_type": "stream",
     "text": [
      "[Parallel(n_jobs=-1)]: Done  33 tasks      | elapsed:   27.2s\n"
     ]
    },
    {
     "name": "stdout",
     "output_type": "stream",
     "text": [
      "[CV] ................ log_reg__alpha=0.3157963157894737, total=   2.3s\n",
      "[CV] log_reg__alpha=0.3684273684210526 ...............................\n",
      "[CV] ................ log_reg__alpha=0.3684273684210526, total=   2.5s\n",
      "[CV] ................ log_reg__alpha=0.3157963157894737, total=   2.8s\n",
      "[CV] log_reg__alpha=0.3684273684210526 ...............................\n",
      "[CV] log_reg__alpha=0.3684273684210526 ...............................\n",
      "[CV] ................ log_reg__alpha=0.3684273684210526, total=   2.2s\n",
      "[CV] log_reg__alpha=0.4210584210526316 ...............................\n",
      "[CV] ................ log_reg__alpha=0.3684273684210526, total=   2.2s\n",
      "[CV] log_reg__alpha=0.4210584210526316 ...............................\n",
      "[CV] ................ log_reg__alpha=0.3684273684210526, total=   2.2s\n",
      "[CV] log_reg__alpha=0.4210584210526316 ...............................\n",
      "[CV] ................ log_reg__alpha=0.3684273684210526, total=   2.3s\n",
      "[CV] log_reg__alpha=0.4210584210526316 ...............................\n",
      "[CV] ................ log_reg__alpha=0.4210584210526316, total=   2.3s\n",
      "[CV] log_reg__alpha=0.4210584210526316 ...............................\n",
      "[CV] ................ log_reg__alpha=0.4210584210526316, total=   2.3s\n",
      "[CV] log_reg__alpha=0.47368947368421055 ..............................\n",
      "[CV] ................ log_reg__alpha=0.4210584210526316, total=   2.2s\n",
      "[CV] log_reg__alpha=0.47368947368421055 ..............................\n",
      "[CV] ................ log_reg__alpha=0.4210584210526316, total=   2.2s\n",
      "[CV] log_reg__alpha=0.47368947368421055 ..............................\n",
      "[CV] ................ log_reg__alpha=0.4210584210526316, total=   2.4s\n",
      "[CV] log_reg__alpha=0.47368947368421055 ..............................\n",
      "[CV] ............... log_reg__alpha=0.47368947368421055, total=   2.3s\n",
      "[CV] log_reg__alpha=0.47368947368421055 ..............................\n",
      "[CV] ............... log_reg__alpha=0.47368947368421055, total=   2.0s\n",
      "[CV] log_reg__alpha=0.5263205263157894 ...............................\n",
      "[CV] ............... log_reg__alpha=0.47368947368421055, total=   2.1s\n",
      "[CV] log_reg__alpha=0.5263205263157894 ...............................\n",
      "[CV] ............... log_reg__alpha=0.47368947368421055, total=   1.9s\n",
      "[CV] log_reg__alpha=0.5263205263157894 ...............................\n",
      "[CV] ............... log_reg__alpha=0.47368947368421055, total=   2.3s\n",
      "[CV] log_reg__alpha=0.5263205263157894 ...............................\n",
      "[CV] ................ log_reg__alpha=0.5263205263157894, total=   1.9s\n",
      "[CV] log_reg__alpha=0.5263205263157894 ...............................\n",
      "[CV] ................ log_reg__alpha=0.5263205263157894, total=   2.3s\n",
      "[CV] log_reg__alpha=0.5789515789473684 ...............................\n",
      "[CV] ................ log_reg__alpha=0.5263205263157894, total=   2.1s\n",
      "[CV] log_reg__alpha=0.5789515789473684 ...............................\n",
      "[CV] ................ log_reg__alpha=0.5263205263157894, total=   2.0s\n",
      "[CV] log_reg__alpha=0.5789515789473684 ...............................\n",
      "[CV] ................ log_reg__alpha=0.5263205263157894, total=   1.9s\n",
      "[CV] log_reg__alpha=0.5789515789473684 ...............................\n",
      "[CV] ................ log_reg__alpha=0.5789515789473684, total=   2.3s\n",
      "[CV] ................ log_reg__alpha=0.5789515789473684, total=   2.0s\n",
      "[CV] log_reg__alpha=0.5789515789473684 ...............................\n",
      "[CV] log_reg__alpha=0.6315826315789473 ...............................\n",
      "[CV] ................ log_reg__alpha=0.5789515789473684, total=   2.0s\n",
      "[CV] log_reg__alpha=0.6315826315789473 ...............................\n",
      "[CV] ................ log_reg__alpha=0.5789515789473684, total=   1.9s\n",
      "[CV] log_reg__alpha=0.6315826315789473 ...............................\n",
      "[CV] ................ log_reg__alpha=0.5789515789473684, total=   1.8s\n",
      "[CV] log_reg__alpha=0.6315826315789473 ...............................\n",
      "[CV] ................ log_reg__alpha=0.6315826315789473, total=   2.3s\n",
      "[CV] log_reg__alpha=0.6315826315789473 ...............................\n",
      "[CV] ................ log_reg__alpha=0.6315826315789473, total=   2.0s\n",
      "[CV] log_reg__alpha=0.6842136842105263 ...............................\n",
      "[CV] ................ log_reg__alpha=0.6315826315789473, total=   1.9s\n",
      "[CV] log_reg__alpha=0.6842136842105263 ...............................\n",
      "[CV] ................ log_reg__alpha=0.6315826315789473, total=   2.0s\n",
      "[CV] log_reg__alpha=0.6842136842105263 ...............................\n",
      "[CV] ................ log_reg__alpha=0.6315826315789473, total=   1.9s\n",
      "[CV] log_reg__alpha=0.6842136842105263 ...............................\n",
      "[CV] ................ log_reg__alpha=0.6842136842105263, total=   2.0s\n",
      "[CV] ................ log_reg__alpha=0.6842136842105263, total=   1.8s\n",
      "[CV] log_reg__alpha=0.6842136842105263 ...............................\n",
      "[CV] log_reg__alpha=0.7368447368421052 ...............................\n",
      "[CV] ................ log_reg__alpha=0.6842136842105263, total=   2.0s\n",
      "[CV] log_reg__alpha=0.7368447368421052 ...............................\n",
      "[CV] ................ log_reg__alpha=0.6842136842105263, total=   1.9s\n",
      "[CV] log_reg__alpha=0.7368447368421052 ...............................\n",
      "[CV] ................ log_reg__alpha=0.6842136842105263, total=   1.8s\n",
      "[CV] log_reg__alpha=0.7368447368421052 ...............................\n",
      "[CV] ................ log_reg__alpha=0.7368447368421052, total=   1.8s\n",
      "[CV] log_reg__alpha=0.7368447368421052 ...............................\n",
      "[CV] ................ log_reg__alpha=0.7368447368421052, total=   1.8s\n",
      "[CV] log_reg__alpha=0.7894757894736841 ...............................\n",
      "[CV] ................ log_reg__alpha=0.7368447368421052, total=   1.8s\n",
      "[CV] log_reg__alpha=0.7894757894736841 ...............................\n",
      "[CV] ................ log_reg__alpha=0.7368447368421052, total=   1.8s\n",
      "[CV] log_reg__alpha=0.7894757894736841 ...............................\n",
      "[CV] ................ log_reg__alpha=0.7368447368421052, total=   2.0s\n",
      "[CV] log_reg__alpha=0.7894757894736841 ...............................\n",
      "[CV] ................ log_reg__alpha=0.7894757894736841, total=   1.9s\n",
      "[CV] log_reg__alpha=0.7894757894736841 ...............................\n",
      "[CV] ................ log_reg__alpha=0.7894757894736841, total=   1.9s\n",
      "[CV] log_reg__alpha=0.8421068421052631 ...............................\n",
      "[CV] ................ log_reg__alpha=0.7894757894736841, total=   1.8s\n",
      "[CV] log_reg__alpha=0.8421068421052631 ...............................\n",
      "[CV] ................ log_reg__alpha=0.7894757894736841, total=   1.8s\n",
      "[CV] log_reg__alpha=0.8421068421052631 ...............................\n",
      "[CV] ................ log_reg__alpha=0.7894757894736841, total=   1.8s\n",
      "[CV] log_reg__alpha=0.8421068421052631 ...............................\n",
      "[CV] ................ log_reg__alpha=0.8421068421052631, total=   1.8s\n",
      "[CV] log_reg__alpha=0.8421068421052631 ...............................\n",
      "[CV] ................ log_reg__alpha=0.8421068421052631, total=   1.9s\n",
      "[CV] ................ log_reg__alpha=0.8421068421052631, total=   1.7s\n",
      "[CV] log_reg__alpha=0.8947378947368421 ...............................\n",
      "[CV] log_reg__alpha=0.8947378947368421 ...............................\n",
      "[CV] ................ log_reg__alpha=0.8421068421052631, total=   1.6s\n",
      "[CV] log_reg__alpha=0.8947378947368421 ...............................\n",
      "[CV] ................ log_reg__alpha=0.8421068421052631, total=   1.8s\n",
      "[CV] log_reg__alpha=0.8947378947368421 ...............................\n",
      "[CV] ................ log_reg__alpha=0.8947378947368421, total=   1.7s\n",
      "[CV] log_reg__alpha=0.8947378947368421 ...............................\n",
      "[CV] ................ log_reg__alpha=0.8947378947368421, total=   1.9s\n",
      "[CV] log_reg__alpha=0.947368947368421 ................................\n",
      "[CV] ................ log_reg__alpha=0.8947378947368421, total=   1.8s\n",
      "[CV] log_reg__alpha=0.947368947368421 ................................\n",
      "[CV] ................ log_reg__alpha=0.8947378947368421, total=   1.7s\n",
      "[CV] log_reg__alpha=0.947368947368421 ................................\n",
      "[CV] ................ log_reg__alpha=0.8947378947368421, total=   1.8s\n",
      "[CV] log_reg__alpha=0.947368947368421 ................................\n",
      "[CV] ................. log_reg__alpha=0.947368947368421, total=   1.7s\n",
      "[CV] log_reg__alpha=0.947368947368421 ................................\n"
     ]
    },
    {
     "name": "stdout",
     "output_type": "stream",
     "text": [
      "[CV] ................. log_reg__alpha=0.947368947368421, total=   1.9s\n",
      "[CV] log_reg__alpha=1.0 ..............................................\n",
      "[CV] ................. log_reg__alpha=0.947368947368421, total=   1.8s\n",
      "[CV] log_reg__alpha=1.0 ..............................................\n",
      "[CV] ................. log_reg__alpha=0.947368947368421, total=   1.7s\n",
      "[CV] log_reg__alpha=1.0 ..............................................\n",
      "[CV] ................. log_reg__alpha=0.947368947368421, total=   1.6s\n",
      "[CV] log_reg__alpha=1.0 ..............................................\n",
      "[CV] ............................... log_reg__alpha=1.0, total=   1.8s\n",
      "[CV] log_reg__alpha=1.0 ..............................................\n",
      "[CV] ............................... log_reg__alpha=1.0, total=   1.8s\n",
      "[CV] ............................... log_reg__alpha=1.0, total=   1.5s\n",
      "[CV] ............................... log_reg__alpha=1.0, total=   1.7s\n",
      "[CV] ............................... log_reg__alpha=1.0, total=   1.3s\n"
     ]
    },
    {
     "name": "stderr",
     "output_type": "stream",
     "text": [
      "[Parallel(n_jobs=-1)]: Done 100 out of 100 | elapsed:  1.0min finished\n"
     ]
    },
    {
     "data": {
      "text/plain": [
       "GridSearchCV(cv=StratifiedKFold(n_splits=5, random_state=None, shuffle=False),\n",
       "       error_score='raise',\n",
       "       estimator=Pipeline(memory=None,\n",
       "     steps=[('pca', None), ('log_reg', SGDClassifier(alpha=0.0001, average=False, class_weight=None, epsilon=0.1,\n",
       "       eta0=0.0, fit_intercept=True, l1_ratio=0.15,\n",
       "       learning_rate='optimal', loss='log', max_iter=1000, n_iter=None,\n",
       "       n_jobs=1, penalty='l2', power_t=0.5, random_state=0, shuffle=True,\n",
       "       tol=0.001, verbose=0, warm_start=False))]),\n",
       "       fit_params=None, iid=True, n_jobs=-1,\n",
       "       param_grid={'log_reg__alpha': [1e-05, 0.05264105263157895, 0.10527210526315789, 0.15790315789473686, 0.2105342105263158, 0.26316526315789474, 0.3157963157894737, 0.3684273684210526, 0.4210584210526316, 0.47368947368421055, 0.5263205263157894, 0.5789515789473684, 0.6315826315789473, 0.6842136842105263, 0.7368447368421052, 0.7894757894736841, 0.8421068421052631, 0.8947378947368421, 0.947368947368421, 1.0]},\n",
       "       pre_dispatch='2*n_jobs', refit=True, return_train_score=True,\n",
       "       scoring=None, verbose=2)"
      ]
     },
     "execution_count": 2,
     "metadata": {},
     "output_type": "execute_result"
    }
   ],
   "source": [
    "# first, tune only the regularization strength of the estimator\n",
    "\n",
    "from sklearn.linear_model import SGDClassifier\n",
    "from sklearn.pipeline import Pipeline\n",
    "from sklearn.preprocessing import StandardScaler\n",
    "from sklearn.decomposition import PCA\n",
    "from sklearn.model_selection import StratifiedKFold\n",
    "\n",
    "# Create decision tree classifier\n",
    "pipe = Pipeline([\n",
    "    ('pca', None), # no PCA preprocessing\n",
    "    ('log_reg', SGDClassifier(loss='log', # logistic regression estimator with stochastic gradient descent (SGD)\n",
    "                              max_iter=1000, tol=1e-3, random_state=0))                              \n",
    "])\n",
    "\n",
    "# grid search with cross validation\n",
    "from sklearn.model_selection import GridSearchCV\n",
    "\n",
    "# Create cross-validation object\n",
    "grid_cv = GridSearchCV(pipe, {\n",
    "    'log_reg__alpha': list(np.linspace(0.00001,1,20)) # tune the regularization strength\n",
    "    },\n",
    "    cv=StratifiedKFold(n_splits=5), # stratified folds: each set contains approx the same % of target class\n",
    "                       n_jobs = -1,verbose = 2) \n",
    "\n",
    "# Fit estimator on train set\n",
    "grid_cv.fit(X_tr, y_tr)"
   ]
  },
  {
   "cell_type": "code",
   "execution_count": 3,
   "metadata": {},
   "outputs": [
    {
     "data": {
      "text/html": [
       "<div>\n",
       "<style scoped>\n",
       "    .dataframe tbody tr th:only-of-type {\n",
       "        vertical-align: middle;\n",
       "    }\n",
       "\n",
       "    .dataframe tbody tr th {\n",
       "        vertical-align: top;\n",
       "    }\n",
       "\n",
       "    .dataframe thead th {\n",
       "        text-align: right;\n",
       "    }\n",
       "</style>\n",
       "<table border=\"1\" class=\"dataframe\">\n",
       "  <thead>\n",
       "    <tr style=\"text-align: right;\">\n",
       "      <th></th>\n",
       "      <th>alpha</th>\n",
       "      <th>mean_te</th>\n",
       "      <th>std_te</th>\n",
       "    </tr>\n",
       "  </thead>\n",
       "  <tbody>\n",
       "    <tr>\n",
       "      <th>3</th>\n",
       "      <td>0.157903</td>\n",
       "      <td>0.83450</td>\n",
       "      <td>0.013978</td>\n",
       "    </tr>\n",
       "    <tr>\n",
       "      <th>9</th>\n",
       "      <td>0.473689</td>\n",
       "      <td>0.83450</td>\n",
       "      <td>0.019439</td>\n",
       "    </tr>\n",
       "    <tr>\n",
       "      <th>1</th>\n",
       "      <td>0.0526411</td>\n",
       "      <td>0.83400</td>\n",
       "      <td>0.017382</td>\n",
       "    </tr>\n",
       "    <tr>\n",
       "      <th>4</th>\n",
       "      <td>0.210534</td>\n",
       "      <td>0.83250</td>\n",
       "      <td>0.013624</td>\n",
       "    </tr>\n",
       "    <tr>\n",
       "      <th>10</th>\n",
       "      <td>0.526321</td>\n",
       "      <td>0.83175</td>\n",
       "      <td>0.018003</td>\n",
       "    </tr>\n",
       "    <tr>\n",
       "      <th>2</th>\n",
       "      <td>0.105272</td>\n",
       "      <td>0.83125</td>\n",
       "      <td>0.019764</td>\n",
       "    </tr>\n",
       "    <tr>\n",
       "      <th>11</th>\n",
       "      <td>0.578952</td>\n",
       "      <td>0.82900</td>\n",
       "      <td>0.016741</td>\n",
       "    </tr>\n",
       "    <tr>\n",
       "      <th>8</th>\n",
       "      <td>0.421058</td>\n",
       "      <td>0.82850</td>\n",
       "      <td>0.018207</td>\n",
       "    </tr>\n",
       "    <tr>\n",
       "      <th>5</th>\n",
       "      <td>0.263165</td>\n",
       "      <td>0.82825</td>\n",
       "      <td>0.021193</td>\n",
       "    </tr>\n",
       "    <tr>\n",
       "      <th>12</th>\n",
       "      <td>0.631583</td>\n",
       "      <td>0.82750</td>\n",
       "      <td>0.015350</td>\n",
       "    </tr>\n",
       "  </tbody>\n",
       "</table>\n",
       "</div>"
      ],
      "text/plain": [
       "        alpha  mean_te    std_te\n",
       "3    0.157903  0.83450  0.013978\n",
       "9    0.473689  0.83450  0.019439\n",
       "1   0.0526411  0.83400  0.017382\n",
       "4    0.210534  0.83250  0.013624\n",
       "10   0.526321  0.83175  0.018003\n",
       "2    0.105272  0.83125  0.019764\n",
       "11   0.578952  0.82900  0.016741\n",
       "8    0.421058  0.82850  0.018207\n",
       "5    0.263165  0.82825  0.021193\n",
       "12   0.631583  0.82750  0.015350"
      ]
     },
     "execution_count": 3,
     "metadata": {},
     "output_type": "execute_result"
    }
   ],
   "source": [
    "import pandas as pd\n",
    "\n",
    "# Collect results in a DataFrame\n",
    "df = pd.DataFrame.from_items([\n",
    "    ('alpha', grid_cv.cv_results_['param_log_reg__alpha']),\n",
    "    ('mean_te', grid_cv.cv_results_['mean_test_score']),\n",
    "    ('std_te', grid_cv.cv_results_['std_test_score'])\n",
    "])\n",
    "df.sort_values(by='mean_te', ascending=False).head(10)"
   ]
  },
  {
   "cell_type": "code",
   "execution_count": 4,
   "metadata": {
    "scrolled": false
   },
   "outputs": [
    {
     "name": "stdout",
     "output_type": "stream",
     "text": [
      "Fitting 5 folds for each of 32 candidates, totalling 160 fits\n"
     ]
    },
    {
     "name": "stderr",
     "output_type": "stream",
     "text": [
      "[Parallel(n_jobs=-1)]: Done  42 tasks      | elapsed:   40.2s\n",
      "[Parallel(n_jobs=-1)]: Done 160 out of 160 | elapsed:  2.4min finished\n"
     ]
    },
    {
     "data": {
      "text/plain": [
       "GridSearchCV(cv=StratifiedKFold(n_splits=5, random_state=None, shuffle=False),\n",
       "       error_score='raise',\n",
       "       estimator=Pipeline(memory=None,\n",
       "     steps=[('pca', PCA(copy=True, iterated_power='auto', n_components=None, random_state=None,\n",
       "  svd_solver='auto', tol=0.0, whiten=False)), ('log_reg', SGDClassifier(alpha=0.0001, average=False, class_weight=None, epsilon=0.1,\n",
       "       eta0=0.0, fit_intercept=True, l1...y='l2', power_t=0.5, random_state=0, shuffle=True,\n",
       "       tol=0.001, verbose=0, warm_start=False))]),\n",
       "       fit_params=None, iid=True, n_jobs=-1,\n",
       "       param_grid=[{'pca__n_components': [61, 172, 400], 'log_reg__alpha': [0.001, 0.07228571428571429, 0.14357142857142857, 0.21485714285714286, 0.28614285714285714, 0.35742857142857143, 0.4287142857142857, 0.5]}, {'pca': [None], 'log_reg__alpha': [0.001, 0.07228571428571429, 0.14357142857142857, 0.21485714285714286, 0.28614285714285714, 0.35742857142857143, 0.4287142857142857, 0.5]}],\n",
       "       pre_dispatch='2*n_jobs', refit=True, return_train_score=True,\n",
       "       scoring=None, verbose=1)"
      ]
     },
     "execution_count": 4,
     "metadata": {},
     "output_type": "execute_result"
    }
   ],
   "source": [
    "# grid search with fewer values for alpha and PCA\n",
    "\n",
    "# Create decision tree classifier\n",
    "pipe = Pipeline([\n",
    "    ('pca', PCA()), # PCA preprocessing\n",
    "    ('log_reg', SGDClassifier(loss='log', # logistic regression estimator with stochastic gradient descent (SGD)\n",
    "                              max_iter=1000, tol=1e-3, random_state=0))                              \n",
    "])\n",
    "\n",
    "# Create cross-validation object\n",
    "grid_cv = GridSearchCV(pipe, [{\n",
    "    'pca__n_components': [61,172, 400], # with PCA\n",
    "    'log_reg__alpha': list(np.linspace(0.001,0.5,8)) # tune the regularization strength\n",
    "    }, { 'pca': [None], # without PCA\n",
    "    'log_reg__alpha': list(np.linspace(0.001,0.5,8)) # tune the regularization strength\n",
    "    }], \n",
    "    cv=StratifiedKFold(n_splits=5), # stratified folds: each set contains approx the same % of target class\n",
    "    n_jobs = -1,verbose = 1) # stratified 5-fold strategy\n",
    "\n",
    "# Fit estimator on train set\n",
    "grid_cv.fit(X_tr, y_tr)"
   ]
  },
  {
   "cell_type": "code",
   "execution_count": 5,
   "metadata": {},
   "outputs": [
    {
     "data": {
      "text/html": [
       "<div>\n",
       "<style scoped>\n",
       "    .dataframe tbody tr th:only-of-type {\n",
       "        vertical-align: middle;\n",
       "    }\n",
       "\n",
       "    .dataframe tbody tr th {\n",
       "        vertical-align: top;\n",
       "    }\n",
       "\n",
       "    .dataframe thead th {\n",
       "        text-align: right;\n",
       "    }\n",
       "</style>\n",
       "<table border=\"1\" class=\"dataframe\">\n",
       "  <thead>\n",
       "    <tr style=\"text-align: right;\">\n",
       "      <th></th>\n",
       "      <th>alpha</th>\n",
       "      <th>pca</th>\n",
       "      <th>pca comp</th>\n",
       "      <th>mean_te</th>\n",
       "      <th>std_te</th>\n",
       "    </tr>\n",
       "  </thead>\n",
       "  <tbody>\n",
       "    <tr>\n",
       "      <th>25</th>\n",
       "      <td>0.0722857</td>\n",
       "      <td>None</td>\n",
       "      <td>NaN</td>\n",
       "      <td>0.83525</td>\n",
       "      <td>0.017128</td>\n",
       "    </tr>\n",
       "    <tr>\n",
       "      <th>27</th>\n",
       "      <td>0.214857</td>\n",
       "      <td>None</td>\n",
       "      <td>NaN</td>\n",
       "      <td>0.83300</td>\n",
       "      <td>0.013360</td>\n",
       "    </tr>\n",
       "    <tr>\n",
       "      <th>31</th>\n",
       "      <td>0.5</td>\n",
       "      <td>None</td>\n",
       "      <td>NaN</td>\n",
       "      <td>0.83225</td>\n",
       "      <td>0.018497</td>\n",
       "    </tr>\n",
       "    <tr>\n",
       "      <th>26</th>\n",
       "      <td>0.143571</td>\n",
       "      <td>None</td>\n",
       "      <td>NaN</td>\n",
       "      <td>0.83200</td>\n",
       "      <td>0.014243</td>\n",
       "    </tr>\n",
       "    <tr>\n",
       "      <th>14</th>\n",
       "      <td>0.286143</td>\n",
       "      <td>NaN</td>\n",
       "      <td>400</td>\n",
       "      <td>0.83100</td>\n",
       "      <td>0.013679</td>\n",
       "    </tr>\n",
       "    <tr>\n",
       "      <th>2</th>\n",
       "      <td>0.001</td>\n",
       "      <td>NaN</td>\n",
       "      <td>400</td>\n",
       "      <td>0.83050</td>\n",
       "      <td>0.017493</td>\n",
       "    </tr>\n",
       "    <tr>\n",
       "      <th>30</th>\n",
       "      <td>0.428714</td>\n",
       "      <td>None</td>\n",
       "      <td>NaN</td>\n",
       "      <td>0.83050</td>\n",
       "      <td>0.018618</td>\n",
       "    </tr>\n",
       "    <tr>\n",
       "      <th>8</th>\n",
       "      <td>0.143571</td>\n",
       "      <td>NaN</td>\n",
       "      <td>400</td>\n",
       "      <td>0.83050</td>\n",
       "      <td>0.013266</td>\n",
       "    </tr>\n",
       "    <tr>\n",
       "      <th>17</th>\n",
       "      <td>0.357429</td>\n",
       "      <td>NaN</td>\n",
       "      <td>400</td>\n",
       "      <td>0.83000</td>\n",
       "      <td>0.014208</td>\n",
       "    </tr>\n",
       "    <tr>\n",
       "      <th>20</th>\n",
       "      <td>0.428714</td>\n",
       "      <td>NaN</td>\n",
       "      <td>400</td>\n",
       "      <td>0.82975</td>\n",
       "      <td>0.014370</td>\n",
       "    </tr>\n",
       "  </tbody>\n",
       "</table>\n",
       "</div>"
      ],
      "text/plain": [
       "        alpha   pca pca comp  mean_te    std_te\n",
       "25  0.0722857  None      NaN  0.83525  0.017128\n",
       "27   0.214857  None      NaN  0.83300  0.013360\n",
       "31        0.5  None      NaN  0.83225  0.018497\n",
       "26   0.143571  None      NaN  0.83200  0.014243\n",
       "14   0.286143   NaN      400  0.83100  0.013679\n",
       "2       0.001   NaN      400  0.83050  0.017493\n",
       "30   0.428714  None      NaN  0.83050  0.018618\n",
       "8    0.143571   NaN      400  0.83050  0.013266\n",
       "17   0.357429   NaN      400  0.83000  0.014208\n",
       "20   0.428714   NaN      400  0.82975  0.014370"
      ]
     },
     "execution_count": 5,
     "metadata": {},
     "output_type": "execute_result"
    }
   ],
   "source": [
    "# Collect results in a DataFrame\n",
    "df = pd.DataFrame.from_items([\n",
    "    ('alpha', grid_cv.cv_results_['param_log_reg__alpha']),\n",
    "    ('pca', grid_cv.cv_results_['param_pca']),\n",
    "    ('pca comp', grid_cv.cv_results_['param_pca__n_components']),\n",
    "    ('mean_te', grid_cv.cv_results_['mean_test_score']),\n",
    "    ('std_te', grid_cv.cv_results_['std_test_score'])\n",
    "])\n",
    "df.sort_values(by='mean_te', ascending=False).head(10)"
   ]
  },
  {
   "cell_type": "code",
   "execution_count": 6,
   "metadata": {},
   "outputs": [
    {
     "name": "stdout",
     "output_type": "stream",
     "text": [
      "Top accuracy across folds: 0.83525 (std:) 0.01712819313296065  with nan components  and alpha: 0.07228571428571429\n"
     ]
    }
   ],
   "source": [
    "best = df.sort_values(by='mean_te', ascending=False)[0:1]\n",
    "print('Top accuracy across folds:', best.iloc[0,3],\n",
    "      '(std:)', best.iloc[0,4], ' with', best.iloc[0,2], 'components', ' and alpha:', best.iloc[0,0])"
   ]
  },
  {
   "cell_type": "code",
   "execution_count": 7,
   "metadata": {},
   "outputs": [
    {
     "name": "stdout",
     "output_type": "stream",
     "text": [
      "Logistic regression accuracy on the test set: 0.840\n"
     ]
    }
   ],
   "source": [
    "# evaluate its accuracy on the test set\n",
    "accuracy_log = grid_cv.best_estimator_.score(X_te, y_te)\n",
    "print ('Logistic regression accuracy on the test set: {:.3f}'.format(accuracy_log))\n",
    "\n",
    "# save results\n",
    "import csv\n",
    "results = ['Logistic regression', accuracy_log]\n",
    "with open(r'results.csv', 'a') as f:\n",
    "    writer = csv.writer(f)\n",
    "    writer.writerow(results)"
   ]
  },
  {
   "cell_type": "markdown",
   "metadata": {},
   "source": [
    "### Pick ten images from the test set and compute the probabilities for each class."
   ]
  },
  {
   "cell_type": "code",
   "execution_count": 8,
   "metadata": {},
   "outputs": [
    {
     "data": {
      "text/html": [
       "<div>\n",
       "<style scoped>\n",
       "    .dataframe tbody tr th:only-of-type {\n",
       "        vertical-align: middle;\n",
       "    }\n",
       "\n",
       "    .dataframe tbody tr th {\n",
       "        vertical-align: top;\n",
       "    }\n",
       "\n",
       "    .dataframe thead th {\n",
       "        text-align: right;\n",
       "    }\n",
       "</style>\n",
       "<table border=\"1\" class=\"dataframe\">\n",
       "  <thead>\n",
       "    <tr style=\"text-align: right;\">\n",
       "      <th></th>\n",
       "      <th>truck</th>\n",
       "      <th>car</th>\n",
       "      <th>airplane</th>\n",
       "      <th>ship</th>\n",
       "    </tr>\n",
       "  </thead>\n",
       "  <tbody>\n",
       "    <tr>\n",
       "      <th>0</th>\n",
       "      <td>0.50</td>\n",
       "      <td>0.50</td>\n",
       "      <td>0.00</td>\n",
       "      <td>0.00</td>\n",
       "    </tr>\n",
       "    <tr>\n",
       "      <th>1</th>\n",
       "      <td>0.97</td>\n",
       "      <td>0.00</td>\n",
       "      <td>0.00</td>\n",
       "      <td>0.03</td>\n",
       "    </tr>\n",
       "    <tr>\n",
       "      <th>2</th>\n",
       "      <td>1.00</td>\n",
       "      <td>0.00</td>\n",
       "      <td>0.00</td>\n",
       "      <td>0.00</td>\n",
       "    </tr>\n",
       "    <tr>\n",
       "      <th>3</th>\n",
       "      <td>0.26</td>\n",
       "      <td>0.74</td>\n",
       "      <td>0.00</td>\n",
       "      <td>0.00</td>\n",
       "    </tr>\n",
       "    <tr>\n",
       "      <th>4</th>\n",
       "      <td>0.93</td>\n",
       "      <td>0.02</td>\n",
       "      <td>0.03</td>\n",
       "      <td>0.01</td>\n",
       "    </tr>\n",
       "    <tr>\n",
       "      <th>5</th>\n",
       "      <td>0.00</td>\n",
       "      <td>0.94</td>\n",
       "      <td>0.04</td>\n",
       "      <td>0.01</td>\n",
       "    </tr>\n",
       "    <tr>\n",
       "      <th>6</th>\n",
       "      <td>0.00</td>\n",
       "      <td>0.00</td>\n",
       "      <td>0.00</td>\n",
       "      <td>1.00</td>\n",
       "    </tr>\n",
       "    <tr>\n",
       "      <th>7</th>\n",
       "      <td>0.06</td>\n",
       "      <td>0.00</td>\n",
       "      <td>0.92</td>\n",
       "      <td>0.02</td>\n",
       "    </tr>\n",
       "    <tr>\n",
       "      <th>8</th>\n",
       "      <td>0.00</td>\n",
       "      <td>0.00</td>\n",
       "      <td>0.09</td>\n",
       "      <td>0.91</td>\n",
       "    </tr>\n",
       "    <tr>\n",
       "      <th>9</th>\n",
       "      <td>0.00</td>\n",
       "      <td>0.00</td>\n",
       "      <td>0.99</td>\n",
       "      <td>0.00</td>\n",
       "    </tr>\n",
       "  </tbody>\n",
       "</table>\n",
       "</div>"
      ],
      "text/plain": [
       "   truck   car  airplane  ship\n",
       "0   0.50  0.50      0.00  0.00\n",
       "1   0.97  0.00      0.00  0.03\n",
       "2   1.00  0.00      0.00  0.00\n",
       "3   0.26  0.74      0.00  0.00\n",
       "4   0.93  0.02      0.03  0.01\n",
       "5   0.00  0.94      0.04  0.01\n",
       "6   0.00  0.00      0.00  1.00\n",
       "7   0.06  0.00      0.92  0.02\n",
       "8   0.00  0.00      0.09  0.91\n",
       "9   0.00  0.00      0.99  0.00"
      ]
     },
     "execution_count": 8,
     "metadata": {},
     "output_type": "execute_result"
    }
   ],
   "source": [
    "# Pick ten images from the test set \n",
    "# and compute the probability of each class using the predict_proba() function of your estimator. \n",
    "import random\n",
    "random_img = random.sample(range(0, len(X_te)), 10)\n",
    "probability = grid_cv.best_estimator_.predict_proba(X_te[random_img])\n",
    "\n",
    "df_img = pd.DataFrame(probability, columns=['truck','car','airplane','ship']).round(2)\n",
    "df_img"
   ]
  },
  {
   "cell_type": "code",
   "execution_count": 9,
   "metadata": {},
   "outputs": [
    {
     "data": {
      "image/png": "[encoded data removed]",
      "text/plain": [
       "<matplotlib.figure.Figure at 0x1a1fe62470>"
      ]
     },
     "metadata": {},
     "output_type": "display_data"
    },
    {
     "data": {
      "image/png": "[encoded data removed]",
      "text/plain": [
       "<matplotlib.figure.Figure at 0x1a38e56cc0>"
      ]
     },
     "metadata": {},
     "output_type": "display_data"
    },
    {
     "data": {
      "image/png": "[encoded data removed]",
      "text/plain": [
       "<matplotlib.figure.Figure at 0x1a38efa438>"
      ]
     },
     "metadata": {},
     "output_type": "display_data"
    },
    {
     "data": {
      "image/png": "[encoded data removed]",
      "text/plain": [
       "<matplotlib.figure.Figure at 0x1a38f6c898>"
      ]
     },
     "metadata": {},
     "output_type": "display_data"
    },
    {
     "data": {
      "image/png": "[encoded data removed]",
      "text/plain": [
       "<matplotlib.figure.Figure at 0x1a38fec748>"
      ]
     },
     "metadata": {},
     "output_type": "display_data"
    },
    {
     "data": {
      "image/png": "[encoded data removed]",
      "text/plain": [
       "<matplotlib.figure.Figure at 0x1a390026d8>"
      ]
     },
     "metadata": {},
     "output_type": "display_data"
    },
    {
     "data": {
      "image/png": "[encoded data removed]",
      "text/plain": [
       "<matplotlib.figure.Figure at 0x1a390befd0>"
      ]
     },
     "metadata": {},
     "output_type": "display_data"
    },
    {
     "data": {
      "image/png": "[encoded data removed]",
      "text/plain": [
       "<matplotlib.figure.Figure at 0x1a3917a198>"
      ]
     },
     "metadata": {},
     "output_type": "display_data"
    },
    {
     "data": {
      "image/png": "[encoded data removed]",
      "text/plain": [
       "<matplotlib.figure.Figure at 0x1a3917ac88>"
      ]
     },
     "metadata": {},
     "output_type": "display_data"
    },
    {
     "data": {
      "image/png": "[encoded data removed]",
      "text/plain": [
       "<matplotlib.figure.Figure at 0x1a391884a8>"
      ]
     },
     "metadata": {},
     "output_type": "display_data"
    }
   ],
   "source": [
    "# Plotting the results\n",
    "%matplotlib inline\n",
    "import matplotlib.pyplot as plt\n",
    "\n",
    "results = pixels_te[random_img]\n",
    "for i in range(len(results)):\n",
    "    flat_img = results[i,:]\n",
    "    img = flat_img.reshape(32, 32, 3)\n",
    "    plt.figure(figsize=(2,2))\n",
    "    plt.axis('off')\n",
    "    plt.imshow(img)\n",
    "    plt.title(i)\n",
    "    plt.show()"
   ]
  },
  {
   "cell_type": "code",
   "execution_count": 10,
   "metadata": {
    "scrolled": true
   },
   "outputs": [
    {
     "name": "stderr",
     "output_type": "stream",
     "text": [
      "/Applications/Anaconda/anaconda3/envs/exts-aml2/lib/python3.6/site-packages/sklearn/linear_model/base.py:340: RuntimeWarning: overflow encountered in exp\n",
      "  np.exp(prob, prob)\n"
     ]
    },
    {
     "name": "stdout",
     "output_type": "stream",
     "text": [
      "alpha = 0.0001\n",
      "   truck  car  airplane  ship\n",
      "0    0.5  0.5       0.0   0.0\n",
      "1    1.0  0.0       0.0   0.0\n",
      "2    1.0  0.0       0.0   0.0\n",
      "3    0.5  0.5       0.0   0.0\n",
      "4    1.0  0.0       0.0   0.0\n",
      "5    0.0  1.0       0.0   0.0\n",
      "6    0.0  0.0       0.0   1.0\n",
      "7    0.0  0.0       1.0   0.0\n",
      "8    0.0  0.0       0.0   1.0\n",
      "9    0.0  0.0       1.0   0.0\n",
      "alpha = 0.1\n",
      "   truck   car  airplane  ship\n",
      "0   0.50  0.50      0.00  0.00\n",
      "1   1.00  0.00      0.00  0.00\n",
      "2   1.00  0.00      0.00  0.00\n",
      "3   0.49  0.51      0.00  0.00\n",
      "4   1.00  0.00      0.00  0.00\n",
      "5   0.00  1.00      0.00  0.00\n",
      "6   0.00  0.00      0.00  1.00\n",
      "7   0.00  0.00      0.99  0.01\n",
      "8   0.00  0.00      0.02  0.98\n",
      "9   0.00  0.00      1.00  0.00\n",
      "alpha = 1\n",
      "   truck   car  airplane  ship\n",
      "0   0.44  0.52      0.03  0.01\n",
      "1   0.72  0.01      0.00  0.27\n",
      "2   0.94  0.00      0.01  0.05\n",
      "3   0.47  0.50      0.00  0.02\n",
      "4   0.68  0.03      0.15  0.15\n",
      "5   0.02  0.77      0.09  0.13\n",
      "6   0.04  0.00      0.01  0.95\n",
      "7   0.09  0.01      0.62  0.28\n",
      "8   0.06  0.00      0.34  0.60\n",
      "9   0.01  0.02      0.86  0.12\n",
      "alpha = 10\n",
      "   truck   car  airplane  ship\n",
      "0   0.38  0.39      0.13  0.10\n",
      "1   0.51  0.11      0.06  0.32\n",
      "2   0.60  0.12      0.08  0.20\n",
      "3   0.38  0.41      0.10  0.11\n",
      "4   0.41  0.13      0.21  0.25\n",
      "5   0.10  0.46      0.21  0.23\n",
      "6   0.19  0.08      0.16  0.57\n",
      "7   0.15  0.12      0.39  0.34\n",
      "8   0.18  0.07      0.33  0.42\n",
      "9   0.09  0.11      0.48  0.31\n"
     ]
    }
   ],
   "source": [
    "# Variying regularization strenght of the estimator and assesing impact on probabilities\n",
    "x_prob = []\n",
    "alphas = [0.0001, 0.1, 1, 10]\n",
    "\n",
    "# The effect of regularization on probabilities\n",
    "for i, a in enumerate(alphas):\n",
    "    pipe = Pipeline([\n",
    "    ('pca', PCA(n_components= 172)), # PCA preprocessing\n",
    "    ('log_reg', SGDClassifier(loss='log', # logistic regression estimator with stochastic gradient descent (SGD)\n",
    "                              alpha= a, max_iter=1000, tol=1e-3, random_state=0))                              \n",
    "])\n",
    "    pipe.fit(X_tr, y_tr)\n",
    "    prob = pipe.predict_proba(X_te[random_img])\n",
    "    x_prob.append(prob)\n",
    "    df = pd.DataFrame(x_prob[i], columns=['truck','car','airplane','ship']).round(2)\n",
    "    print('alpha = {}'.format(a))\n",
    "    print(df)"
   ]
  },
  {
   "cell_type": "markdown",
   "metadata": {},
   "source": [
    "As regularization strenght increses, the probabilities are more spread out over the different classes (the model as more trouble differentiating the classes)."
   ]
  },
  {
   "cell_type": "markdown",
   "metadata": {},
   "source": [
    "### Compute predictions\n",
    "We will use this model to compute predictions on the unlabeled data."
   ]
  },
  {
   "cell_type": "code",
   "execution_count": 11,
   "metadata": {},
   "outputs": [
    {
     "name": "stdout",
     "output_type": "stream",
     "text": [
      "dict_keys(['pixels', 'overfeat', 'allow_pickle'])\n",
      "X Pred shape (1000, 4096)\n"
     ]
    }
   ],
   "source": [
    "# Load unlabeled test set\n",
    "with np.load('cifar4-test.npz',allow_pickle=False) as npz_file:\n",
    "    data = dict(npz_file.items())\n",
    "print (data.keys())\n",
    "\n",
    "X_pred = data['overfeat']\n",
    "print('X Pred shape', X_pred.shape)"
   ]
  },
  {
   "cell_type": "code",
   "execution_count": 14,
   "metadata": {},
   "outputs": [
    {
     "data": {
      "text/plain": [
       "(1000,)"
      ]
     },
     "execution_count": 14,
     "metadata": {},
     "output_type": "execute_result"
    }
   ],
   "source": [
    "results = grid_cv.predict(X_pred)\n",
    "np.save('test-predictions.npy', results)\n",
    "results.shape"
   ]
  },
  {
   "cell_type": "code",
   "execution_count": null,
   "metadata": {},
   "outputs": [],
   "source": []
  }
 ],
 "metadata": {
  "kernelspec": {
   "display_name": "Python 3",
   "language": "python",
   "name": "python3"
  },
  "language_info": {
   "codemirror_mode": {
    "name": "ipython",
    "version": 3
   },
   "file_extension": ".py",
   "mimetype": "text/x-python",
   "name": "python",
   "nbconvert_exporter": "python",
   "pygments_lexer": "ipython3",
   "version": "3.6.4"
  }
 },
 "nbformat": 4,
 "nbformat_minor": 2
}
