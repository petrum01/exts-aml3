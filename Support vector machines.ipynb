{
 "cells": [
  {
   "cell_type": "code",
   "execution_count": 1,
   "metadata": {},
   "outputs": [
    {
     "name": "stdout",
     "output_type": "stream",
     "text": [
      "dict_keys(['pixels', 'overfeat', 'labels', 'names', 'allow_pickle'])\n",
      "pixels shape : (5000, 3072) , dtype: uint8\n",
      "overfeat shape : (5000, 4096) , dtype: float32\n",
      "labels shape : (5000,) , dtype: int64\n",
      "Categories: ['truck' 'car' 'airplane' 'ship']\n",
      "Train: (4000, 4096) (4000,)\n",
      "Test: (1000, 4096) (1000,)\n"
     ]
    }
   ],
   "source": [
    "import numpy as np\n",
    "import os\n",
    "\n",
    "# Load the data\n",
    "with np.load('cifar4-train.npz', allow_pickle=False) as npz_file:\n",
    "    # Load items into a dictionary\n",
    "    cifar = dict(npz_file.items())\n",
    "\n",
    "print(cifar.keys())\n",
    "\n",
    "pixels = cifar['pixels']\n",
    "overfeat = cifar['overfeat']\n",
    "labels = cifar['labels']\n",
    "names = cifar['names']\n",
    "\n",
    "print('pixels shape :',pixels.shape, ', dtype:', pixels.dtype)\n",
    "print('overfeat shape :',overfeat.shape, ', dtype:', overfeat.dtype)\n",
    "print('labels shape :',labels.shape, ', dtype:', labels.dtype)\n",
    "print('Categories:', names)\n",
    "\n",
    "# split the Overfeat data into train/test sets w/ same proportion of classes in each subset\n",
    "\n",
    "import pandas as pd\n",
    "from sklearn.model_selection import train_test_split\n",
    "\n",
    "X_tr, X_te, y_tr, y_te = train_test_split(\n",
    "    overfeat, labels, train_size=4000, test_size=1000, \n",
    "    stratify=labels , # same class distribution\n",
    "    random_state=0)\n",
    "\n",
    "print('Train:', X_tr.shape, y_tr.shape)\n",
    "print('Test:', X_te.shape, y_te.shape)"
   ]
  },
  {
   "cell_type": "markdown",
   "metadata": {},
   "source": [
    "### SVM classifier with a linear kernel"
   ]
  },
  {
   "cell_type": "code",
   "execution_count": 2,
   "metadata": {},
   "outputs": [],
   "source": [
    "from sklearn.svm import LinearSVC\n",
    "from sklearn.pipeline import Pipeline\n",
    "from sklearn.preprocessing import StandardScaler\n",
    "from sklearn.decomposition import PCA\n",
    "from sklearn.model_selection import StratifiedKFold\n",
    "\n",
    "# Create decision tree classifier\n",
    "pipe = Pipeline([\n",
    "    #('scaler', StandardScaler()), #  Standardization\n",
    "    ('pca', PCA(n_components=172)), # PCA preprocessing, retain 90% of the variance explained.\n",
    "    ('linear_svc', LinearSVC()) # SVM with linear kernel\n",
    "])\n",
    "\n",
    "# grid search with cross validation\n",
    "from sklearn.model_selection import GridSearchCV\n",
    "\n",
    "# Create cross-validation object, with stratified split strategy\n",
    "grid_cv = GridSearchCV(pipe, {\n",
    "    #'scaler': [None,StandardScaler()],\n",
    "    #'pca' : [None, PCA(n_components=172)],\n",
    "    'linear_svc__C': list(np.linspace(0.0001,0.3,15)) # list of C values\n",
    "    }, cv=StratifiedKFold(n_splits=5), # stratified folds: each set contains approx the same % of target class\n",
    "                       n_jobs = -1,verbose = 5) "
   ]
  },
  {
   "cell_type": "code",
   "execution_count": 3,
   "metadata": {},
   "outputs": [
    {
     "name": "stdout",
     "output_type": "stream",
     "text": [
      "Fitting 5 folds for each of 15 candidates, totalling 75 fits\n",
      "[CV] linear_svc__C=0.0001 ............................................\n",
      "[CV] linear_svc__C=0.0001 ............................................\n",
      "[CV] linear_svc__C=0.0001 ............................................\n",
      "[CV] linear_svc__C=0.0001 ............................................\n",
      "[CV] ............... linear_svc__C=0.0001, score=0.8225, total=   6.1s\n",
      "[CV] linear_svc__C=0.0001 ............................................\n",
      "[CV] .............. linear_svc__C=0.0001, score=0.82375, total=   6.9s\n",
      "[CV] linear_svc__C=0.02152142857142857 ...............................\n",
      "[CV] .............. linear_svc__C=0.0001, score=0.84125, total=   7.0s\n",
      "[CV] .............. linear_svc__C=0.0001, score=0.80375, total=   6.8s\n",
      "[CV] linear_svc__C=0.02152142857142857 ...............................\n",
      "[CV] linear_svc__C=0.02152142857142857 ...............................\n",
      "[CV] .............. linear_svc__C=0.0001, score=0.83875, total=   5.6s\n",
      "[CV] linear_svc__C=0.02152142857142857 ...............................\n",
      "[CV] ... linear_svc__C=0.02152142857142857, score=0.815, total=   9.9s\n",
      "[CV] linear_svc__C=0.02152142857142857 ...............................\n",
      "[CV] . linear_svc__C=0.02152142857142857, score=0.85625, total=   9.7s\n",
      "[CV] linear_svc__C=0.042942857142857144 ..............................\n",
      "[CV] . linear_svc__C=0.02152142857142857, score=0.84375, total=  10.0s\n",
      "[CV] linear_svc__C=0.042942857142857144 ..............................\n",
      "[CV] . linear_svc__C=0.02152142857142857, score=0.81125, total=  10.5s\n",
      "[CV] linear_svc__C=0.042942857142857144 ..............................\n",
      "[CV] . linear_svc__C=0.02152142857142857, score=0.84125, total=  10.2s\n",
      "[CV] linear_svc__C=0.042942857142857144 ..............................\n"
     ]
    },
    {
     "name": "stderr",
     "output_type": "stream",
     "text": [
      "[Parallel(n_jobs=-1)]: Done  10 tasks      | elapsed:   28.2s\n"
     ]
    },
    {
     "name": "stdout",
     "output_type": "stream",
     "text": [
      "[CV] ... linear_svc__C=0.042942857142857144, score=0.81, total=  10.2s\n",
      "[CV] linear_svc__C=0.042942857142857144 ..............................\n",
      "[CV] . linear_svc__C=0.042942857142857144, score=0.8425, total=  10.7s\n",
      "[CV] linear_svc__C=0.06436428571428572 ...............................\n",
      "[CV]  linear_svc__C=0.042942857142857144, score=0.85125, total=  10.8s\n",
      "[CV] linear_svc__C=0.06436428571428572 ...............................\n",
      "[CV]  linear_svc__C=0.042942857142857144, score=0.81125, total=   9.5s\n",
      "[CV] linear_svc__C=0.06436428571428572 ...............................\n",
      "[CV] . linear_svc__C=0.042942857142857144, score=0.8425, total=   9.5s\n",
      "[CV] linear_svc__C=0.06436428571428572 ...............................\n",
      "[CV] . linear_svc__C=0.06436428571428572, score=0.80625, total=   9.2s\n",
      "[CV] linear_svc__C=0.06436428571428572 ...............................\n",
      "[CV] . linear_svc__C=0.06436428571428572, score=0.83375, total=  10.3s\n",
      "[CV] linear_svc__C=0.08578571428571428 ...............................\n",
      "[CV] .. linear_svc__C=0.06436428571428572, score=0.8425, total=  10.0s\n",
      "[CV] . linear_svc__C=0.06436428571428572, score=0.80625, total=   9.7s\n",
      "[CV] linear_svc__C=0.08578571428571428 ...............................\n",
      "[CV] linear_svc__C=0.08578571428571428 ...............................\n",
      "[CV] . linear_svc__C=0.06436428571428572, score=0.83125, total=   9.6s\n",
      "[CV] linear_svc__C=0.08578571428571428 ...............................\n",
      "[CV] . linear_svc__C=0.08578571428571428, score=0.80875, total=  10.7s\n",
      "[CV] linear_svc__C=0.08578571428571428 ...............................\n",
      "[CV] .. linear_svc__C=0.08578571428571428, score=0.8025, total=   9.8s\n",
      "[CV] .. linear_svc__C=0.08578571428571428, score=0.8375, total=  10.1s\n",
      "[CV] linear_svc__C=0.10720714285714285 ...............................\n",
      "[CV] linear_svc__C=0.10720714285714285 ...............................\n",
      "[CV] . linear_svc__C=0.08578571428571428, score=0.85625, total=  10.3s\n",
      "[CV] linear_svc__C=0.10720714285714285 ...............................\n",
      "[CV] . linear_svc__C=0.08578571428571428, score=0.83125, total=  12.1s\n",
      "[CV] linear_svc__C=0.10720714285714285 ...............................\n",
      "[CV] . linear_svc__C=0.10720714285714285, score=0.81125, total=  13.4s\n",
      "[CV] linear_svc__C=0.10720714285714285 ...............................\n",
      "[CV] ... linear_svc__C=0.10720714285714285, score=0.835, total=  13.6s\n",
      "[CV] linear_svc__C=0.12862857142857143 ...............................\n",
      "[CV] .. linear_svc__C=0.10720714285714285, score=0.8525, total=  13.7s\n",
      "[CV] linear_svc__C=0.12862857142857143 ...............................\n",
      "[CV] .... linear_svc__C=0.10720714285714285, score=0.81, total=  14.6s\n",
      "[CV] linear_svc__C=0.12862857142857143 ...............................\n",
      "[CV] . linear_svc__C=0.10720714285714285, score=0.83375, total=  12.8s\n",
      "[CV] linear_svc__C=0.12862857142857143 ...............................\n",
      "[CV] . linear_svc__C=0.12862857142857143, score=0.81125, total=  12.6s\n",
      "[CV] linear_svc__C=0.12862857142857143 ...............................\n",
      "[CV] .. linear_svc__C=0.12862857142857143, score=0.8375, total=  12.4s\n",
      "[CV] linear_svc__C=0.15005 ...........................................\n",
      "[CV] .. linear_svc__C=0.12862857142857143, score=0.8475, total=  12.2s\n",
      "[CV] linear_svc__C=0.15005 ...........................................\n",
      "[CV] . linear_svc__C=0.12862857142857143, score=0.82125, total=  11.9s\n",
      "[CV] linear_svc__C=0.15005 ...........................................\n",
      "[CV] ............. linear_svc__C=0.15005, score=0.81625, total=  11.5s\n",
      "[CV] linear_svc__C=0.15005 ...........................................\n",
      "[CV] .. linear_svc__C=0.12862857142857143, score=0.8275, total=  11.9s\n",
      "[CV] linear_svc__C=0.15005 ...........................................\n",
      "[CV] ................ linear_svc__C=0.15005, score=0.84, total=  12.1s\n",
      "[CV] linear_svc__C=0.17147142857142855 ...............................\n",
      "[CV] ................ linear_svc__C=0.15005, score=0.81, total=  10.9s\n",
      "[CV] linear_svc__C=0.17147142857142855 ...............................\n",
      "[CV] ............. linear_svc__C=0.15005, score=0.82625, total=  10.9s\n",
      "[CV] linear_svc__C=0.17147142857142855 ...............................\n",
      "[CV] ............. linear_svc__C=0.15005, score=0.84375, total=  11.5s\n",
      "[CV] linear_svc__C=0.17147142857142855 ...............................\n",
      "[CV] . linear_svc__C=0.17147142857142855, score=0.80625, total=  11.5s\n",
      "[CV] linear_svc__C=0.17147142857142855 ...............................\n",
      "[CV] . linear_svc__C=0.17147142857142855, score=0.83375, total=  11.2s\n",
      "[CV] linear_svc__C=0.19289285714285712 ...............................\n",
      "[CV] . linear_svc__C=0.17147142857142855, score=0.80375, total=  10.8s\n",
      "[CV] linear_svc__C=0.19289285714285712 ...............................\n",
      "[CV] .. linear_svc__C=0.17147142857142855, score=0.8425, total=  11.4s\n",
      "[CV] linear_svc__C=0.19289285714285712 ...............................\n",
      "[CV] . linear_svc__C=0.17147142857142855, score=0.83875, total=  12.4s\n",
      "[CV] linear_svc__C=0.19289285714285712 ...............................\n",
      "[CV] . linear_svc__C=0.19289285714285712, score=0.79375, total=  12.1s\n",
      "[CV] linear_svc__C=0.19289285714285712 ...............................\n",
      "[CV] . linear_svc__C=0.19289285714285712, score=0.82375, total=  12.6s\n",
      "[CV] linear_svc__C=0.21431428571428568 ...............................\n",
      "[CV] .. linear_svc__C=0.19289285714285712, score=0.8525, total=  12.8s\n",
      "[CV] linear_svc__C=0.21431428571428568 ...............................\n",
      "[CV] ... linear_svc__C=0.19289285714285712, score=0.805, total=  11.2s\n",
      "[CV] . linear_svc__C=0.19289285714285712, score=0.83125, total=  10.9s\n",
      "[CV] linear_svc__C=0.21431428571428568 ...............................\n",
      "[CV] . linear_svc__C=0.21431428571428568, score=0.81375, total=  10.5s\n",
      "[CV] linear_svc__C=0.21431428571428568 ...............................\n",
      "[CV] linear_svc__C=0.21431428571428568 ...............................\n",
      "[CV] .. linear_svc__C=0.21431428571428568, score=0.8325, total=  10.5s\n",
      "[CV] linear_svc__C=0.23573571428571427 ...............................\n",
      "[CV] . linear_svc__C=0.23573571428571427, score=0.80375, total=   9.5s\n",
      "[CV] .. linear_svc__C=0.21431428571428568, score=0.8525, total=  10.1s\n",
      "[CV] linear_svc__C=0.23573571428571427 ...............................\n",
      "[CV] . linear_svc__C=0.21431428571428568, score=0.83875, total=   9.9s\n",
      "[CV] linear_svc__C=0.23573571428571427 ...............................\n",
      "[CV] . linear_svc__C=0.21431428571428568, score=0.80125, total=  10.2s\n",
      "[CV] linear_svc__C=0.23573571428571427 ...............................\n",
      "[CV] linear_svc__C=0.23573571428571427 ...............................\n",
      "[CV] ... linear_svc__C=0.23573571428571427, score=0.795, total=  11.6s\n",
      "[CV] . linear_svc__C=0.23573571428571427, score=0.82875, total=  11.8s\n",
      "[CV] linear_svc__C=0.25715714285714286 ...............................\n",
      "[CV] linear_svc__C=0.25715714285714286 ...............................\n",
      "[CV] ... linear_svc__C=0.23573571428571427, score=0.835, total=  11.9s\n",
      "[CV] . linear_svc__C=0.23573571428571427, score=0.82875, total=  11.6s\n",
      "[CV] linear_svc__C=0.25715714285714286 ...............................\n",
      "[CV] linear_svc__C=0.25715714285714286 ...............................\n",
      "[CV] ... linear_svc__C=0.25715714285714286, score=0.805, total=  12.2s\n",
      "[CV] . linear_svc__C=0.25715714285714286, score=0.82375, total=  12.1s\n",
      "[CV] linear_svc__C=0.25715714285714286 ...............................\n",
      "[CV] linear_svc__C=0.2785785714285714 ................................\n",
      "[CV] ... linear_svc__C=0.25715714285714286, score=0.825, total=  12.2s\n",
      "[CV] . linear_svc__C=0.25715714285714286, score=0.80125, total=  12.1s\n",
      "[CV] linear_svc__C=0.2785785714285714 ................................\n"
     ]
    },
    {
     "name": "stderr",
     "output_type": "stream",
     "text": [
      "[Parallel(n_jobs=-1)]: Done  64 tasks      | elapsed:  3.0min\n"
     ]
    },
    {
     "name": "stdout",
     "output_type": "stream",
     "text": [
      "[CV] linear_svc__C=0.2785785714285714 ................................\n",
      "[CV] . linear_svc__C=0.25715714285714286, score=0.81875, total=  12.4s\n",
      "[CV] linear_svc__C=0.2785785714285714 ................................\n",
      "[CV] ... linear_svc__C=0.2785785714285714, score=0.7975, total=  12.3s\n",
      "[CV] linear_svc__C=0.2785785714285714 ................................\n",
      "[CV] ... linear_svc__C=0.2785785714285714, score=0.8225, total=  12.5s\n",
      "[CV] linear_svc__C=0.3 ...............................................\n",
      "[CV] .. linear_svc__C=0.2785785714285714, score=0.82875, total=  12.4s\n",
      "[CV] linear_svc__C=0.3 ...............................................\n",
      "[CV] .. linear_svc__C=0.2785785714285714, score=0.81875, total=   9.9s\n",
      "[CV] linear_svc__C=0.3 ...............................................\n",
      "[CV] .. linear_svc__C=0.2785785714285714, score=0.81625, total=  10.2s\n",
      "[CV] linear_svc__C=0.3 ...............................................\n",
      "[CV] .................. linear_svc__C=0.3, score=0.8125, total=  10.0s\n",
      "[CV] linear_svc__C=0.3 ...............................................\n",
      "[CV] ................. linear_svc__C=0.3, score=0.81875, total=  10.0s\n",
      "[CV] ..................... linear_svc__C=0.3, score=0.8, total=   8.5s\n",
      "[CV] ................... linear_svc__C=0.3, score=0.845, total=   8.7s\n",
      "[CV] ................... linear_svc__C=0.3, score=0.835, total=   8.4s\n"
     ]
    },
    {
     "name": "stderr",
     "output_type": "stream",
     "text": [
      "[Parallel(n_jobs=-1)]: Done  75 out of  75 | elapsed:  3.5min finished\n"
     ]
    },
    {
     "name": "stdout",
     "output_type": "stream",
     "text": [
      "CPU times: user 18.3 s, sys: 516 ms, total: 18.8 s\n",
      "Wall time: 3min 37s\n"
     ]
    },
    {
     "data": {
      "text/plain": [
       "GridSearchCV(cv=StratifiedKFold(n_splits=5, random_state=None, shuffle=False),\n",
       "       error_score='raise',\n",
       "       estimator=Pipeline(memory=None,\n",
       "     steps=[('pca', PCA(copy=True, iterated_power='auto', n_components=172, random_state=None,\n",
       "  svd_solver='auto', tol=0.0, whiten=False)), ('linear_svc', LinearSVC(C=1.0, class_weight=None, dual=True, fit_intercept=True,\n",
       "     intercept_scaling=1, loss='squared_hinge', max_iter=1000,\n",
       "     multi_class='ovr', penalty='l2', random_state=None, tol=0.0001,\n",
       "     verbose=0))]),\n",
       "       fit_params=None, iid=True, n_jobs=-1,\n",
       "       param_grid={'linear_svc__C': [0.0001, 0.02152142857142857, 0.042942857142857144, 0.06436428571428572, 0.08578571428571428, 0.10720714285714285, 0.12862857142857143, 0.15005, 0.17147142857142855, 0.19289285714285712, 0.21431428571428568, 0.23573571428571427, 0.25715714285714286, 0.2785785714285714, 0.3]},\n",
       "       pre_dispatch='2*n_jobs', refit=True, return_train_score=True,\n",
       "       scoring=None, verbose=5)"
      ]
     },
     "execution_count": 3,
     "metadata": {},
     "output_type": "execute_result"
    }
   ],
   "source": [
    "%%time\n",
    "# Fit estimator on train set\n",
    "grid_cv.fit(X_tr, y_tr)"
   ]
  },
  {
   "cell_type": "code",
   "execution_count": 4,
   "metadata": {
    "scrolled": true
   },
   "outputs": [
    {
     "data": {
      "text/html": [
       "<div>\n",
       "<style scoped>\n",
       "    .dataframe tbody tr th:only-of-type {\n",
       "        vertical-align: middle;\n",
       "    }\n",
       "\n",
       "    .dataframe tbody tr th {\n",
       "        vertical-align: top;\n",
       "    }\n",
       "\n",
       "    .dataframe thead th {\n",
       "        text-align: right;\n",
       "    }\n",
       "</style>\n",
       "<table border=\"1\" class=\"dataframe\">\n",
       "  <thead>\n",
       "    <tr style=\"text-align: right;\">\n",
       "      <th></th>\n",
       "      <th>C</th>\n",
       "      <th>mean_te</th>\n",
       "      <th>std_te</th>\n",
       "    </tr>\n",
       "  </thead>\n",
       "  <tbody>\n",
       "    <tr>\n",
       "      <th>1</th>\n",
       "      <td>0.0215214</td>\n",
       "      <td>0.83350</td>\n",
       "      <td>0.017436</td>\n",
       "    </tr>\n",
       "    <tr>\n",
       "      <th>2</th>\n",
       "      <td>0.0429429</td>\n",
       "      <td>0.83150</td>\n",
       "      <td>0.017346</td>\n",
       "    </tr>\n",
       "    <tr>\n",
       "      <th>6</th>\n",
       "      <td>0.128629</td>\n",
       "      <td>0.82900</td>\n",
       "      <td>0.012585</td>\n",
       "    </tr>\n",
       "    <tr>\n",
       "      <th>5</th>\n",
       "      <td>0.107207</td>\n",
       "      <td>0.82850</td>\n",
       "      <td>0.016035</td>\n",
       "    </tr>\n",
       "    <tr>\n",
       "      <th>10</th>\n",
       "      <td>0.214314</td>\n",
       "      <td>0.82775</td>\n",
       "      <td>0.018190</td>\n",
       "    </tr>\n",
       "    <tr>\n",
       "      <th>4</th>\n",
       "      <td>0.0857857</td>\n",
       "      <td>0.82725</td>\n",
       "      <td>0.019580</td>\n",
       "    </tr>\n",
       "    <tr>\n",
       "      <th>7</th>\n",
       "      <td>0.15005</td>\n",
       "      <td>0.82725</td>\n",
       "      <td>0.013072</td>\n",
       "    </tr>\n",
       "    <tr>\n",
       "      <th>0</th>\n",
       "      <td>0.0001</td>\n",
       "      <td>0.82600</td>\n",
       "      <td>0.013472</td>\n",
       "    </tr>\n",
       "    <tr>\n",
       "      <th>8</th>\n",
       "      <td>0.171471</td>\n",
       "      <td>0.82500</td>\n",
       "      <td>0.016583</td>\n",
       "    </tr>\n",
       "    <tr>\n",
       "      <th>3</th>\n",
       "      <td>0.0643643</td>\n",
       "      <td>0.82400</td>\n",
       "      <td>0.014967</td>\n",
       "    </tr>\n",
       "    <tr>\n",
       "      <th>14</th>\n",
       "      <td>0.3</td>\n",
       "      <td>0.82225</td>\n",
       "      <td>0.016016</td>\n",
       "    </tr>\n",
       "    <tr>\n",
       "      <th>9</th>\n",
       "      <td>0.192893</td>\n",
       "      <td>0.82125</td>\n",
       "      <td>0.020509</td>\n",
       "    </tr>\n",
       "    <tr>\n",
       "      <th>11</th>\n",
       "      <td>0.235736</td>\n",
       "      <td>0.81825</td>\n",
       "      <td>0.015823</td>\n",
       "    </tr>\n",
       "    <tr>\n",
       "      <th>13</th>\n",
       "      <td>0.278579</td>\n",
       "      <td>0.81675</td>\n",
       "      <td>0.010506</td>\n",
       "    </tr>\n",
       "    <tr>\n",
       "      <th>12</th>\n",
       "      <td>0.257157</td>\n",
       "      <td>0.81475</td>\n",
       "      <td>0.009792</td>\n",
       "    </tr>\n",
       "  </tbody>\n",
       "</table>\n",
       "</div>"
      ],
      "text/plain": [
       "            C  mean_te    std_te\n",
       "1   0.0215214  0.83350  0.017436\n",
       "2   0.0429429  0.83150  0.017346\n",
       "6    0.128629  0.82900  0.012585\n",
       "5    0.107207  0.82850  0.016035\n",
       "10   0.214314  0.82775  0.018190\n",
       "4   0.0857857  0.82725  0.019580\n",
       "7     0.15005  0.82725  0.013072\n",
       "0      0.0001  0.82600  0.013472\n",
       "8    0.171471  0.82500  0.016583\n",
       "3   0.0643643  0.82400  0.014967\n",
       "14        0.3  0.82225  0.016016\n",
       "9    0.192893  0.82125  0.020509\n",
       "11   0.235736  0.81825  0.015823\n",
       "13   0.278579  0.81675  0.010506\n",
       "12   0.257157  0.81475  0.009792"
      ]
     },
     "execution_count": 4,
     "metadata": {},
     "output_type": "execute_result"
    }
   ],
   "source": [
    "import pandas as pd\n",
    "\n",
    "# Collect results in a DataFrame\n",
    "df = pd.DataFrame.from_items([\n",
    "    ('C', grid_cv.cv_results_['param_linear_svc__C']),\n",
    "    ('mean_te', grid_cv.cv_results_['mean_test_score']),\n",
    "    ('std_te', grid_cv.cv_results_['std_test_score'])\n",
    "])\n",
    "df.sort_values(by='mean_te', ascending=False)"
   ]
  },
  {
   "cell_type": "code",
   "execution_count": 5,
   "metadata": {},
   "outputs": [
    {
     "name": "stdout",
     "output_type": "stream",
     "text": [
      "Linear SVM - top accuracy across folds 0.834 std: 0.017  with C: 0.022\n"
     ]
    }
   ],
   "source": [
    "best = df.sort_values(by='mean_te', ascending=False)[0:1]\n",
    "print('Linear SVM - top accuracy across folds {:.3f}'.format(best.iloc[0,1]),\n",
    "      'std: {:.3f}'.format(best.iloc[0,2]), ' with C: {:.3f}'.format(best.iloc[0,0]))\n"
   ]
  },
  {
   "cell_type": "markdown",
   "metadata": {},
   "source": [
    "### SVM classifier with an RBF kernel"
   ]
  },
  {
   "cell_type": "code",
   "execution_count": 6,
   "metadata": {},
   "outputs": [
    {
     "name": "stdout",
     "output_type": "stream",
     "text": [
      "<bound method BaseEstimator.get_params of GridSearchCV(cv=StratifiedKFold(n_splits=5, random_state=None, shuffle=False),\n",
      "       error_score='raise',\n",
      "       estimator=Pipeline(memory=None,\n",
      "     steps=[('pca', PCA(copy=True, iterated_power='auto', n_components=172, random_state=None,\n",
      "  svd_solver='auto', tol=0.0, whiten=False)), ('linear_svc', LinearSVC(C=1.0, class_weight=None, dual=True, fit_intercept=True,\n",
      "     intercept_scaling=1, loss='squared_hinge', max_iter=1000,\n",
      "     multi_class='ovr', penalty='l2', random_state=None, tol=0.0001,\n",
      "     verbose=0))]),\n",
      "       fit_params=None, iid=True, n_jobs=-1,\n",
      "       param_grid={'linear_svc__C': [0.0001, 0.02152142857142857, 0.042942857142857144, 0.06436428571428572, 0.08578571428571428, 0.10720714285714285, 0.12862857142857143, 0.15005, 0.17147142857142855, 0.19289285714285712, 0.21431428571428568, 0.23573571428571427, 0.25715714285714286, 0.2785785714285714, 0.3]},\n",
      "       pre_dispatch='2*n_jobs', refit=True, return_train_score=True,\n",
      "       scoring=None, verbose=5)>\n"
     ]
    }
   ],
   "source": [
    "from sklearn.svm import SVC\n",
    "\n",
    "# Create decision tree classifier\n",
    "pipe = Pipeline([\n",
    "    #('scaler', StandardScaler()), #  Standardization\n",
    "    ('pca', PCA(n_components=172)), # PCA preprocessing, retain 90% of the variance explained.\n",
    "    ('svc_rbf', SVC(kernel='rbf')) # SVM with RBF kernel\n",
    "])\n",
    "\n",
    "# grid search with cross validation\n",
    "from sklearn.model_selection import GridSearchCV\n",
    "\n",
    "# Create cross-validation object\n",
    "grid_cv_svm_rbf = GridSearchCV(pipe, {\n",
    "    'svc_rbf__C': list(np.linspace(0.001,0.3,10)), # list of C values\n",
    "    'svc_rbf__gamma' : list(np.linspace(0.1,10,8)) # list of gamma values\n",
    "    }, cv=StratifiedKFold(n_splits=5), # stratified folds: each set contains approx the same % of target class\n",
    "                            n_jobs = -1) \n",
    "\n",
    "print(grid_cv.get_params)"
   ]
  },
  {
   "cell_type": "code",
   "execution_count": 11,
   "metadata": {},
   "outputs": [
    {
     "name": "stdout",
     "output_type": "stream",
     "text": [
      "CPU times: user 59.2 s, sys: 698 ms, total: 59.9 s\n",
      "Wall time: 21min 13s\n"
     ]
    },
    {
     "data": {
      "text/plain": [
       "GridSearchCV(cv=StratifiedKFold(n_splits=5, random_state=None, shuffle=False),\n",
       "       error_score='raise',\n",
       "       estimator=Pipeline(memory=None,\n",
       "     steps=[('pca', PCA(copy=True, iterated_power='auto', n_components=172, random_state=None,\n",
       "  svd_solver='auto', tol=0.0, whiten=False)), ('svc_rbf', SVC(C=1.0, cache_size=200, class_weight=None, coef0=0.0,\n",
       "  decision_function_shape='ovr', degree=3, gamma='auto', kernel='rbf',\n",
       "  max_iter=-1, probability=False, random_state=None, shrinking=True,\n",
       "  tol=0.001, verbose=False))]),\n",
       "       fit_params=None, iid=True, n_jobs=-1,\n",
       "       param_grid={'svc_rbf__C': [0.001, 0.03422222222222222, 0.06744444444444445, 0.10066666666666667, 0.1338888888888889, 0.1671111111111111, 0.20033333333333334, 0.23355555555555557, 0.2667777777777778, 0.3], 'svc_rbf__gamma': [0.1, 1.5142857142857145, 2.928571428571429, 4.3428571428571425, 5.757142857142857, 7.171428571428572, 8.585714285714285, 10.0]},\n",
       "       pre_dispatch='2*n_jobs', refit=True, return_train_score=True,\n",
       "       scoring=None, verbose=0)"
      ]
     },
     "execution_count": 11,
     "metadata": {},
     "output_type": "execute_result"
    }
   ],
   "source": [
    "%%time\n",
    "# Fit estimator on train set\n",
    "grid_cv_svm_rbf.fit(X_tr, y_tr)"
   ]
  },
  {
   "cell_type": "code",
   "execution_count": 12,
   "metadata": {},
   "outputs": [
    {
     "data": {
      "text/html": [
       "<div>\n",
       "<style scoped>\n",
       "    .dataframe tbody tr th:only-of-type {\n",
       "        vertical-align: middle;\n",
       "    }\n",
       "\n",
       "    .dataframe tbody tr th {\n",
       "        vertical-align: top;\n",
       "    }\n",
       "\n",
       "    .dataframe thead th {\n",
       "        text-align: right;\n",
       "    }\n",
       "</style>\n",
       "<table border=\"1\" class=\"dataframe\">\n",
       "  <thead>\n",
       "    <tr style=\"text-align: right;\">\n",
       "      <th></th>\n",
       "      <th>C</th>\n",
       "      <th>gamma</th>\n",
       "      <th>mean_te</th>\n",
       "      <th>std_te</th>\n",
       "    </tr>\n",
       "  </thead>\n",
       "  <tbody>\n",
       "    <tr>\n",
       "      <th>72</th>\n",
       "      <td>0.3</td>\n",
       "      <td>0.1</td>\n",
       "      <td>0.69650</td>\n",
       "      <td>0.007599</td>\n",
       "    </tr>\n",
       "    <tr>\n",
       "      <th>56</th>\n",
       "      <td>0.233556</td>\n",
       "      <td>0.1</td>\n",
       "      <td>0.69650</td>\n",
       "      <td>0.006773</td>\n",
       "    </tr>\n",
       "    <tr>\n",
       "      <th>24</th>\n",
       "      <td>0.100667</td>\n",
       "      <td>0.1</td>\n",
       "      <td>0.69650</td>\n",
       "      <td>0.007517</td>\n",
       "    </tr>\n",
       "    <tr>\n",
       "      <th>48</th>\n",
       "      <td>0.200333</td>\n",
       "      <td>0.1</td>\n",
       "      <td>0.69600</td>\n",
       "      <td>0.007802</td>\n",
       "    </tr>\n",
       "    <tr>\n",
       "      <th>40</th>\n",
       "      <td>0.167111</td>\n",
       "      <td>0.1</td>\n",
       "      <td>0.69575</td>\n",
       "      <td>0.005339</td>\n",
       "    </tr>\n",
       "    <tr>\n",
       "      <th>8</th>\n",
       "      <td>0.0342222</td>\n",
       "      <td>0.1</td>\n",
       "      <td>0.69550</td>\n",
       "      <td>0.006052</td>\n",
       "    </tr>\n",
       "    <tr>\n",
       "      <th>32</th>\n",
       "      <td>0.133889</td>\n",
       "      <td>0.1</td>\n",
       "      <td>0.69525</td>\n",
       "      <td>0.010290</td>\n",
       "    </tr>\n",
       "    <tr>\n",
       "      <th>0</th>\n",
       "      <td>0.001</td>\n",
       "      <td>0.1</td>\n",
       "      <td>0.69475</td>\n",
       "      <td>0.005612</td>\n",
       "    </tr>\n",
       "    <tr>\n",
       "      <th>64</th>\n",
       "      <td>0.266778</td>\n",
       "      <td>0.1</td>\n",
       "      <td>0.69450</td>\n",
       "      <td>0.006643</td>\n",
       "    </tr>\n",
       "    <tr>\n",
       "      <th>16</th>\n",
       "      <td>0.0674444</td>\n",
       "      <td>0.1</td>\n",
       "      <td>0.69450</td>\n",
       "      <td>0.007185</td>\n",
       "    </tr>\n",
       "  </tbody>\n",
       "</table>\n",
       "</div>"
      ],
      "text/plain": [
       "            C gamma  mean_te    std_te\n",
       "72        0.3   0.1  0.69650  0.007599\n",
       "56   0.233556   0.1  0.69650  0.006773\n",
       "24   0.100667   0.1  0.69650  0.007517\n",
       "48   0.200333   0.1  0.69600  0.007802\n",
       "40   0.167111   0.1  0.69575  0.005339\n",
       "8   0.0342222   0.1  0.69550  0.006052\n",
       "32   0.133889   0.1  0.69525  0.010290\n",
       "0       0.001   0.1  0.69475  0.005612\n",
       "64   0.266778   0.1  0.69450  0.006643\n",
       "16  0.0674444   0.1  0.69450  0.007185"
      ]
     },
     "execution_count": 12,
     "metadata": {},
     "output_type": "execute_result"
    }
   ],
   "source": [
    "import pandas as pd\n",
    "\n",
    "# Collect results in a DataFrame\n",
    "df_rbf = pd.DataFrame.from_items([\n",
    "    ('C', grid_cv_svm_rbf.cv_results_['param_svc_rbf__C']),\n",
    "    ('gamma', grid_cv_svm_rbf.cv_results_['param_svc_rbf__gamma']),\n",
    "    ('mean_te', grid_cv_svm_rbf.cv_results_['mean_test_score']),\n",
    "    ('std_te', grid_cv_svm_rbf.cv_results_['std_test_score'])\n",
    "])\n",
    "df_rbf.sort_values(by='mean_te', ascending=False).head(10)"
   ]
  },
  {
   "cell_type": "code",
   "execution_count": 13,
   "metadata": {},
   "outputs": [
    {
     "name": "stdout",
     "output_type": "stream",
     "text": [
      "RBF SVM - top accuracy across folds 0.6965 (std:) 0.007599342076785336  with C: 0.3  and gamma: 0.1\n"
     ]
    }
   ],
   "source": [
    "best_rbf = df_rbf.sort_values(by='mean_te', ascending=False)[0:1]\n",
    "print('RBF SVM - top accuracy across folds', best_rbf.iloc[0,2],\n",
    "      '(std:)', best_rbf.iloc[0,3], ' with C:', best_rbf.iloc[0,0], ' and gamma:', best_rbf.iloc[0,1])"
   ]
  },
  {
   "cell_type": "markdown",
   "metadata": {},
   "source": [
    "### Compute predictions"
   ]
  },
  {
   "cell_type": "code",
   "execution_count": 14,
   "metadata": {},
   "outputs": [
    {
     "name": "stdout",
     "output_type": "stream",
     "text": [
      "Linear SVM accuracy on the test set: 0.815\n"
     ]
    }
   ],
   "source": [
    "# Compute predictions with the \"best_estimator_\" attribute\n",
    "grid_cv.best_estimator_.predict(X_te)\n",
    "\n",
    "# evaluate its accuracy on the test set\n",
    "accuracy_linearSVM = grid_cv.best_estimator_.score(X_te, y_te)\n",
    "print ('Linear SVM accuracy on the test set: {:.3f}'.format(accuracy_linearSVM))\n",
    "\n",
    "# save results\n",
    "import csv\n",
    "results = ['Linear SVM', accuracy_linearSVM]\n",
    "with open(r'results.csv', 'a') as f:\n",
    "    writer = csv.writer(f)\n",
    "    writer.writerow(results)"
   ]
  },
  {
   "cell_type": "code",
   "execution_count": 15,
   "metadata": {},
   "outputs": [
    {
     "name": "stdout",
     "output_type": "stream",
     "text": [
      "RBF SVM accuracy on the test set: 0.708\n"
     ]
    }
   ],
   "source": [
    "# Compute predictions with the \"best_estimator_\" attribute\n",
    "grid_cv_svm_rbf.best_estimator_.predict(X_te)\n",
    "\n",
    "# evaluate its accuracy on the test set\n",
    "accuracy_RBFSVM = grid_cv_svm_rbf.best_estimator_.score(X_te, y_te)\n",
    "print ('RBF SVM accuracy on the test set: {:.3f}'.format(accuracy_RBFSVM))\n",
    "\n",
    "# save results\n",
    "import csv\n",
    "results = ['RBF SVM', accuracy_RBFSVM]\n",
    "with open(r'results.csv', 'a') as f:\n",
    "    writer = csv.writer(f)\n",
    "    writer.writerow(results)"
   ]
  },
  {
   "cell_type": "code",
   "execution_count": null,
   "metadata": {},
   "outputs": [],
   "source": []
  }
 ],
 "metadata": {
  "kernelspec": {
   "display_name": "Python 3",
   "language": "python",
   "name": "python3"
  },
  "language_info": {
   "codemirror_mode": {
    "name": "ipython",
    "version": 3
   },
   "file_extension": ".py",
   "mimetype": "text/x-python",
   "name": "python",
   "nbconvert_exporter": "python",
   "pygments_lexer": "ipython3",
   "version": "3.6.4"
  }
 },
 "nbformat": 4,
 "nbformat_minor": 2
}
