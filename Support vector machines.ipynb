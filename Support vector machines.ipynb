{
 "cells": [
  {
   "cell_type": "code",
   "execution_count": null,
   "metadata": {},
   "outputs": [],
   "source": [
    "### TO DO ###\n",
    "# 1. how to choose the correct calibration for C and gamma?\n"
   ]
  },
  {
   "cell_type": "code",
   "execution_count": 1,
   "metadata": {},
   "outputs": [
    {
     "name": "stdout",
     "output_type": "stream",
     "text": [
      "dict_keys(['pixels', 'overfeat', 'labels', 'names', 'allow_pickle'])\n",
      "pixels shape : (5000, 3072) , dtype: uint8\n",
      "overfeat shape : (5000, 4096) , dtype: float32\n",
      "labels shape : (5000,) , dtype: int64\n",
      "Categories: ['truck' 'car' 'airplane' 'ship']\n",
      "Train: (4000, 4096) (4000,)\n",
      "Test: (1000, 4096) (1000,)\n"
     ]
    }
   ],
   "source": [
    "import numpy as np\n",
    "import os\n",
    "\n",
    "# Load the data\n",
    "with np.load('cifar4-train.npz', allow_pickle=False) as npz_file:\n",
    "    # Load items into a dictionary\n",
    "    cifar = dict(npz_file.items())\n",
    "\n",
    "print(cifar.keys())\n",
    "\n",
    "pixels = cifar['pixels']\n",
    "overfeat = cifar['overfeat']\n",
    "labels = cifar['labels']\n",
    "names = cifar['names']\n",
    "\n",
    "print('pixels shape :',pixels.shape, ', dtype:', pixels.dtype)\n",
    "print('overfeat shape :',overfeat.shape, ', dtype:', overfeat.dtype)\n",
    "print('labels shape :',labels.shape, ', dtype:', labels.dtype)\n",
    "print('Categories:', names)\n",
    "\n",
    "# split the Overfeat data into train/test sets w/ same proportion of classes in each subset\n",
    "\n",
    "import pandas as pd\n",
    "from sklearn.model_selection import train_test_split\n",
    "\n",
    "X_tr, X_te, y_tr, y_te = train_test_split(\n",
    "    overfeat, labels, train_size=4000, test_size=1000, \n",
    "    stratify=labels , # same class distribution\n",
    "    random_state=0)\n",
    "\n",
    "print('Train:', X_tr.shape, y_tr.shape)\n",
    "print('Test:', X_te.shape, y_te.shape)"
   ]
  },
  {
   "cell_type": "markdown",
   "metadata": {},
   "source": [
    "### SVM classifier with a linear kernel"
   ]
  },
  {
   "cell_type": "code",
   "execution_count": 44,
   "metadata": {},
   "outputs": [],
   "source": [
    "from sklearn.svm import LinearSVC\n",
    "from sklearn.pipeline import Pipeline\n",
    "from sklearn.preprocessing import StandardScaler\n",
    "from sklearn.decomposition import PCA\n",
    "\n",
    "# Create decision tree classifier\n",
    "pipe = Pipeline([\n",
    "    #('scaler', StandardScaler()), #  Standardization\n",
    "    ('pca', PCA(n_components=172)), # PCA preprocessing, retain 90% of the variance explained.\n",
    "    ('linear_svc', LinearSVC()) # SVM with linear kernel\n",
    "])\n",
    "\n",
    "# grid search with cross validation\n",
    "from sklearn.model_selection import GridSearchCV\n",
    "\n",
    "# Create cross-validation object\n",
    "grid_cv = GridSearchCV(pipe, {\n",
    "    #'scaler': [None,StandardScaler()],\n",
    "    #'pca' : [None, PCA(n_components=172)],\n",
    "    'linear_svc__C': list(np.linspace(0.0001,0.3,15)) # list of C values\n",
    "    }, cv=5, n_jobs = -1,verbose = 5) # stratified 5-fold strategy"
   ]
  },
  {
   "cell_type": "code",
   "execution_count": 45,
   "metadata": {},
   "outputs": [
    {
     "name": "stdout",
     "output_type": "stream",
     "text": [
      "Fitting 5 folds for each of 15 candidates, totalling 75 fits\n",
      "[CV] linear_svc__C=0.0001 ............................................\n",
      "[CV] linear_svc__C=0.0001 ............................................\n",
      "[CV] linear_svc__C=0.0001 ............................................\n",
      "[CV] linear_svc__C=0.0001 ............................................\n",
      "[CV] .............. linear_svc__C=0.0001, score=0.82125, total=   5.1s\n",
      "[CV] linear_svc__C=0.0001 ............................................\n",
      "[CV] .............. linear_svc__C=0.0001, score=0.83125, total=   5.1s\n",
      "[CV] .............. linear_svc__C=0.0001, score=0.83625, total=   5.0s\n",
      "[CV] .................. linear_svc__C=0.0001, score=0.8, total=   4.8s\n",
      "[CV] linear_svc__C=0.02152142857142857 ...............................\n",
      "[CV] linear_svc__C=0.02152142857142857 ...............................\n",
      "[CV] linear_svc__C=0.02152142857142857 ...............................\n",
      "[CV] .............. linear_svc__C=0.0001, score=0.84125, total=   4.6s\n",
      "[CV] linear_svc__C=0.02152142857142857 ...............................\n",
      "[CV] . linear_svc__C=0.02152142857142857, score=0.81375, total=   9.1s\n",
      "[CV] linear_svc__C=0.02152142857142857 ...............................\n",
      "[CV] . linear_svc__C=0.02152142857142857, score=0.85375, total=   9.0s\n",
      "[CV] .. linear_svc__C=0.02152142857142857, score=0.8425, total=   9.2s\n",
      "[CV] linear_svc__C=0.042942857142857144 ..............................\n",
      "[CV] linear_svc__C=0.042942857142857144 ..............................\n",
      "[CV] . linear_svc__C=0.02152142857142857, score=0.81125, total=  10.0s\n",
      "[CV] linear_svc__C=0.042942857142857144 ..............................\n",
      "[CV] . linear_svc__C=0.02152142857142857, score=0.83375, total=   9.4s\n",
      "[CV] linear_svc__C=0.042942857142857144 ..............................\n",
      "[CV]  linear_svc__C=0.042942857142857144, score=0.81625, total=   9.2s\n",
      "[CV] linear_svc__C=0.042942857142857144 ..............................\n"
     ]
    },
    {
     "name": "stderr",
     "output_type": "stream",
     "text": [
      "[Parallel(n_jobs=-1)]: Done  10 tasks      | elapsed:   24.6s\n"
     ]
    },
    {
     "name": "stdout",
     "output_type": "stream",
     "text": [
      "[CV] . linear_svc__C=0.042942857142857144, score=0.8375, total=   9.3s\n",
      "[CV] linear_svc__C=0.06436428571428572 ...............................\n",
      "[CV]  linear_svc__C=0.042942857142857144, score=0.84625, total=  10.4s\n",
      "[CV] linear_svc__C=0.06436428571428572 ...............................\n",
      "[CV] .. linear_svc__C=0.042942857142857144, score=0.805, total=  11.2s\n",
      "[CV] linear_svc__C=0.06436428571428572 ...............................\n",
      "[CV]  linear_svc__C=0.042942857142857144, score=0.83625, total=  11.1s\n",
      "[CV] . linear_svc__C=0.06436428571428572, score=0.81125, total=  10.9s\n",
      "[CV] linear_svc__C=0.06436428571428572 ...............................\n",
      "[CV] linear_svc__C=0.06436428571428572 ...............................\n",
      "[CV] . linear_svc__C=0.06436428571428572, score=0.84125, total=  12.3s\n",
      "[CV] linear_svc__C=0.08578571428571428 ...............................\n",
      "[CV] . linear_svc__C=0.06436428571428572, score=0.79875, total=   9.9s\n",
      "[CV] linear_svc__C=0.08578571428571428 ...............................\n",
      "[CV] .... linear_svc__C=0.06436428571428572, score=0.85, total=  10.2s\n",
      "[CV] linear_svc__C=0.08578571428571428 ...............................\n",
      "[CV] .... linear_svc__C=0.06436428571428572, score=0.84, total=  10.3s\n",
      "[CV] linear_svc__C=0.08578571428571428 ...............................\n",
      "[CV] . linear_svc__C=0.08578571428571428, score=0.81875, total=  10.8s\n",
      "[CV] linear_svc__C=0.08578571428571428 ...............................\n",
      "[CV] . linear_svc__C=0.08578571428571428, score=0.84625, total=   9.9s\n",
      "[CV] . linear_svc__C=0.08578571428571428, score=0.85375, total=   9.6s\n",
      "[CV] linear_svc__C=0.10720714285714285 ...............................\n",
      "[CV] linear_svc__C=0.10720714285714285 ...............................\n",
      "[CV] ... linear_svc__C=0.08578571428571428, score=0.815, total=   9.7s\n",
      "[CV] linear_svc__C=0.10720714285714285 ...............................\n",
      "[CV] . linear_svc__C=0.08578571428571428, score=0.82125, total=  10.8s\n",
      "[CV] linear_svc__C=0.10720714285714285 ...............................\n",
      "[CV] .. linear_svc__C=0.10720714285714285, score=0.8225, total=  10.6s\n",
      "[CV] linear_svc__C=0.10720714285714285 ...............................\n",
      "[CV] . linear_svc__C=0.10720714285714285, score=0.84125, total=  10.8s\n",
      "[CV] .... linear_svc__C=0.10720714285714285, score=0.85, total=  10.6s\n",
      "[CV] linear_svc__C=0.12862857142857143 ...............................\n",
      "[CV] linear_svc__C=0.12862857142857143 ...............................\n",
      "[CV] . linear_svc__C=0.10720714285714285, score=0.81125, total=  10.1s\n",
      "[CV] linear_svc__C=0.12862857142857143 ...............................\n",
      "[CV] . linear_svc__C=0.10720714285714285, score=0.83625, total=   9.5s\n",
      "[CV] linear_svc__C=0.12862857142857143 ...............................\n",
      "[CV] ... linear_svc__C=0.12862857142857143, score=0.815, total=   9.4s\n",
      "[CV] linear_svc__C=0.12862857142857143 ...............................\n",
      "[CV] . linear_svc__C=0.12862857142857143, score=0.83125, total=   9.5s\n",
      "[CV] linear_svc__C=0.15005 ...........................................\n",
      "[CV] ... linear_svc__C=0.12862857142857143, score=0.855, total=  10.4s\n",
      "[CV] linear_svc__C=0.15005 ...........................................\n",
      "[CV] . linear_svc__C=0.12862857142857143, score=0.81125, total=   9.9s\n",
      "[CV] linear_svc__C=0.15005 ...........................................\n",
      "[CV] ................ linear_svc__C=0.15005, score=0.81, total=   9.8s\n",
      "[CV] linear_svc__C=0.15005 ...........................................\n",
      "[CV] .. linear_svc__C=0.12862857142857143, score=0.8325, total=  10.1s\n",
      "[CV] linear_svc__C=0.15005 ...........................................\n",
      "[CV] .............. linear_svc__C=0.15005, score=0.8525, total=   9.8s\n",
      "[CV] linear_svc__C=0.17147142857142855 ...............................\n",
      "[CV] ............. linear_svc__C=0.15005, score=0.84125, total=  10.4s\n",
      "[CV] linear_svc__C=0.17147142857142855 ...............................\n",
      "[CV] ............... linear_svc__C=0.15005, score=0.805, total=  10.0s\n",
      "[CV] linear_svc__C=0.17147142857142855 ...............................\n",
      "[CV] ............. linear_svc__C=0.15005, score=0.82625, total=   9.9s\n",
      "[CV] linear_svc__C=0.17147142857142855 ...............................\n",
      "[CV] . linear_svc__C=0.17147142857142855, score=0.80875, total=  10.0s\n",
      "[CV] linear_svc__C=0.17147142857142855 ...............................\n",
      "[CV] .. linear_svc__C=0.17147142857142855, score=0.8275, total=  10.3s\n",
      "[CV] linear_svc__C=0.19289285714285712 ...............................\n",
      "[CV] .. linear_svc__C=0.17147142857142855, score=0.8025, total=   9.8s\n",
      "[CV] linear_svc__C=0.19289285714285712 ...............................\n",
      "[CV] . linear_svc__C=0.17147142857142855, score=0.85625, total=  10.4s\n",
      "[CV] linear_svc__C=0.19289285714285712 ...............................\n",
      "[CV] .. linear_svc__C=0.17147142857142855, score=0.8225, total=   9.4s\n",
      "[CV] linear_svc__C=0.19289285714285712 ...............................\n",
      "[CV] . linear_svc__C=0.19289285714285712, score=0.80625, total=   9.3s\n",
      "[CV] linear_svc__C=0.19289285714285712 ...............................\n",
      "[CV] .. linear_svc__C=0.19289285714285712, score=0.8275, total=   9.6s\n",
      "[CV] linear_svc__C=0.21431428571428568 ...............................\n",
      "[CV] .. linear_svc__C=0.19289285714285712, score=0.8475, total=   9.7s\n",
      "[CV] linear_svc__C=0.21431428571428568 ...............................\n",
      "[CV] . linear_svc__C=0.19289285714285712, score=0.79875, total=   9.7s\n",
      "[CV] linear_svc__C=0.21431428571428568 ...............................\n",
      "[CV] . linear_svc__C=0.19289285714285712, score=0.83125, total=   9.4s\n",
      "[CV] linear_svc__C=0.21431428571428568 ...............................\n",
      "[CV] . linear_svc__C=0.21431428571428568, score=0.81125, total=   9.2s\n",
      "[CV] linear_svc__C=0.21431428571428568 ...............................\n",
      "[CV] . linear_svc__C=0.21431428571428568, score=0.82125, total=   9.5s\n",
      "[CV] linear_svc__C=0.23573571428571427 ...............................\n",
      "[CV] ... linear_svc__C=0.21431428571428568, score=0.835, total=   9.7s\n",
      "[CV] . linear_svc__C=0.21431428571428568, score=0.79875, total=   9.9s\n",
      "[CV] linear_svc__C=0.23573571428571427 ...............................\n",
      "[CV] linear_svc__C=0.23573571428571427 ...............................\n",
      "[CV] . linear_svc__C=0.21431428571428568, score=0.85125, total=  10.2s\n",
      "[CV] linear_svc__C=0.23573571428571427 ...............................\n",
      "[CV] .. linear_svc__C=0.23573571428571427, score=0.7925, total=   9.5s\n",
      "[CV] linear_svc__C=0.23573571428571427 ...............................\n",
      "[CV] . linear_svc__C=0.23573571428571427, score=0.83125, total=   9.6s\n",
      "[CV] linear_svc__C=0.25715714285714286 ...............................\n",
      "[CV] . linear_svc__C=0.23573571428571427, score=0.82375, total=   9.1s\n",
      "[CV] . linear_svc__C=0.23573571428571427, score=0.79625, total=   9.5s\n",
      "[CV] linear_svc__C=0.25715714285714286 ...............................\n",
      "[CV] ... linear_svc__C=0.23573571428571427, score=0.835, total=   9.8s\n",
      "[CV] linear_svc__C=0.25715714285714286 ...............................\n",
      "[CV] linear_svc__C=0.25715714285714286 ...............................\n",
      "[CV] .. linear_svc__C=0.25715714285714286, score=0.7875, total=  10.4s\n",
      "[CV] linear_svc__C=0.25715714285714286 ...............................\n",
      "[CV] . linear_svc__C=0.25715714285714286, score=0.80125, total=  10.1s\n",
      "[CV] linear_svc__C=0.2785785714285714 ................................\n",
      "[CV] . linear_svc__C=0.25715714285714286, score=0.82875, total=  10.5s\n",
      "[CV] linear_svc__C=0.2785785714285714 ................................\n",
      "[CV] . linear_svc__C=0.25715714285714286, score=0.82125, total=  10.9s\n",
      "[CV] linear_svc__C=0.2785785714285714 ................................\n"
     ]
    },
    {
     "name": "stderr",
     "output_type": "stream",
     "text": [
      "[Parallel(n_jobs=-1)]: Done  64 tasks      | elapsed:  2.6min\n"
     ]
    },
    {
     "name": "stdout",
     "output_type": "stream",
     "text": [
      "[CV] .. linear_svc__C=0.25715714285714286, score=0.8225, total=  10.6s\n",
      "[CV] ... linear_svc__C=0.2785785714285714, score=0.8075, total=  10.4s\n",
      "[CV] linear_svc__C=0.2785785714285714 ................................\n",
      "[CV] linear_svc__C=0.2785785714285714 ................................\n",
      "[CV] .. linear_svc__C=0.2785785714285714, score=0.80625, total=  10.3s\n",
      "[CV] linear_svc__C=0.3 ...............................................\n",
      "[CV] .... linear_svc__C=0.2785785714285714, score=0.825, total=  10.3s\n",
      "[CV] linear_svc__C=0.3 ...............................................\n",
      "[CV] .. linear_svc__C=0.2785785714285714, score=0.79875, total=  10.0s\n",
      "[CV] linear_svc__C=0.3 ...............................................\n",
      "[CV] .. linear_svc__C=0.2785785714285714, score=0.82375, total=   9.9s\n",
      "[CV] .................. linear_svc__C=0.3, score=0.8075, total=   9.7s\n",
      "[CV] linear_svc__C=0.3 ...............................................\n",
      "[CV] linear_svc__C=0.3 ...............................................\n",
      "[CV] .................. linear_svc__C=0.3, score=0.8175, total=  10.0s\n",
      "[CV] .................. linear_svc__C=0.3, score=0.8075, total=   8.9s\n",
      "[CV] ................. linear_svc__C=0.3, score=0.82875, total=   9.3s\n",
      "[CV] ................... linear_svc__C=0.3, score=0.825, total=   9.0s\n"
     ]
    },
    {
     "name": "stderr",
     "output_type": "stream",
     "text": [
      "[Parallel(n_jobs=-1)]: Done  75 out of  75 | elapsed:  3.1min finished\n"
     ]
    },
    {
     "name": "stdout",
     "output_type": "stream",
     "text": [
      "CPU times: user 18.6 s, sys: 688 ms, total: 19.2 s\n",
      "Wall time: 3min 15s\n"
     ]
    },
    {
     "data": {
      "text/plain": [
       "GridSearchCV(cv=5, error_score='raise',\n",
       "       estimator=Pipeline(memory=None,\n",
       "     steps=[('pca', PCA(copy=True, iterated_power='auto', n_components=172, random_state=None,\n",
       "  svd_solver='auto', tol=0.0, whiten=False)), ('linear_svc', LinearSVC(C=1.0, class_weight=None, dual=True, fit_intercept=True,\n",
       "     intercept_scaling=1, loss='squared_hinge', max_iter=1000,\n",
       "     multi_class='ovr', penalty='l2', random_state=None, tol=0.0001,\n",
       "     verbose=0))]),\n",
       "       fit_params=None, iid=True, n_jobs=-1,\n",
       "       param_grid={'linear_svc__C': [0.0001, 0.02152142857142857, 0.042942857142857144, 0.06436428571428572, 0.08578571428571428, 0.10720714285714285, 0.12862857142857143, 0.15005, 0.17147142857142855, 0.19289285714285712, 0.21431428571428568, 0.23573571428571427, 0.25715714285714286, 0.2785785714285714, 0.3]},\n",
       "       pre_dispatch='2*n_jobs', refit=True, return_train_score=True,\n",
       "       scoring=None, verbose=5)"
      ]
     },
     "execution_count": 45,
     "metadata": {},
     "output_type": "execute_result"
    }
   ],
   "source": [
    "%%time\n",
    "# Fit estimator on train set\n",
    "grid_cv.fit(X_tr, y_tr)"
   ]
  },
  {
   "cell_type": "code",
   "execution_count": 46,
   "metadata": {
    "scrolled": true
   },
   "outputs": [
    {
     "data": {
      "text/html": [
       "<div>\n",
       "<style scoped>\n",
       "    .dataframe tbody tr th:only-of-type {\n",
       "        vertical-align: middle;\n",
       "    }\n",
       "\n",
       "    .dataframe tbody tr th {\n",
       "        vertical-align: top;\n",
       "    }\n",
       "\n",
       "    .dataframe thead th {\n",
       "        text-align: right;\n",
       "    }\n",
       "</style>\n",
       "<table border=\"1\" class=\"dataframe\">\n",
       "  <thead>\n",
       "    <tr style=\"text-align: right;\">\n",
       "      <th></th>\n",
       "      <th>C</th>\n",
       "      <th>mean_te</th>\n",
       "      <th>std_te</th>\n",
       "    </tr>\n",
       "  </thead>\n",
       "  <tbody>\n",
       "    <tr>\n",
       "      <th>5</th>\n",
       "      <td>0.107207</td>\n",
       "      <td>0.83225</td>\n",
       "      <td>0.013770</td>\n",
       "    </tr>\n",
       "    <tr>\n",
       "      <th>1</th>\n",
       "      <td>0.0215214</td>\n",
       "      <td>0.83100</td>\n",
       "      <td>0.016401</td>\n",
       "    </tr>\n",
       "    <tr>\n",
       "      <th>4</th>\n",
       "      <td>0.0857857</td>\n",
       "      <td>0.83100</td>\n",
       "      <td>0.015819</td>\n",
       "    </tr>\n",
       "    <tr>\n",
       "      <th>6</th>\n",
       "      <td>0.128629</td>\n",
       "      <td>0.82900</td>\n",
       "      <td>0.015520</td>\n",
       "    </tr>\n",
       "    <tr>\n",
       "      <th>2</th>\n",
       "      <td>0.0429429</td>\n",
       "      <td>0.82825</td>\n",
       "      <td>0.015219</td>\n",
       "    </tr>\n",
       "    <tr>\n",
       "      <th>3</th>\n",
       "      <td>0.0643643</td>\n",
       "      <td>0.82825</td>\n",
       "      <td>0.019695</td>\n",
       "    </tr>\n",
       "    <tr>\n",
       "      <th>7</th>\n",
       "      <td>0.15005</td>\n",
       "      <td>0.82700</td>\n",
       "      <td>0.018038</td>\n",
       "    </tr>\n",
       "    <tr>\n",
       "      <th>0</th>\n",
       "      <td>0.0001</td>\n",
       "      <td>0.82600</td>\n",
       "      <td>0.014586</td>\n",
       "    </tr>\n",
       "    <tr>\n",
       "      <th>8</th>\n",
       "      <td>0.171471</td>\n",
       "      <td>0.82350</td>\n",
       "      <td>0.018698</td>\n",
       "    </tr>\n",
       "    <tr>\n",
       "      <th>10</th>\n",
       "      <td>0.214314</td>\n",
       "      <td>0.82350</td>\n",
       "      <td>0.018276</td>\n",
       "    </tr>\n",
       "    <tr>\n",
       "      <th>9</th>\n",
       "      <td>0.192893</td>\n",
       "      <td>0.82225</td>\n",
       "      <td>0.017632</td>\n",
       "    </tr>\n",
       "    <tr>\n",
       "      <th>14</th>\n",
       "      <td>0.3</td>\n",
       "      <td>0.81725</td>\n",
       "      <td>0.008746</td>\n",
       "    </tr>\n",
       "    <tr>\n",
       "      <th>11</th>\n",
       "      <td>0.235736</td>\n",
       "      <td>0.81575</td>\n",
       "      <td>0.017864</td>\n",
       "    </tr>\n",
       "    <tr>\n",
       "      <th>12</th>\n",
       "      <td>0.257157</td>\n",
       "      <td>0.81225</td>\n",
       "      <td>0.015439</td>\n",
       "    </tr>\n",
       "    <tr>\n",
       "      <th>13</th>\n",
       "      <td>0.278579</td>\n",
       "      <td>0.81225</td>\n",
       "      <td>0.010350</td>\n",
       "    </tr>\n",
       "  </tbody>\n",
       "</table>\n",
       "</div>"
      ],
      "text/plain": [
       "            C  mean_te    std_te\n",
       "5    0.107207  0.83225  0.013770\n",
       "1   0.0215214  0.83100  0.016401\n",
       "4   0.0857857  0.83100  0.015819\n",
       "6    0.128629  0.82900  0.015520\n",
       "2   0.0429429  0.82825  0.015219\n",
       "3   0.0643643  0.82825  0.019695\n",
       "7     0.15005  0.82700  0.018038\n",
       "0      0.0001  0.82600  0.014586\n",
       "8    0.171471  0.82350  0.018698\n",
       "10   0.214314  0.82350  0.018276\n",
       "9    0.192893  0.82225  0.017632\n",
       "14        0.3  0.81725  0.008746\n",
       "11   0.235736  0.81575  0.017864\n",
       "12   0.257157  0.81225  0.015439\n",
       "13   0.278579  0.81225  0.010350"
      ]
     },
     "execution_count": 46,
     "metadata": {},
     "output_type": "execute_result"
    }
   ],
   "source": [
    "import pandas as pd\n",
    "\n",
    "# Collect results in a DataFrame\n",
    "df = pd.DataFrame.from_items([\n",
    "    ('C', grid_cv.cv_results_['param_linear_svc__C']),\n",
    "    ('mean_te', grid_cv.cv_results_['mean_test_score']),\n",
    "    ('std_te', grid_cv.cv_results_['std_test_score'])\n",
    "])\n",
    "df.sort_values(by='mean_te', ascending=False)"
   ]
  },
  {
   "cell_type": "code",
   "execution_count": 48,
   "metadata": {},
   "outputs": [
    {
     "name": "stdout",
     "output_type": "stream",
     "text": [
      "Linear SVM - top accuracy across folds 0.832 std: 0.014  with C: 0.107\n"
     ]
    }
   ],
   "source": [
    "best = df.sort_values(by='mean_te', ascending=False)[0:1]\n",
    "print('Linear SVM - top accuracy across folds {:.3f}'.format(best.iloc[0,1]),\n",
    "      'std: {:.3f}'.format(best.iloc[0,2]), ' with C: {:.3f}'.format(best.iloc[0,0]))\n"
   ]
  },
  {
   "cell_type": "markdown",
   "metadata": {},
   "source": [
    "### SVM classifier with an RBF kernel"
   ]
  },
  {
   "cell_type": "code",
   "execution_count": 32,
   "metadata": {},
   "outputs": [
    {
     "name": "stdout",
     "output_type": "stream",
     "text": [
      "<bound method BaseEstimator.get_params of GridSearchCV(cv=5, error_score='raise',\n",
      "       estimator=Pipeline(memory=None,\n",
      "     steps=[('pca', PCA(copy=True, iterated_power='auto', n_components=172, random_state=None,\n",
      "  svd_solver='auto', tol=0.0, whiten=False)), ('svc_rbf', SVC(C=1.0, cache_size=200, class_weight=None, coef0=0.0,\n",
      "  decision_function_shape='ovr', degree=3, gamma='auto', kernel='rbf',\n",
      "  max_iter=-1, probability=False, random_state=None, shrinking=True,\n",
      "  tol=0.001, verbose=False))]),\n",
      "       fit_params=None, iid=True, n_jobs=-1,\n",
      "       param_grid={'SVC__C': [0.001, 0.022357142857142857, 0.04371428571428571, 0.06507142857142857, 0.08642857142857142, 0.10778571428571428, 0.12914285714285714, 0.1505, 0.17185714285714285, 0.1932142857142857, 0.21457142857142855, 0.2359285714285714, 0.2572857142857143, 0.27864285714285714, 0.3], 'SVC__...6315789473684, 15.810526315789472, 16.857894736842105, 17.905263157894737, 18.95263157894737, 20.0]},\n",
      "       pre_dispatch='2*n_jobs', refit=True, return_train_score=True,\n",
      "       scoring=None, verbose=0)>\n"
     ]
    }
   ],
   "source": [
    "from sklearn.svm import SVC\n",
    "\n",
    "# Create decision tree classifier\n",
    "pipe = Pipeline([\n",
    "    #('scaler', StandardScaler()), #  Standardization\n",
    "    ('pca', PCA(n_components=172)), # PCA preprocessing, retain 90% of the variance explained.\n",
    "    ('svc_rbf', SVC(kernel='rbf')) # SVM with RBF kernel\n",
    "])\n",
    "\n",
    "# grid search with cross validation\n",
    "from sklearn.model_selection import GridSearchCV\n",
    "\n",
    "# Create cross-validation object\n",
    "grid_cv_svm_rbf = GridSearchCV(pipe, {\n",
    "    #'scaler': [None,StandardScaler()],\n",
    "    #'pca' : [None, PCA(n_components=172)],\n",
    "    'svc_rbf__C': list(np.linspace(0.001,0.3,10)), # list of C values\n",
    "    'svc_rbf__gamma' : list(np.linspace(0.1,10,8)) # list of gamma values\n",
    "    }, cv=5, n_jobs = -1) # stratified 5-fold strategy\n",
    "\n",
    "print(grid_cv.get_params)"
   ]
  },
  {
   "cell_type": "code",
   "execution_count": 33,
   "metadata": {},
   "outputs": [
    {
     "name": "stdout",
     "output_type": "stream",
     "text": [
      "CPU times: user 58.9 s, sys: 703 ms, total: 59.7 s\n",
      "Wall time: 20min 31s\n"
     ]
    },
    {
     "data": {
      "text/plain": [
       "GridSearchCV(cv=5, error_score='raise',\n",
       "       estimator=Pipeline(memory=None,\n",
       "     steps=[('pca', PCA(copy=True, iterated_power='auto', n_components=172, random_state=None,\n",
       "  svd_solver='auto', tol=0.0, whiten=False)), ('svc_rbf', SVC(C=1.0, cache_size=200, class_weight=None, coef0=0.0,\n",
       "  decision_function_shape='ovr', degree=3, gamma='auto', kernel='rbf',\n",
       "  max_iter=-1, probability=False, random_state=None, shrinking=True,\n",
       "  tol=0.001, verbose=False))]),\n",
       "       fit_params=None, iid=True, n_jobs=-1,\n",
       "       param_grid={'svc_rbf__C': [0.001, 0.03422222222222222, 0.06744444444444445, 0.10066666666666667, 0.1338888888888889, 0.1671111111111111, 0.20033333333333334, 0.23355555555555557, 0.2667777777777778, 0.3], 'svc_rbf__gamma': [0.1, 1.5142857142857145, 2.928571428571429, 4.3428571428571425, 5.757142857142857, 7.171428571428572, 8.585714285714285, 10.0]},\n",
       "       pre_dispatch='2*n_jobs', refit=True, return_train_score=True,\n",
       "       scoring=None, verbose=0)"
      ]
     },
     "execution_count": 33,
     "metadata": {},
     "output_type": "execute_result"
    }
   ],
   "source": [
    "%%time\n",
    "# Fit estimator on train set\n",
    "grid_cv_svm_rbf.fit(X_tr, y_tr)"
   ]
  },
  {
   "cell_type": "code",
   "execution_count": 36,
   "metadata": {},
   "outputs": [
    {
     "data": {
      "text/html": [
       "<div>\n",
       "<style scoped>\n",
       "    .dataframe tbody tr th:only-of-type {\n",
       "        vertical-align: middle;\n",
       "    }\n",
       "\n",
       "    .dataframe tbody tr th {\n",
       "        vertical-align: top;\n",
       "    }\n",
       "\n",
       "    .dataframe thead th {\n",
       "        text-align: right;\n",
       "    }\n",
       "</style>\n",
       "<table border=\"1\" class=\"dataframe\">\n",
       "  <thead>\n",
       "    <tr style=\"text-align: right;\">\n",
       "      <th></th>\n",
       "      <th>C</th>\n",
       "      <th>gamma</th>\n",
       "      <th>mean_te</th>\n",
       "      <th>std_te</th>\n",
       "    </tr>\n",
       "  </thead>\n",
       "  <tbody>\n",
       "    <tr>\n",
       "      <th>0</th>\n",
       "      <td>0.001</td>\n",
       "      <td>0.1</td>\n",
       "      <td>0.69700</td>\n",
       "      <td>0.008718</td>\n",
       "    </tr>\n",
       "    <tr>\n",
       "      <th>32</th>\n",
       "      <td>0.133889</td>\n",
       "      <td>0.1</td>\n",
       "      <td>0.69700</td>\n",
       "      <td>0.006919</td>\n",
       "    </tr>\n",
       "    <tr>\n",
       "      <th>48</th>\n",
       "      <td>0.200333</td>\n",
       "      <td>0.1</td>\n",
       "      <td>0.69700</td>\n",
       "      <td>0.007969</td>\n",
       "    </tr>\n",
       "    <tr>\n",
       "      <th>72</th>\n",
       "      <td>0.3</td>\n",
       "      <td>0.1</td>\n",
       "      <td>0.69675</td>\n",
       "      <td>0.007441</td>\n",
       "    </tr>\n",
       "    <tr>\n",
       "      <th>40</th>\n",
       "      <td>0.167111</td>\n",
       "      <td>0.1</td>\n",
       "      <td>0.69675</td>\n",
       "      <td>0.006052</td>\n",
       "    </tr>\n",
       "    <tr>\n",
       "      <th>24</th>\n",
       "      <td>0.100667</td>\n",
       "      <td>0.1</td>\n",
       "      <td>0.69650</td>\n",
       "      <td>0.007921</td>\n",
       "    </tr>\n",
       "    <tr>\n",
       "      <th>16</th>\n",
       "      <td>0.0674444</td>\n",
       "      <td>0.1</td>\n",
       "      <td>0.69650</td>\n",
       "      <td>0.007089</td>\n",
       "    </tr>\n",
       "    <tr>\n",
       "      <th>56</th>\n",
       "      <td>0.233556</td>\n",
       "      <td>0.1</td>\n",
       "      <td>0.69550</td>\n",
       "      <td>0.005948</td>\n",
       "    </tr>\n",
       "    <tr>\n",
       "      <th>8</th>\n",
       "      <td>0.0342222</td>\n",
       "      <td>0.1</td>\n",
       "      <td>0.69500</td>\n",
       "      <td>0.006614</td>\n",
       "    </tr>\n",
       "    <tr>\n",
       "      <th>64</th>\n",
       "      <td>0.266778</td>\n",
       "      <td>0.1</td>\n",
       "      <td>0.69350</td>\n",
       "      <td>0.008419</td>\n",
       "    </tr>\n",
       "  </tbody>\n",
       "</table>\n",
       "</div>"
      ],
      "text/plain": [
       "            C gamma  mean_te    std_te\n",
       "0       0.001   0.1  0.69700  0.008718\n",
       "32   0.133889   0.1  0.69700  0.006919\n",
       "48   0.200333   0.1  0.69700  0.007969\n",
       "72        0.3   0.1  0.69675  0.007441\n",
       "40   0.167111   0.1  0.69675  0.006052\n",
       "24   0.100667   0.1  0.69650  0.007921\n",
       "16  0.0674444   0.1  0.69650  0.007089\n",
       "56   0.233556   0.1  0.69550  0.005948\n",
       "8   0.0342222   0.1  0.69500  0.006614\n",
       "64   0.266778   0.1  0.69350  0.008419"
      ]
     },
     "execution_count": 36,
     "metadata": {},
     "output_type": "execute_result"
    }
   ],
   "source": [
    "import pandas as pd\n",
    "\n",
    "# Collect results in a DataFrame\n",
    "df_rbf = pd.DataFrame.from_items([\n",
    "    ('C', grid_cv_svm_rbf.cv_results_['param_svc_rbf__C']),\n",
    "    ('gamma', grid_cv_svm_rbf.cv_results_['param_svc_rbf__gamma']),\n",
    "    ('mean_te', grid_cv_svm_rbf.cv_results_['mean_test_score']),\n",
    "    ('std_te', grid_cv_svm_rbf.cv_results_['std_test_score'])\n",
    "])\n",
    "df_rbf.sort_values(by='mean_te', ascending=False).head(10)"
   ]
  },
  {
   "cell_type": "code",
   "execution_count": 38,
   "metadata": {},
   "outputs": [
    {
     "name": "stdout",
     "output_type": "stream",
     "text": [
      "RBF SVM - top accuracy across folds 0.697 (std:) 0.00871779788708131  with C: 0.001  and gamma: 0.1\n"
     ]
    }
   ],
   "source": [
    "best_rbf = df_rbf.sort_values(by='mean_te', ascending=False)[0:1]\n",
    "print('RBF SVM - top accuracy across folds', best_rbf.iloc[0,2],\n",
    "      '(std:)', best_rbf.iloc[0,3], ' with C:', best_rbf.iloc[0,0], ' and gamma:', best_rbf.iloc[0,1])"
   ]
  },
  {
   "cell_type": "markdown",
   "metadata": {},
   "source": [
    "### Make predictions"
   ]
  },
  {
   "cell_type": "code",
   "execution_count": 49,
   "metadata": {},
   "outputs": [
    {
     "name": "stdout",
     "output_type": "stream",
     "text": [
      "Linear SVM accuracy on the test set: 0.809\n"
     ]
    }
   ],
   "source": [
    "# Compute predictions with the \"best_estimator_\" attribute\n",
    "grid_cv.best_estimator_.predict(X_te)\n",
    "\n",
    "# evaluate its accuracy on the test set\n",
    "accuracy_linear = grid_cv.best_estimator_.score(X_te, y_te)\n",
    "print ('Linear SVM accuracy on the test set: {:.3f}'.format(accuracy_linear))"
   ]
  },
  {
   "cell_type": "code",
   "execution_count": 40,
   "metadata": {},
   "outputs": [
    {
     "name": "stdout",
     "output_type": "stream",
     "text": [
      "RBF SVM accuracy on the test set: 0.706\n"
     ]
    }
   ],
   "source": [
    "# Compute predictions with the \"best_estimator_\" attribute\n",
    "grid_cv_svm_rbf.best_estimator_.predict(X_te)\n",
    "\n",
    "# evaluate its accuracy on the test set\n",
    "accuracy = grid_cv_svm_rbf.best_estimator_.score(X_te, y_te)\n",
    "print ('RBF SVM accuracy on the test set: {:.3f}'.format(accuracy))"
   ]
  }
 ],
 "metadata": {
  "kernelspec": {
   "display_name": "Python 3",
   "language": "python",
   "name": "python3"
  },
  "language_info": {
   "codemirror_mode": {
    "name": "ipython",
    "version": 3
   },
   "file_extension": ".py",
   "mimetype": "text/x-python",
   "name": "python",
   "nbconvert_exporter": "python",
   "pygments_lexer": "ipython3",
   "version": "3.6.4"
  }
 },
 "nbformat": 4,
 "nbformat_minor": 2
}
