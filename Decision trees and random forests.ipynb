{
 "cells": [
  {
   "cell_type": "code",
   "execution_count": 1,
   "metadata": {},
   "outputs": [
    {
     "name": "stdout",
     "output_type": "stream",
     "text": [
      "dict_keys(['pixels', 'overfeat', 'labels', 'names', 'allow_pickle'])\n",
      "pixels shape : (5000, 3072) , dtype: uint8\n",
      "overfeat shape : (5000, 4096) , dtype: float32\n",
      "labels shape : (5000,) , dtype: int64\n",
      "Categories: ['truck' 'car' 'airplane' 'ship']\n"
     ]
    }
   ],
   "source": [
    "import numpy as np\n",
    "import os\n",
    "\n",
    "# Load the data\n",
    "with np.load('cifar4-train.npz', allow_pickle=False) as npz_file:\n",
    "    # Load items into a dictionary\n",
    "    cifar = dict(npz_file.items())\n",
    "\n",
    "print(cifar.keys())\n",
    "\n",
    "pixels = cifar['pixels']\n",
    "overfeat = cifar['overfeat']\n",
    "labels = cifar['labels']\n",
    "names = cifar['names']\n",
    "\n",
    "print('pixels shape :',pixels.shape, ', dtype:', pixels.dtype)\n",
    "print('overfeat shape :',overfeat.shape, ', dtype:', overfeat.dtype)\n",
    "print('labels shape :',labels.shape, ', dtype:', labels.dtype)\n",
    "print('Categories:', names)"
   ]
  },
  {
   "cell_type": "code",
   "execution_count": 2,
   "metadata": {},
   "outputs": [
    {
     "name": "stdout",
     "output_type": "stream",
     "text": [
      "Train: (4000, 4096) (4000,)\n",
      "Test: (1000, 4096) (1000,)\n",
      "class distribution in train set: \n",
      " 3    0.25\n",
      "1    0.25\n",
      "2    0.25\n",
      "0    0.25\n",
      "dtype: float64\n",
      "class distribution in test set: \n",
      " 3    0.25\n",
      "2    0.25\n",
      "1    0.25\n",
      "0    0.25\n",
      "dtype: float64\n"
     ]
    }
   ],
   "source": [
    "# split the Overfeat data into train/test sets w/ same proportion of classes in each subset\n",
    "\n",
    "import pandas as pd\n",
    "from sklearn.model_selection import train_test_split\n",
    "\n",
    "X_tr, X_te, y_tr, y_te = train_test_split(\n",
    "    overfeat, labels, train_size=4000, test_size=1000, \n",
    "    stratify=labels , # same class distribution\n",
    "    random_state=0)\n",
    "\n",
    "print('Train:', X_tr.shape, y_tr.shape)\n",
    "print('Test:', X_te.shape, y_te.shape)\n",
    "print('class distribution in train set:','\\n', pd.value_counts(y_tr, normalize=True))\n",
    "print('class distribution in test set:','\\n', pd.value_counts(y_te, normalize=True))"
   ]
  },
  {
   "cell_type": "code",
   "execution_count": 3,
   "metadata": {},
   "outputs": [
    {
     "name": "stdout",
     "output_type": "stream",
     "text": [
      "Train2: (3200, 4096) (3200,)\n",
      "Val: (800, 4096) (800,)\n",
      "Class distribution in train set: \n",
      " 3    0.25\n",
      "1    0.25\n",
      "2    0.25\n",
      "0    0.25\n",
      "dtype: float64\n",
      "Class distribution in test set: \n",
      " 3    0.25\n",
      "2    0.25\n",
      "1    0.25\n",
      "0    0.25\n",
      "dtype: float64\n"
     ]
    }
   ],
   "source": [
    "# Then, split the train set (4,000 points) into a (smaller) train and validation sets\n",
    "# with respectively 3,200 and 800 samples\n",
    "\n",
    "X_tr2, X_val, y_tr2, y_val = train_test_split(\n",
    "    X_tr, y_tr, train_size=3200, test_size=800, \n",
    "    stratify=y_tr , # same class distribution\n",
    "    random_state=0)\n",
    "\n",
    "print('Train2:', X_tr2.shape, y_tr2.shape)\n",
    "print('Val:', X_val.shape, y_val.shape)\n",
    "print('Class distribution in train set:','\\n',pd.value_counts(y_tr2, normalize=True))\n",
    "print('Class distribution in test set:','\\n', pd.value_counts(y_val, normalize=True))"
   ]
  },
  {
   "cell_type": "markdown",
   "metadata": {},
   "source": [
    "### Decision tree classifier. Tune its depth and plot the validation curve"
   ]
  },
  {
   "cell_type": "code",
   "execution_count": 4,
   "metadata": {},
   "outputs": [],
   "source": [
    "from sklearn.tree import DecisionTreeClassifier\n",
    "from sklearn.pipeline import Pipeline\n",
    "from sklearn.preprocessing import StandardScaler\n",
    "from sklearn.decomposition import PCA\n",
    "\n",
    "# Create decision tree classifier\n",
    "pipe = Pipeline([\n",
    "    ('scaler', StandardScaler()), # With standardization\n",
    "    ('pca', PCA(n_components=172)), # PCA preprocessing, number of components to retain 90% of the variance explained.\n",
    "    ('dt', DecisionTreeClassifier(criterion='gini', random_state=0))\n",
    "])"
   ]
  },
  {
   "cell_type": "code",
   "execution_count": 5,
   "metadata": {},
   "outputs": [
    {
     "name": "stdout",
     "output_type": "stream",
     "text": [
      "Number of combinations: 40\n"
     ]
    }
   ],
   "source": [
    "from sklearn.model_selection import ParameterGrid\n",
    "\n",
    "# grid of parameters \n",
    "grid = ParameterGrid({\n",
    "    'scaler': [None, StandardScaler()],\n",
    "    'pca' : [None, PCA(n_components=172)],\n",
    "    'dt__max_depth': np.arange(1,11,1) # depth\n",
    "})\n",
    "\n",
    "# Print the number of combinations\n",
    "print('Number of combinations:', len(grid))"
   ]
  },
  {
   "cell_type": "code",
   "execution_count": 6,
   "metadata": {},
   "outputs": [
    {
     "name": "stdout",
     "output_type": "stream",
     "text": [
      "Combination 1/40\n",
      "Combination 2/40\n",
      "Combination 3/40\n",
      "Combination 4/40\n",
      "Combination 5/40\n",
      "Combination 6/40\n",
      "Combination 7/40\n",
      "Combination 8/40\n",
      "Combination 9/40\n",
      "Combination 10/40\n",
      "Combination 11/40\n",
      "Combination 12/40\n",
      "Combination 13/40\n",
      "Combination 14/40\n",
      "Combination 15/40\n",
      "Combination 16/40\n",
      "Combination 17/40\n",
      "Combination 18/40\n",
      "Combination 19/40\n",
      "Combination 20/40\n",
      "Combination 21/40\n",
      "Combination 22/40\n",
      "Combination 23/40\n",
      "Combination 24/40\n",
      "Combination 25/40\n",
      "Combination 26/40\n",
      "Combination 27/40\n",
      "Combination 28/40\n",
      "Combination 29/40\n",
      "Combination 30/40\n",
      "Combination 31/40\n",
      "Combination 32/40\n",
      "Combination 33/40\n",
      "Combination 34/40\n",
      "Combination 35/40\n",
      "Combination 36/40\n",
      "Combination 37/40\n",
      "Combination 38/40\n",
      "Combination 39/40\n",
      "Combination 40/40\n",
      "done\n"
     ]
    }
   ],
   "source": [
    "# Save accuracy on test set\n",
    "test_scores = []\n",
    "\n",
    "# Enumerate combinations starting from 1\n",
    "for i, params_dict in enumerate(grid, 1):\n",
    "    # Print progress\n",
    "    print('Combination {}/{}'.format(\n",
    "        i, len(grid) # Total number of combinations\n",
    "    ))\n",
    "    \n",
    "    # Set parameters\n",
    "    pipe.set_params(**params_dict)\n",
    "\n",
    "    # Fit on train set\n",
    "    pipe.fit(X_tr2, y_tr2)\n",
    "    \n",
    "    # Save accuracy on train set\n",
    "    params_dict['accuracy_tr'] = pipe.score(X_tr2, y_tr2)\n",
    "\n",
    "    # Save accuracy on validation set\n",
    "    params_dict['accuracy_val'] = pipe.score(X_val, y_val)\n",
    "    \n",
    "    # Save result\n",
    "    test_scores.append(params_dict)\n",
    "\n",
    "print('done')"
   ]
  },
  {
   "cell_type": "code",
   "execution_count": 11,
   "metadata": {
    "scrolled": true
   },
   "outputs": [
    {
     "data": {
      "text/html": [
       "<div>\n",
       "<style scoped>\n",
       "    .dataframe tbody tr th:only-of-type {\n",
       "        vertical-align: middle;\n",
       "    }\n",
       "\n",
       "    .dataframe tbody tr th {\n",
       "        vertical-align: top;\n",
       "    }\n",
       "\n",
       "    .dataframe thead th {\n",
       "        text-align: right;\n",
       "    }\n",
       "</style>\n",
       "<table border=\"1\" class=\"dataframe\">\n",
       "  <thead>\n",
       "    <tr style=\"text-align: right;\">\n",
       "      <th></th>\n",
       "      <th>accuracy_tr</th>\n",
       "      <th>accuracy_val</th>\n",
       "      <th>dt__max_depth</th>\n",
       "      <th>pca</th>\n",
       "      <th>scaler</th>\n",
       "    </tr>\n",
       "  </thead>\n",
       "  <tbody>\n",
       "    <tr>\n",
       "      <th>19</th>\n",
       "      <td>0.714375</td>\n",
       "      <td>0.67250</td>\n",
       "      <td>5</td>\n",
       "      <td>PCA(copy=True, iterated_power='auto', n_compon...</td>\n",
       "      <td>StandardScaler(copy=True, with_mean=True, with...</td>\n",
       "    </tr>\n",
       "    <tr>\n",
       "      <th>23</th>\n",
       "      <td>0.755313</td>\n",
       "      <td>0.65750</td>\n",
       "      <td>6</td>\n",
       "      <td>PCA(copy=True, iterated_power='auto', n_compon...</td>\n",
       "      <td>StandardScaler(copy=True, with_mean=True, with...</td>\n",
       "    </tr>\n",
       "    <tr>\n",
       "      <th>18</th>\n",
       "      <td>0.697812</td>\n",
       "      <td>0.65250</td>\n",
       "      <td>5</td>\n",
       "      <td>PCA(copy=True, iterated_power='auto', n_compon...</td>\n",
       "      <td>None</td>\n",
       "    </tr>\n",
       "    <tr>\n",
       "      <th>15</th>\n",
       "      <td>0.674375</td>\n",
       "      <td>0.65125</td>\n",
       "      <td>4</td>\n",
       "      <td>PCA(copy=True, iterated_power='auto', n_compon...</td>\n",
       "      <td>StandardScaler(copy=True, with_mean=True, with...</td>\n",
       "    </tr>\n",
       "    <tr>\n",
       "      <th>27</th>\n",
       "      <td>0.802813</td>\n",
       "      <td>0.65125</td>\n",
       "      <td>7</td>\n",
       "      <td>PCA(copy=True, iterated_power='auto', n_compon...</td>\n",
       "      <td>StandardScaler(copy=True, with_mean=True, with...</td>\n",
       "    </tr>\n",
       "    <tr>\n",
       "      <th>14</th>\n",
       "      <td>0.662500</td>\n",
       "      <td>0.64875</td>\n",
       "      <td>4</td>\n",
       "      <td>PCA(copy=True, iterated_power='auto', n_compon...</td>\n",
       "      <td>None</td>\n",
       "    </tr>\n",
       "    <tr>\n",
       "      <th>22</th>\n",
       "      <td>0.747812</td>\n",
       "      <td>0.64750</td>\n",
       "      <td>6</td>\n",
       "      <td>PCA(copy=True, iterated_power='auto', n_compon...</td>\n",
       "      <td>None</td>\n",
       "    </tr>\n",
       "    <tr>\n",
       "      <th>26</th>\n",
       "      <td>0.800000</td>\n",
       "      <td>0.63875</td>\n",
       "      <td>7</td>\n",
       "      <td>PCA(copy=True, iterated_power='auto', n_compon...</td>\n",
       "      <td>None</td>\n",
       "    </tr>\n",
       "    <tr>\n",
       "      <th>30</th>\n",
       "      <td>0.856250</td>\n",
       "      <td>0.63875</td>\n",
       "      <td>8</td>\n",
       "      <td>PCA(copy=True, iterated_power='auto', n_compon...</td>\n",
       "      <td>None</td>\n",
       "    </tr>\n",
       "    <tr>\n",
       "      <th>11</th>\n",
       "      <td>0.643750</td>\n",
       "      <td>0.63750</td>\n",
       "      <td>3</td>\n",
       "      <td>PCA(copy=True, iterated_power='auto', n_compon...</td>\n",
       "      <td>StandardScaler(copy=True, with_mean=True, with...</td>\n",
       "    </tr>\n",
       "  </tbody>\n",
       "</table>\n",
       "</div>"
      ],
      "text/plain": [
       "    accuracy_tr  accuracy_val  dt__max_depth  \\\n",
       "19     0.714375       0.67250              5   \n",
       "23     0.755313       0.65750              6   \n",
       "18     0.697812       0.65250              5   \n",
       "15     0.674375       0.65125              4   \n",
       "27     0.802813       0.65125              7   \n",
       "14     0.662500       0.64875              4   \n",
       "22     0.747812       0.64750              6   \n",
       "26     0.800000       0.63875              7   \n",
       "30     0.856250       0.63875              8   \n",
       "11     0.643750       0.63750              3   \n",
       "\n",
       "                                                  pca  \\\n",
       "19  PCA(copy=True, iterated_power='auto', n_compon...   \n",
       "23  PCA(copy=True, iterated_power='auto', n_compon...   \n",
       "18  PCA(copy=True, iterated_power='auto', n_compon...   \n",
       "15  PCA(copy=True, iterated_power='auto', n_compon...   \n",
       "27  PCA(copy=True, iterated_power='auto', n_compon...   \n",
       "14  PCA(copy=True, iterated_power='auto', n_compon...   \n",
       "22  PCA(copy=True, iterated_power='auto', n_compon...   \n",
       "26  PCA(copy=True, iterated_power='auto', n_compon...   \n",
       "30  PCA(copy=True, iterated_power='auto', n_compon...   \n",
       "11  PCA(copy=True, iterated_power='auto', n_compon...   \n",
       "\n",
       "                                               scaler  \n",
       "19  StandardScaler(copy=True, with_mean=True, with...  \n",
       "23  StandardScaler(copy=True, with_mean=True, with...  \n",
       "18                                               None  \n",
       "15  StandardScaler(copy=True, with_mean=True, with...  \n",
       "27  StandardScaler(copy=True, with_mean=True, with...  \n",
       "14                                               None  \n",
       "22                                               None  \n",
       "26                                               None  \n",
       "30                                               None  \n",
       "11  StandardScaler(copy=True, with_mean=True, with...  "
      ]
     },
     "execution_count": 11,
     "metadata": {},
     "output_type": "execute_result"
    }
   ],
   "source": [
    "# Create DataFrame with test scores\n",
    "scores_df = pd.DataFrame(test_scores)\n",
    "\n",
    "# Print scores\n",
    "scores_df.sort_values(by='accuracy_val', ascending=False).head(10)"
   ]
  },
  {
   "cell_type": "code",
   "execution_count": 10,
   "metadata": {},
   "outputs": [
    {
     "data": {
      "image/png": "[encoded data removed]",
      "text/plain": [
       "<matplotlib.figure.Figure at 0x1a2ca70d30>"
      ]
     },
     "metadata": {},
     "output_type": "display_data"
    }
   ],
   "source": [
    "# Create a plot of the depth and accuracy values \n",
    "# with one curve for the training scores and one for the validation scores\n",
    "\n",
    "# Plot validation curve\n",
    "%matplotlib inline\n",
    "import matplotlib.pyplot as plt\n",
    "plt.plot(scores_df.dt__max_depth, scores_df.accuracy_tr, label = 'train set')\n",
    "plt.plot(scores_df.dt__max_depth, scores_df.accuracy_val, label = 'validation set')\n",
    "plt.xlabel('depth')\n",
    "plt.ylabel('accuracy')\n",
    "plt.legend()\n",
    "plt.show()"
   ]
  },
  {
   "cell_type": "code",
   "execution_count": null,
   "metadata": {},
   "outputs": [],
   "source": [
    "# We can see that the model is overfitting when depth is greater than 5."
   ]
  },
  {
   "cell_type": "code",
   "execution_count": 12,
   "metadata": {},
   "outputs": [
    {
     "name": "stdout",
     "output_type": "stream",
     "text": [
      "Top accuracy on validation set: 0.6725  with depth: 5\n"
     ]
    }
   ],
   "source": [
    "best = scores_df.sort_values(by='accuracy_val', ascending=False)[0:1]\n",
    "print('Top accuracy on validation set:', best.iloc[0,1], ' with depth:', best.iloc[0,2])"
   ]
  },
  {
   "cell_type": "markdown",
   "metadata": {},
   "source": [
    "### Random forest classifier"
   ]
  },
  {
   "cell_type": "markdown",
   "metadata": {},
   "source": [
    "For the random forest classifier, try different sizes of ensemble, e.g., 50, 100 and 200 trees. Fit the random forests on the train set and evaluate them on the validation one. Collect the results in a DataFrame."
   ]
  },
  {
   "cell_type": "code",
   "execution_count": 13,
   "metadata": {},
   "outputs": [],
   "source": [
    "from sklearn.ensemble import RandomForestClassifier\n",
    "\n",
    "# Create decision tree classifier\n",
    "pipe = Pipeline([\n",
    "    ('scaler', StandardScaler()), # With standardization\n",
    "    ('pca', PCA(n_components=172)), # PCA preprocessing, number of components to retain 90% of the variance explained.\n",
    "    ('rfc', RandomForestClassifier(random_state=0))\n",
    "])"
   ]
  },
  {
   "cell_type": "code",
   "execution_count": 15,
   "metadata": {},
   "outputs": [
    {
     "name": "stdout",
     "output_type": "stream",
     "text": [
      "Number of combinations: 36\n"
     ]
    }
   ],
   "source": [
    "# grid of parameters \n",
    "grid = ParameterGrid({\n",
    "    'scaler': [None, StandardScaler()],\n",
    "    'pca' : [None, PCA(n_components=172)],\n",
    "    'rfc__n_estimators': [50, 100, 200], # size of ensembles\n",
    "    'rfc__max_depth' : [4,5,6]\n",
    "})\n",
    "\n",
    "# Print the number of combinations\n",
    "print('Number of combinations:', len(grid))"
   ]
  },
  {
   "cell_type": "code",
   "execution_count": 16,
   "metadata": {},
   "outputs": [
    {
     "name": "stdout",
     "output_type": "stream",
     "text": [
      "Combination 1/36\n",
      "Combination 2/36\n",
      "Combination 3/36\n",
      "Combination 4/36\n",
      "Combination 5/36\n",
      "Combination 6/36\n",
      "Combination 7/36\n",
      "Combination 8/36\n",
      "Combination 9/36\n",
      "Combination 10/36\n",
      "Combination 11/36\n",
      "Combination 12/36\n",
      "Combination 13/36\n",
      "Combination 14/36\n",
      "Combination 15/36\n",
      "Combination 16/36\n",
      "Combination 17/36\n",
      "Combination 18/36\n",
      "Combination 19/36\n",
      "Combination 20/36\n",
      "Combination 21/36\n",
      "Combination 22/36\n",
      "Combination 23/36\n",
      "Combination 24/36\n",
      "Combination 25/36\n",
      "Combination 26/36\n",
      "Combination 27/36\n",
      "Combination 28/36\n",
      "Combination 29/36\n",
      "Combination 30/36\n",
      "Combination 31/36\n",
      "Combination 32/36\n",
      "Combination 33/36\n",
      "Combination 34/36\n",
      "Combination 35/36\n",
      "Combination 36/36\n",
      "done\n"
     ]
    }
   ],
   "source": [
    "# Save accuracy on test set\n",
    "test_scores = []\n",
    "\n",
    "# Enumerate combinations starting from 1\n",
    "for i, params_dict in enumerate(grid, 1):\n",
    "    # Print progress\n",
    "    print('Combination {}/{}'.format(\n",
    "        i, len(grid) # Total number of combinations\n",
    "    ))\n",
    "    \n",
    "    # Set parameters\n",
    "    pipe.set_params(**params_dict)\n",
    "\n",
    "    # Fit on train set\n",
    "    pipe.fit(X_tr2, y_tr2)\n",
    "    \n",
    "    # Save accuracy on train set\n",
    "    params_dict['accuracy_tr'] = pipe.score(X_tr2, y_tr2)\n",
    "\n",
    "    # Save accuracy on validation set\n",
    "    params_dict['accuracy_val'] = pipe.score(X_val, y_val)\n",
    "    \n",
    "    # Save result\n",
    "    test_scores.append(params_dict)\n",
    "\n",
    "print('done')"
   ]
  },
  {
   "cell_type": "code",
   "execution_count": 17,
   "metadata": {},
   "outputs": [
    {
     "data": {
      "text/html": [
       "<div>\n",
       "<style scoped>\n",
       "    .dataframe tbody tr th:only-of-type {\n",
       "        vertical-align: middle;\n",
       "    }\n",
       "\n",
       "    .dataframe tbody tr th {\n",
       "        vertical-align: top;\n",
       "    }\n",
       "\n",
       "    .dataframe thead th {\n",
       "        text-align: right;\n",
       "    }\n",
       "</style>\n",
       "<table border=\"1\" class=\"dataframe\">\n",
       "  <thead>\n",
       "    <tr style=\"text-align: right;\">\n",
       "      <th></th>\n",
       "      <th>accuracy_tr</th>\n",
       "      <th>accuracy_val</th>\n",
       "      <th>pca</th>\n",
       "      <th>rfc__max_depth</th>\n",
       "      <th>rfc__n_estimators</th>\n",
       "      <th>scaler</th>\n",
       "    </tr>\n",
       "  </thead>\n",
       "  <tbody>\n",
       "    <tr>\n",
       "      <th>16</th>\n",
       "      <td>0.912813</td>\n",
       "      <td>0.78375</td>\n",
       "      <td>None</td>\n",
       "      <td>6</td>\n",
       "      <td>200</td>\n",
       "      <td>None</td>\n",
       "    </tr>\n",
       "    <tr>\n",
       "      <th>17</th>\n",
       "      <td>0.912813</td>\n",
       "      <td>0.78375</td>\n",
       "      <td>None</td>\n",
       "      <td>6</td>\n",
       "      <td>200</td>\n",
       "      <td>StandardScaler(copy=True, with_mean=True, with...</td>\n",
       "    </tr>\n",
       "    <tr>\n",
       "      <th>14</th>\n",
       "      <td>0.910312</td>\n",
       "      <td>0.78250</td>\n",
       "      <td>None</td>\n",
       "      <td>6</td>\n",
       "      <td>100</td>\n",
       "      <td>None</td>\n",
       "    </tr>\n",
       "    <tr>\n",
       "      <th>15</th>\n",
       "      <td>0.910312</td>\n",
       "      <td>0.78250</td>\n",
       "      <td>None</td>\n",
       "      <td>6</td>\n",
       "      <td>100</td>\n",
       "      <td>StandardScaler(copy=True, with_mean=True, with...</td>\n",
       "    </tr>\n",
       "    <tr>\n",
       "      <th>10</th>\n",
       "      <td>0.866563</td>\n",
       "      <td>0.77500</td>\n",
       "      <td>None</td>\n",
       "      <td>5</td>\n",
       "      <td>200</td>\n",
       "      <td>None</td>\n",
       "    </tr>\n",
       "    <tr>\n",
       "      <th>11</th>\n",
       "      <td>0.866563</td>\n",
       "      <td>0.77500</td>\n",
       "      <td>None</td>\n",
       "      <td>5</td>\n",
       "      <td>200</td>\n",
       "      <td>StandardScaler(copy=True, with_mean=True, with...</td>\n",
       "    </tr>\n",
       "    <tr>\n",
       "      <th>8</th>\n",
       "      <td>0.865625</td>\n",
       "      <td>0.76875</td>\n",
       "      <td>None</td>\n",
       "      <td>5</td>\n",
       "      <td>100</td>\n",
       "      <td>None</td>\n",
       "    </tr>\n",
       "    <tr>\n",
       "      <th>9</th>\n",
       "      <td>0.865625</td>\n",
       "      <td>0.76875</td>\n",
       "      <td>None</td>\n",
       "      <td>5</td>\n",
       "      <td>100</td>\n",
       "      <td>StandardScaler(copy=True, with_mean=True, with...</td>\n",
       "    </tr>\n",
       "    <tr>\n",
       "      <th>35</th>\n",
       "      <td>0.885625</td>\n",
       "      <td>0.76750</td>\n",
       "      <td>PCA(copy=True, iterated_power='auto', n_compon...</td>\n",
       "      <td>6</td>\n",
       "      <td>200</td>\n",
       "      <td>StandardScaler(copy=True, with_mean=True, with...</td>\n",
       "    </tr>\n",
       "    <tr>\n",
       "      <th>4</th>\n",
       "      <td>0.823438</td>\n",
       "      <td>0.76750</td>\n",
       "      <td>None</td>\n",
       "      <td>4</td>\n",
       "      <td>200</td>\n",
       "      <td>None</td>\n",
       "    </tr>\n",
       "  </tbody>\n",
       "</table>\n",
       "</div>"
      ],
      "text/plain": [
       "    accuracy_tr  accuracy_val  \\\n",
       "16     0.912813       0.78375   \n",
       "17     0.912813       0.78375   \n",
       "14     0.910312       0.78250   \n",
       "15     0.910312       0.78250   \n",
       "10     0.866563       0.77500   \n",
       "11     0.866563       0.77500   \n",
       "8      0.865625       0.76875   \n",
       "9      0.865625       0.76875   \n",
       "35     0.885625       0.76750   \n",
       "4      0.823438       0.76750   \n",
       "\n",
       "                                                  pca  rfc__max_depth  \\\n",
       "16                                               None               6   \n",
       "17                                               None               6   \n",
       "14                                               None               6   \n",
       "15                                               None               6   \n",
       "10                                               None               5   \n",
       "11                                               None               5   \n",
       "8                                                None               5   \n",
       "9                                                None               5   \n",
       "35  PCA(copy=True, iterated_power='auto', n_compon...               6   \n",
       "4                                                None               4   \n",
       "\n",
       "    rfc__n_estimators                                             scaler  \n",
       "16                200                                               None  \n",
       "17                200  StandardScaler(copy=True, with_mean=True, with...  \n",
       "14                100                                               None  \n",
       "15                100  StandardScaler(copy=True, with_mean=True, with...  \n",
       "10                200                                               None  \n",
       "11                200  StandardScaler(copy=True, with_mean=True, with...  \n",
       "8                 100                                               None  \n",
       "9                 100  StandardScaler(copy=True, with_mean=True, with...  \n",
       "35                200  StandardScaler(copy=True, with_mean=True, with...  \n",
       "4                 200                                               None  "
      ]
     },
     "execution_count": 17,
     "metadata": {},
     "output_type": "execute_result"
    }
   ],
   "source": [
    "# Create DataFrame with test scores\n",
    "scores_df = pd.DataFrame(test_scores)\n",
    "\n",
    "# Print scores\n",
    "scores_df.sort_values(by='accuracy_val', ascending=False).head(10)"
   ]
  },
  {
   "cell_type": "markdown",
   "metadata": {},
   "source": [
    "Finally, fit your (tuned) decision tree and random forest estimators on the entire train set with 4,000 data points and evaluate them on the test set. Print the accuracy values."
   ]
  },
  {
   "cell_type": "code",
   "execution_count": 22,
   "metadata": {},
   "outputs": [
    {
     "name": "stdout",
     "output_type": "stream",
     "text": [
      "Decision tree classifier accuracy on the test set: 0.657\n"
     ]
    }
   ],
   "source": [
    "# Create decision tree classifier with tuned parameters\n",
    "pipe_dt_best = Pipeline([\n",
    "    ('scaler', StandardScaler()), \n",
    "    ('pca', PCA(n_components=172)), \n",
    "    ('dt', DecisionTreeClassifier(max_depth = 5, criterion='gini', random_state=0))\n",
    "])\n",
    "\n",
    "# Fit it to the entire train data\n",
    "pipe_dt_best.fit(X_tr, y_tr)\n",
    "\n",
    "# evaluate its accuracy on the test set\n",
    "accuracy_dt_best = pipe_dt_best.score(X_te, y_te)\n",
    "print ('Decision tree classifier accuracy on the test set: {:.3f}'.format(accuracy_dt_best))"
   ]
  },
  {
   "cell_type": "code",
   "execution_count": 21,
   "metadata": {},
   "outputs": [
    {
     "name": "stdout",
     "output_type": "stream",
     "text": [
      "Random forest classifier accuracy on the test set: 0.779\n"
     ]
    }
   ],
   "source": [
    "# Create random forest classifier with tuned parameters\n",
    "pipe_rfc_best = Pipeline([\n",
    "    ('scaler', None), # Without standardization\n",
    "    ('pca', None), \n",
    "    ('rfc', RandomForestClassifier(n_estimators = 200, max_depth = 6, random_state=0))\n",
    "])\n",
    "\n",
    "# Fit it to the entire train data\n",
    "pipe_rfc_best.fit(X_tr, y_tr)\n",
    "\n",
    "# evaluate its accuracy on the test set\n",
    "accuracy_rfc_best = pipe_rfc_best.score(X_te, y_te)\n",
    "print ('Random forest classifier accuracy on the test set: {:.3f}'.format(accuracy_rfc_best))"
   ]
  }
 ],
 "metadata": {
  "kernelspec": {
   "display_name": "Python 3",
   "language": "python",
   "name": "python3"
  },
  "language_info": {
   "codemirror_mode": {
    "name": "ipython",
    "version": 3
   },
   "file_extension": ".py",
   "mimetype": "text/x-python",
   "name": "python",
   "nbconvert_exporter": "python",
   "pygments_lexer": "ipython3",
   "version": "3.6.4"
  }
 },
 "nbformat": 4,
 "nbformat_minor": 2
}
