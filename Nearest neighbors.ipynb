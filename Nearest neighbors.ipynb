{
 "cells": [
  {
   "cell_type": "markdown",
   "metadata": {},
   "source": [
    "## K-nearest neighbors classifier"
   ]
  },
  {
   "cell_type": "code",
   "execution_count": 1,
   "metadata": {
    "scrolled": true
   },
   "outputs": [
    {
     "name": "stdout",
     "output_type": "stream",
     "text": [
      "dict_keys(['pixels', 'overfeat', 'labels', 'names', 'allow_pickle'])\n",
      "pixels shape : (5000, 3072) , dtype: uint8\n",
      "overfeat shape : (5000, 4096) , dtype: float32\n",
      "labels shape : (5000,) , dtype: int64\n",
      "Categories: ['truck' 'car' 'airplane' 'ship']\n"
     ]
    }
   ],
   "source": [
    "import numpy as np\n",
    "import os\n",
    "\n",
    "# Load the data\n",
    "with np.load('cifar4-train.npz', allow_pickle=False) as npz_file:\n",
    "    # Load items into a dictionary\n",
    "    cifar = dict(npz_file.items())\n",
    "\n",
    "print(cifar.keys())\n",
    "\n",
    "pixels = cifar['pixels']\n",
    "overfeat = cifar['overfeat']\n",
    "labels = cifar['labels']\n",
    "names = cifar['names']\n",
    "\n",
    "print('pixels shape :',pixels.shape, ', dtype:', pixels.dtype)\n",
    "print('overfeat shape :',overfeat.shape, ', dtype:', overfeat.dtype)\n",
    "print('labels shape :',labels.shape, ', dtype:', labels.dtype)\n",
    "print('Categories:', names)"
   ]
  },
  {
   "cell_type": "code",
   "execution_count": 2,
   "metadata": {
    "scrolled": true
   },
   "outputs": [
    {
     "name": "stdout",
     "output_type": "stream",
     "text": [
      "Train: (4000, 4096) (4000,)\n",
      "Test: (1000, 4096) (1000,)\n",
      "class distribution in train set: \n",
      " 3    0.25\n",
      "1    0.25\n",
      "2    0.25\n",
      "0    0.25\n",
      "dtype: float64\n",
      "class distribution in test set: \n",
      " 3    0.25\n",
      "2    0.25\n",
      "1    0.25\n",
      "0    0.25\n",
      "dtype: float64\n"
     ]
    }
   ],
   "source": [
    "# split the Overfeat data into train/test sets w/ same proportion of classes in each subset\n",
    "\n",
    "import pandas as pd\n",
    "from sklearn.model_selection import train_test_split\n",
    "\n",
    "X_tr, X_te, y_tr, y_te = train_test_split(\n",
    "    overfeat, labels, train_size=4000, test_size=1000, \n",
    "    stratify=labels , # same class distribution\n",
    "    random_state=0)\n",
    "\n",
    "print('Train:', X_tr.shape, y_tr.shape)\n",
    "print('Test:', X_te.shape, y_te.shape)\n",
    "print('class distribution in train set:','\\n', pd.value_counts(y_tr, normalize=True))\n",
    "print('class distribution in test set:','\\n', pd.value_counts(y_te, normalize=True))"
   ]
  },
  {
   "cell_type": "code",
   "execution_count": 3,
   "metadata": {},
   "outputs": [
    {
     "name": "stdout",
     "output_type": "stream",
     "text": [
      "Train2: (3200, 4096) (3200,)\n",
      "Val: (800, 4096) (800,)\n",
      "Class distribution in train set: \n",
      " 3    0.25\n",
      "1    0.25\n",
      "2    0.25\n",
      "0    0.25\n",
      "dtype: float64\n",
      "Class distribution in test set: \n",
      " 3    0.25\n",
      "2    0.25\n",
      "1    0.25\n",
      "0    0.25\n",
      "dtype: float64\n"
     ]
    }
   ],
   "source": [
    "# Then, split the train set (4,000 points) into a (smaller) train and validation sets\n",
    "# with respectively 3,200 and 800 samples\n",
    "\n",
    "X_tr2, X_val, y_tr2, y_val = train_test_split(\n",
    "    X_tr, y_tr, train_size=3200, test_size=800, \n",
    "    stratify=y_tr , # same class distribution\n",
    "    random_state=0)\n",
    "\n",
    "print('Train2:', X_tr2.shape, y_tr2.shape)\n",
    "print('Val:', X_val.shape, y_val.shape)\n",
    "print('Class distribution in train set:','\\n',pd.value_counts(y_tr2, normalize=True))\n",
    "print('Class distribution in test set:','\\n', pd.value_counts(y_val, normalize=True))"
   ]
  },
  {
   "cell_type": "markdown",
   "metadata": {},
   "source": [
    "#### Create a k-NN classifier with PCA. Tune k and the distance metric"
   ]
  },
  {
   "cell_type": "markdown",
   "metadata": {},
   "source": [
    "After a few tries of grid search that led to slightly inconsistent results, I adopted a different approach : first I tune the k metric, then the other parameters. However, I still find the results a bit inconsistent (e.g. k value varies a lot when accuracy varies very little) , maybve due to a noisy dataset."
   ]
  },
  {
   "cell_type": "code",
   "execution_count": 4,
   "metadata": {},
   "outputs": [],
   "source": [
    "from sklearn.neighbors import KNeighborsClassifier\n",
    "from sklearn.pipeline import Pipeline\n",
    "from sklearn.preprocessing import StandardScaler\n",
    "from sklearn.decomposition import PCA\n",
    "\n",
    "# Create k-NN classifier\n",
    "pipe = Pipeline([\n",
    "    #('scaler', StandardScaler()), # With standardization\n",
    "    ('pca', PCA(n_components=172)), # PCA preprocessing, number of components to retain 90% of the variance explained.\n",
    "    ('knn', KNeighborsClassifier(\n",
    "        algorithm='brute', # Brute-force search\n",
    "        n_jobs=-1 # As many parallel jobs as possible\n",
    "    ))\n",
    "])"
   ]
  },
  {
   "cell_type": "code",
   "execution_count": 5,
   "metadata": {},
   "outputs": [
    {
     "name": "stdout",
     "output_type": "stream",
     "text": [
      "Number of combinations: 50\n"
     ]
    }
   ],
   "source": [
    "# grid search for k\n",
    "from sklearn.model_selection import ParameterGrid\n",
    "\n",
    "# grid of parameters \n",
    "grid = ParameterGrid({'knn__n_neighbors': list(range(1,100,2))})\n",
    "\n",
    "# Print the number of combinations\n",
    "print('Number of combinations:', len(grid))"
   ]
  },
  {
   "cell_type": "code",
   "execution_count": 6,
   "metadata": {},
   "outputs": [
    {
     "name": "stdout",
     "output_type": "stream",
     "text": [
      "Combination 1/50\n",
      "Combination 2/50\n",
      "Combination 3/50\n",
      "Combination 4/50\n",
      "Combination 5/50\n",
      "Combination 6/50\n",
      "Combination 7/50\n",
      "Combination 8/50\n",
      "Combination 9/50\n",
      "Combination 10/50\n",
      "Combination 11/50\n",
      "Combination 12/50\n",
      "Combination 13/50\n",
      "Combination 14/50\n",
      "Combination 15/50\n",
      "Combination 16/50\n",
      "Combination 17/50\n",
      "Combination 18/50\n",
      "Combination 19/50\n",
      "Combination 20/50\n",
      "Combination 21/50\n",
      "Combination 22/50\n",
      "Combination 23/50\n",
      "Combination 24/50\n",
      "Combination 25/50\n",
      "Combination 26/50\n",
      "Combination 27/50\n",
      "Combination 28/50\n",
      "Combination 29/50\n",
      "Combination 30/50\n",
      "Combination 31/50\n",
      "Combination 32/50\n",
      "Combination 33/50\n",
      "Combination 34/50\n",
      "Combination 35/50\n",
      "Combination 36/50\n",
      "Combination 37/50\n",
      "Combination 38/50\n",
      "Combination 39/50\n",
      "Combination 40/50\n",
      "Combination 41/50\n",
      "Combination 42/50\n",
      "Combination 43/50\n",
      "Combination 44/50\n",
      "Combination 45/50\n",
      "Combination 46/50\n",
      "Combination 47/50\n",
      "Combination 48/50\n",
      "Combination 49/50\n",
      "Combination 50/50\n",
      "done\n",
      "CPU times: user 3min 32s, sys: 25.3 s, total: 3min 58s\n",
      "Wall time: 2min 24s\n"
     ]
    }
   ],
   "source": [
    "%%time\n",
    "# Save accuracy on test set\n",
    "test_scores = []\n",
    "\n",
    "# Enumerate combinations starting from 1\n",
    "for i, params_dict in enumerate(grid, 1):\n",
    "    # Print progress\n",
    "    print('Combination {}/{}'.format(\n",
    "        i, len(grid) # Total number of combinations\n",
    "    ))\n",
    "    \n",
    "    # Set parameters\n",
    "    pipe.set_params(**params_dict)\n",
    "\n",
    "    # Fit a k-NN classifier on smaller train set\n",
    "    pipe.fit(X_tr2, y_tr2)\n",
    "    \n",
    "    # Save accuracy on train set\n",
    "    params_dict['accuracy_tr'] = pipe.score(X_tr2, y_tr2)\n",
    "\n",
    "    # Save accuracy on validation set\n",
    "    params_dict['accuracy_val'] = pipe.score(X_val, y_val)\n",
    "    \n",
    "    # Save result\n",
    "    test_scores.append(params_dict)\n",
    "    \n",
    "print('done')"
   ]
  },
  {
   "cell_type": "code",
   "execution_count": 7,
   "metadata": {},
   "outputs": [
    {
     "data": {
      "text/html": [
       "<div>\n",
       "<style scoped>\n",
       "    .dataframe tbody tr th:only-of-type {\n",
       "        vertical-align: middle;\n",
       "    }\n",
       "\n",
       "    .dataframe tbody tr th {\n",
       "        vertical-align: top;\n",
       "    }\n",
       "\n",
       "    .dataframe thead th {\n",
       "        text-align: right;\n",
       "    }\n",
       "</style>\n",
       "<table border=\"1\" class=\"dataframe\">\n",
       "  <thead>\n",
       "    <tr style=\"text-align: right;\">\n",
       "      <th></th>\n",
       "      <th>accuracy_tr</th>\n",
       "      <th>accuracy_val</th>\n",
       "      <th>knn__n_neighbors</th>\n",
       "    </tr>\n",
       "  </thead>\n",
       "  <tbody>\n",
       "    <tr>\n",
       "      <th>14</th>\n",
       "      <td>0.797813</td>\n",
       "      <td>0.77875</td>\n",
       "      <td>29</td>\n",
       "    </tr>\n",
       "    <tr>\n",
       "      <th>37</th>\n",
       "      <td>0.785312</td>\n",
       "      <td>0.77875</td>\n",
       "      <td>75</td>\n",
       "    </tr>\n",
       "    <tr>\n",
       "      <th>40</th>\n",
       "      <td>0.785312</td>\n",
       "      <td>0.77750</td>\n",
       "      <td>81</td>\n",
       "    </tr>\n",
       "    <tr>\n",
       "      <th>39</th>\n",
       "      <td>0.785625</td>\n",
       "      <td>0.77750</td>\n",
       "      <td>79</td>\n",
       "    </tr>\n",
       "    <tr>\n",
       "      <th>18</th>\n",
       "      <td>0.795937</td>\n",
       "      <td>0.77750</td>\n",
       "      <td>37</td>\n",
       "    </tr>\n",
       "    <tr>\n",
       "      <th>38</th>\n",
       "      <td>0.785312</td>\n",
       "      <td>0.77625</td>\n",
       "      <td>77</td>\n",
       "    </tr>\n",
       "    <tr>\n",
       "      <th>5</th>\n",
       "      <td>0.818125</td>\n",
       "      <td>0.77625</td>\n",
       "      <td>11</td>\n",
       "    </tr>\n",
       "    <tr>\n",
       "      <th>34</th>\n",
       "      <td>0.787188</td>\n",
       "      <td>0.77625</td>\n",
       "      <td>69</td>\n",
       "    </tr>\n",
       "    <tr>\n",
       "      <th>36</th>\n",
       "      <td>0.785312</td>\n",
       "      <td>0.77500</td>\n",
       "      <td>73</td>\n",
       "    </tr>\n",
       "    <tr>\n",
       "      <th>16</th>\n",
       "      <td>0.793125</td>\n",
       "      <td>0.77375</td>\n",
       "      <td>33</td>\n",
       "    </tr>\n",
       "  </tbody>\n",
       "</table>\n",
       "</div>"
      ],
      "text/plain": [
       "    accuracy_tr  accuracy_val  knn__n_neighbors\n",
       "14     0.797813       0.77875                29\n",
       "37     0.785312       0.77875                75\n",
       "40     0.785312       0.77750                81\n",
       "39     0.785625       0.77750                79\n",
       "18     0.795937       0.77750                37\n",
       "38     0.785312       0.77625                77\n",
       "5      0.818125       0.77625                11\n",
       "34     0.787188       0.77625                69\n",
       "36     0.785312       0.77500                73\n",
       "16     0.793125       0.77375                33"
      ]
     },
     "execution_count": 7,
     "metadata": {},
     "output_type": "execute_result"
    }
   ],
   "source": [
    "# Create DataFrame with test scores\n",
    "scores_df = pd.DataFrame(test_scores)\n",
    "\n",
    "# Print scores\n",
    "scores_df.sort_values(by='accuracy_val', ascending=False).head(10)"
   ]
  },
  {
   "cell_type": "code",
   "execution_count": 8,
   "metadata": {},
   "outputs": [
    {
     "data": {
      "image/png": "[encoded data removed]",
      "text/plain": [
       "<matplotlib.figure.Figure at 0x10dbcfc50>"
      ]
     },
     "metadata": {},
     "output_type": "display_data"
    }
   ],
   "source": [
    "# Plot train & validation curve\n",
    "%matplotlib inline\n",
    "import matplotlib.pyplot as plt\n",
    "plt.plot(scores_df.knn__n_neighbors, scores_df.accuracy_tr, label = 'train set')\n",
    "plt.plot(scores_df.knn__n_neighbors, scores_df.accuracy_val, label = 'validation set')\n",
    "plt.xlabel('n')\n",
    "plt.ylabel('accuracy')\n",
    "plt.legend()\n",
    "plt.show()"
   ]
  },
  {
   "cell_type": "code",
   "execution_count": 9,
   "metadata": {},
   "outputs": [
    {
     "name": "stdout",
     "output_type": "stream",
     "text": [
      "Number of combinations: 8\n"
     ]
    }
   ],
   "source": [
    "# Create k-NN classifier\n",
    "pipe = Pipeline([\n",
    "    ('scaler', StandardScaler()), # With standardization\n",
    "    ('pca', PCA()), # PCA preprocessing, number of components to retain 90% of the variance explained.\n",
    "    ('knn', KNeighborsClassifier(\n",
    "        algorithm='brute', # Brute-force search\n",
    "        n_jobs=-1 # As many parallel jobs as possible\n",
    "    ))])\n",
    "\n",
    "# grid search with best k value fixed\n",
    "grid = ParameterGrid({\n",
    "    'scaler': [None, StandardScaler()],\n",
    "    'pca' : [None, PCA(n_components=172)],\n",
    "    'knn__n_neighbors': [73], # set after a first grid search with only one parameter (k)\n",
    "    'knn__p': [1, 2], # L1 and L2 distance metrics\n",
    "})\n",
    "\n",
    "# Print the number of combinations\n",
    "print('Number of combinations:', len(grid))"
   ]
  },
  {
   "cell_type": "code",
   "execution_count": 10,
   "metadata": {
    "scrolled": true
   },
   "outputs": [
    {
     "name": "stdout",
     "output_type": "stream",
     "text": [
      "Combination 1/8\n",
      "Combination 2/8\n",
      "Combination 3/8\n",
      "Combination 4/8\n",
      "Combination 5/8\n",
      "Combination 6/8\n",
      "Combination 7/8\n",
      "Combination 8/8\n",
      "done\n"
     ]
    }
   ],
   "source": [
    "# Save accuracy on test set\n",
    "test_scores = []\n",
    "\n",
    "# Enumerate combinations starting from 1\n",
    "for i, params_dict in enumerate(grid, 1):\n",
    "    # Print progress\n",
    "    print('Combination {}/{}'.format(\n",
    "        i, len(grid) # Total number of combinations\n",
    "    ))\n",
    "    \n",
    "    # Set parameters\n",
    "    pipe.set_params(**params_dict)\n",
    "\n",
    "    # Fit a k-NN classifier on smaller train set\n",
    "    pipe.fit(X_tr2, y_tr2)\n",
    "    \n",
    "    # Save accuracy on train set\n",
    "    params_dict['accuracy_tr'] = pipe.score(X_tr2, y_tr2)\n",
    "\n",
    "    # Save accuracy on validation set\n",
    "    params_dict['accuracy_val'] = pipe.score(X_val, y_val)\n",
    "    \n",
    "    # Save result\n",
    "    test_scores.append(params_dict)\n",
    "    \n",
    "print('done')"
   ]
  },
  {
   "cell_type": "code",
   "execution_count": 11,
   "metadata": {
    "scrolled": true
   },
   "outputs": [
    {
     "data": {
      "text/html": [
       "<div>\n",
       "<style scoped>\n",
       "    .dataframe tbody tr th:only-of-type {\n",
       "        vertical-align: middle;\n",
       "    }\n",
       "\n",
       "    .dataframe tbody tr th {\n",
       "        vertical-align: top;\n",
       "    }\n",
       "\n",
       "    .dataframe thead th {\n",
       "        text-align: right;\n",
       "    }\n",
       "</style>\n",
       "<table border=\"1\" class=\"dataframe\">\n",
       "  <thead>\n",
       "    <tr style=\"text-align: right;\">\n",
       "      <th></th>\n",
       "      <th>accuracy_tr</th>\n",
       "      <th>accuracy_val</th>\n",
       "      <th>knn__n_neighbors</th>\n",
       "      <th>knn__p</th>\n",
       "      <th>pca</th>\n",
       "      <th>scaler</th>\n",
       "    </tr>\n",
       "  </thead>\n",
       "  <tbody>\n",
       "    <tr>\n",
       "      <th>6</th>\n",
       "      <td>0.786250</td>\n",
       "      <td>0.77500</td>\n",
       "      <td>73</td>\n",
       "      <td>2</td>\n",
       "      <td>PCA(copy=True, iterated_power='auto', n_compon...</td>\n",
       "      <td>None</td>\n",
       "    </tr>\n",
       "    <tr>\n",
       "      <th>1</th>\n",
       "      <td>0.784062</td>\n",
       "      <td>0.76750</td>\n",
       "      <td>73</td>\n",
       "      <td>1</td>\n",
       "      <td>None</td>\n",
       "      <td>StandardScaler(copy=True, with_mean=True, with...</td>\n",
       "    </tr>\n",
       "    <tr>\n",
       "      <th>7</th>\n",
       "      <td>0.788125</td>\n",
       "      <td>0.76750</td>\n",
       "      <td>73</td>\n",
       "      <td>2</td>\n",
       "      <td>PCA(copy=True, iterated_power='auto', n_compon...</td>\n",
       "      <td>StandardScaler(copy=True, with_mean=True, with...</td>\n",
       "    </tr>\n",
       "    <tr>\n",
       "      <th>0</th>\n",
       "      <td>0.785625</td>\n",
       "      <td>0.76625</td>\n",
       "      <td>73</td>\n",
       "      <td>1</td>\n",
       "      <td>None</td>\n",
       "      <td>None</td>\n",
       "    </tr>\n",
       "    <tr>\n",
       "      <th>4</th>\n",
       "      <td>0.786563</td>\n",
       "      <td>0.76250</td>\n",
       "      <td>73</td>\n",
       "      <td>2</td>\n",
       "      <td>None</td>\n",
       "      <td>None</td>\n",
       "    </tr>\n",
       "    <tr>\n",
       "      <th>5</th>\n",
       "      <td>0.786563</td>\n",
       "      <td>0.76000</td>\n",
       "      <td>73</td>\n",
       "      <td>2</td>\n",
       "      <td>None</td>\n",
       "      <td>StandardScaler(copy=True, with_mean=True, with...</td>\n",
       "    </tr>\n",
       "    <tr>\n",
       "      <th>2</th>\n",
       "      <td>0.781875</td>\n",
       "      <td>0.75750</td>\n",
       "      <td>73</td>\n",
       "      <td>1</td>\n",
       "      <td>PCA(copy=True, iterated_power='auto', n_compon...</td>\n",
       "      <td>None</td>\n",
       "    </tr>\n",
       "    <tr>\n",
       "      <th>3</th>\n",
       "      <td>0.779687</td>\n",
       "      <td>0.75625</td>\n",
       "      <td>73</td>\n",
       "      <td>1</td>\n",
       "      <td>PCA(copy=True, iterated_power='auto', n_compon...</td>\n",
       "      <td>StandardScaler(copy=True, with_mean=True, with...</td>\n",
       "    </tr>\n",
       "  </tbody>\n",
       "</table>\n",
       "</div>"
      ],
      "text/plain": [
       "   accuracy_tr  accuracy_val  knn__n_neighbors  knn__p  \\\n",
       "6     0.786250       0.77500                73       2   \n",
       "1     0.784062       0.76750                73       1   \n",
       "7     0.788125       0.76750                73       2   \n",
       "0     0.785625       0.76625                73       1   \n",
       "4     0.786563       0.76250                73       2   \n",
       "5     0.786563       0.76000                73       2   \n",
       "2     0.781875       0.75750                73       1   \n",
       "3     0.779687       0.75625                73       1   \n",
       "\n",
       "                                                 pca  \\\n",
       "6  PCA(copy=True, iterated_power='auto', n_compon...   \n",
       "1                                               None   \n",
       "7  PCA(copy=True, iterated_power='auto', n_compon...   \n",
       "0                                               None   \n",
       "4                                               None   \n",
       "5                                               None   \n",
       "2  PCA(copy=True, iterated_power='auto', n_compon...   \n",
       "3  PCA(copy=True, iterated_power='auto', n_compon...   \n",
       "\n",
       "                                              scaler  \n",
       "6                                               None  \n",
       "1  StandardScaler(copy=True, with_mean=True, with...  \n",
       "7  StandardScaler(copy=True, with_mean=True, with...  \n",
       "0                                               None  \n",
       "4                                               None  \n",
       "5  StandardScaler(copy=True, with_mean=True, with...  \n",
       "2                                               None  \n",
       "3  StandardScaler(copy=True, with_mean=True, with...  "
      ]
     },
     "execution_count": 11,
     "metadata": {},
     "output_type": "execute_result"
    }
   ],
   "source": [
    "# Create DataFrame with test scores\n",
    "scores_df = pd.DataFrame(test_scores)\n",
    "\n",
    "# Print scores\n",
    "scores_df.sort_values(by='accuracy_val', ascending=False).head(10)"
   ]
  },
  {
   "cell_type": "code",
   "execution_count": 12,
   "metadata": {},
   "outputs": [
    {
     "name": "stdout",
     "output_type": "stream",
     "text": [
      "Top accuracy on validation set: 0.775  with k: 73 and distance metric: 2\n"
     ]
    }
   ],
   "source": [
    "best = scores_df.sort_values(by='accuracy_val', ascending=False)[0:1]\n",
    "print('Top accuracy on validation set:', best.iloc[0,1], ' with k:', best.iloc[0,2],\n",
    "    'and distance metric:', best.iloc[0,3]\n",
    "      #, 'and PCA', best['pca'], 'and standardized', best['scaler']\n",
    "     )"
   ]
  },
  {
   "cell_type": "code",
   "execution_count": 13,
   "metadata": {},
   "outputs": [
    {
     "name": "stdout",
     "output_type": "stream",
     "text": [
      "K-NN accuracy on the test set: 0.765\n"
     ]
    }
   ],
   "source": [
    "# Create k-NN classifier with tuned parameters\n",
    "knn_best = KNeighborsClassifier(p= best.iloc[0,3], \n",
    "                                n_neighbors= best.iloc[0,2], \n",
    "                                algorithm='brute', \n",
    "                                n_jobs=-1)\n",
    "\n",
    "pipe = Pipeline([('scaler', None),\n",
    "                 ('pca', PCA(n_components=172)),\n",
    "                 ('knn', knn_best)])\n",
    "\n",
    "# Fit it to the entire train data\n",
    "pipe.fit(X_tr, y_tr)\n",
    "\n",
    "# evaluate its accuracy on the test set\n",
    "accuracy_best_knn = pipe.score(X_te, y_te)\n",
    "print ('K-NN accuracy on the test set: {:.3f}'.format(accuracy_best_knn))"
   ]
  },
  {
   "cell_type": "code",
   "execution_count": 19,
   "metadata": {},
   "outputs": [],
   "source": [
    "# save results\n",
    "import csv\n",
    "results = ['KNeighbors', accuracy_best_knn]\n",
    "with open(r'results.csv', 'a') as f:\n",
    "    writer = csv.writer(f)\n",
    "    writer.writerow(results)"
   ]
  },
  {
   "cell_type": "markdown",
   "metadata": {},
   "source": [
    "### Choose an image from the test set and plot its 10 nearest neighbors."
   ]
  },
  {
   "cell_type": "code",
   "execution_count": 15,
   "metadata": {},
   "outputs": [],
   "source": [
    "# Pick a random image from the test set\n",
    "import random\n",
    "rdm_num = random.randint(1,len(X_te))\n",
    "img = X_te[rdm_num].reshape(1, -1)\n",
    "\n",
    "#extract the PCA transformer and the KNeighborsClassifier estimator from your pipeline\n",
    "#Apply PCA to your test image \n",
    "img_pca = pipe.named_steps['pca'].transform(img)\n",
    "\n",
    "#pass the result to the kneighbors(X, n_neighbors) function of your k-NN estimator\n",
    "neighbors = pipe.named_steps['knn'].kneighbors(img_pca, 10)\n",
    "\n",
    "#Use the indexes to extract the pixels of the ten images from the matrix of pixels\n",
    "idx = np.ravel(neighbors[1])"
   ]
  },
  {
   "cell_type": "code",
   "execution_count": 16,
   "metadata": {},
   "outputs": [
    {
     "data": {
      "image/png": "[encoded data removed]",
      "text/plain": [
       "<matplotlib.figure.Figure at 0x1a2957bd30>"
      ]
     },
     "metadata": {},
     "output_type": "display_data"
    }
   ],
   "source": [
    "#and plot them with the imshow() function.\n",
    "# Plotting the original image\n",
    "flat_img = pixels[rdm_num]\n",
    "img = flat_img.reshape(32, 32, 3)\n",
    "plt.imshow(img)\n",
    "plt.title(names[labels[rdm_num]])\n",
    "plt.show()"
   ]
  },
  {
   "cell_type": "code",
   "execution_count": 17,
   "metadata": {},
   "outputs": [
    {
     "data": {
      "image/png": "[encoded data removed]",
      "text/plain": [
       "<matplotlib.figure.Figure at 0x1a2956be80>"
      ]
     },
     "metadata": {},
     "output_type": "display_data"
    },
    {
     "data": {
      "image/png": "[encoded data removed]",
      "text/plain": [
       "<matplotlib.figure.Figure at 0x1a2830af98>"
      ]
     },
     "metadata": {},
     "output_type": "display_data"
    },
    {
     "data": {
      "image/png": "[encoded data removed]",
      "text/plain": [
       "<matplotlib.figure.Figure at 0x1a29618ef0>"
      ]
     },
     "metadata": {},
     "output_type": "display_data"
    },
    {
     "data": {
      "image/png": "[encoded data removed]",
      "text/plain": [
       "<matplotlib.figure.Figure at 0x1a28666a20>"
      ]
     },
     "metadata": {},
     "output_type": "display_data"
    },
    {
     "data": {
      "image/png": "[encoded data removed]",
      "text/plain": [
       "<matplotlib.figure.Figure at 0x1a28743fd0>"
      ]
     },
     "metadata": {},
     "output_type": "display_data"
    },
    {
     "data": {
      "image/png": "[encoded data removed]",
      "text/plain": [
       "<matplotlib.figure.Figure at 0x1a28565f28>"
      ]
     },
     "metadata": {},
     "output_type": "display_data"
    },
    {
     "data": {
      "image/png": "[encoded data removed]",
      "text/plain": [
       "<matplotlib.figure.Figure at 0x1a2866b0f0>"
      ]
     },
     "metadata": {},
     "output_type": "display_data"
    },
    {
     "data": {
      "image/png": "[encoded data removed]",
      "text/plain": [
       "<matplotlib.figure.Figure at 0x1a2871ee80>"
      ]
     },
     "metadata": {},
     "output_type": "display_data"
    },
    {
     "data": {
      "image/png": "[encoded data removed]",
      "text/plain": [
       "<matplotlib.figure.Figure at 0x1a28666320>"
      ]
     },
     "metadata": {},
     "output_type": "display_data"
    },
    {
     "data": {
      "image/png": "[encoded data removed]",
      "text/plain": [
       "<matplotlib.figure.Figure at 0x1a28aeea90>"
      ]
     },
     "metadata": {},
     "output_type": "display_data"
    }
   ],
   "source": [
    "# Plotting its 10 neighrest neighbors from the train set\n",
    "for i, x in enumerate(idx):\n",
    "    flat_img = pixels[x, :]\n",
    "    img = flat_img.reshape(32, 32, 3)\n",
    "    plt.imshow(img)\n",
    "    plt.title(names[labels[x]])\n",
    "    plt.show()"
   ]
  },
  {
   "cell_type": "code",
   "execution_count": null,
   "metadata": {},
   "outputs": [],
   "source": []
  }
 ],
 "metadata": {
  "kernelspec": {
   "display_name": "Python 3",
   "language": "python",
   "name": "python3"
  },
  "language_info": {
   "codemirror_mode": {
    "name": "ipython",
    "version": 3
   },
   "file_extension": ".py",
   "mimetype": "text/x-python",
   "name": "python",
   "nbconvert_exporter": "python",
   "pygments_lexer": "ipython3",
   "version": "3.6.4"
  }
 },
 "nbformat": 4,
 "nbformat_minor": 2
}
